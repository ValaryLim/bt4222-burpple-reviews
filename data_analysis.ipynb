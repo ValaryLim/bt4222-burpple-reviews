{
 "cells": [
  {
   "cell_type": "markdown",
   "id": "floating-active",
   "metadata": {},
   "source": [
    "# Data Analysis / Insight Generation\n",
    "\n",
    "This notebook is a sample of how our sentiment analysis data can be used for downstream tasks to analyse restaurant performance from the perspective of the customers."
   ]
  },
  {
   "cell_type": "code",
   "execution_count": null,
   "id": "radio-wiring",
   "metadata": {},
   "outputs": [],
   "source": [
    "import numpy as np\n",
    "import pandas as pd\n",
    "import matplotlib.pyplot as plt\n",
    "import seaborn as sns"
   ]
  },
  {
   "cell_type": "code",
   "execution_count": null,
   "id": "expired-childhood",
   "metadata": {},
   "outputs": [],
   "source": [
    "df = pd.read_csv('data/pipeline/restaurants_final.csv')"
   ]
  },
  {
   "cell_type": "code",
   "execution_count": null,
   "id": "known-circus",
   "metadata": {},
   "outputs": [],
   "source": [
    "print(df.shape)\n",
    "df.head()"
   ]
  },
  {
   "cell_type": "code",
   "execution_count": null,
   "id": "literary-diagram",
   "metadata": {},
   "outputs": [],
   "source": [
    "print(df.columns)"
   ]
  },
  {
   "cell_type": "markdown",
   "id": "future-sunglasses",
   "metadata": {},
   "source": [
    "## Relative Importance of Aspects\n",
    "\n",
    "Hypothesis: Different aspects are mentioned at different frequencies and have a different distribution of sentiment scores, that suggests the relative importance of the various aspects identified."
   ]
  },
  {
   "cell_type": "code",
   "execution_count": null,
   "id": "super-festival",
   "metadata": {},
   "outputs": [],
   "source": [
    "ASPECTS = ['Overall', 'Food', 'Portion', 'Price', 'Time', 'Service', 'Ambience']\n",
    "rating_columns = [f'review_rating_{x.lower()}' for x in ASPECTS]"
   ]
  },
  {
   "cell_type": "code",
   "execution_count": null,
   "id": "unlimited-metro",
   "metadata": {},
   "outputs": [],
   "source": [
    "len(df)"
   ]
  },
  {
   "cell_type": "code",
   "execution_count": null,
   "id": "electric-option",
   "metadata": {},
   "outputs": [],
   "source": [
    "len(df) - df[rating_columns].isna().sum().sort_values()"
   ]
  },
  {
   "cell_type": "code",
   "execution_count": null,
   "id": "satellite-technology",
   "metadata": {},
   "outputs": [],
   "source": []
  },
  {
   "cell_type": "markdown",
   "id": "official-strap",
   "metadata": {},
   "source": [
    "## Sentiment Score by Cuisine\n",
    "\n",
    "Hypothesis: Different restaurant categories (cuisines) have a different distribution of sentiment scores. This may provide us with some insights on consumer tastes and preferences."
   ]
  },
  {
   "cell_type": "code",
   "execution_count": null,
   "id": "champion-investment",
   "metadata": {},
   "outputs": [],
   "source": [
    "CATEGORIES = ['Italian', 'Malay', 'Japanese', 'Chinese', 'Western', 'Korean',\\\n",
    "    'Thai', 'Vietnamese', 'Mexican', 'Indian', 'Local Delights', 'Desserts', \\\n",
    "    'Healthy', 'Cafes & Coffee', 'Halal', 'Beverages', 'Others']"
   ]
  },
  {
   "cell_type": "code",
   "execution_count": null,
   "id": "advanced-absolute",
   "metadata": {},
   "outputs": [],
   "source": [
    "COLUMNS = [f'{x}_Average' for x in ASPECTS]\n",
    "COLUMNS.insert(0, 'Count')\n",
    "COLUMNS.insert(0, 'Category')\n",
    "category_sentiment = pd.DataFrame(columns=COLUMNS)\n",
    "\n",
    "for category in CATEGORIES:\n",
    "    # filter rows in category\n",
    "    df_category = df.loc[df[category] == 1]\n",
    "    \n",
    "    new_row = {'Category': category, 'Count': len(df_category)}\n",
    "    \n",
    "    # get mean aspect score\n",
    "    for aspect in ASPECTS:\n",
    "        aspect_col = f'review_rating_{aspect.lower()}'\n",
    "        # remove NA\n",
    "        aspect_df = df_category.dropna(subset=[aspect_col])\n",
    "        new_row[f'{aspect}_Average'] = sum(aspect_df[aspect_col]) / len(aspect_df[aspect_col])\n",
    "        \n",
    "    category_sentiment = category_sentiment.append(new_row, ignore_index=True)"
   ]
  },
  {
   "cell_type": "code",
   "execution_count": null,
   "id": "demographic-count",
   "metadata": {},
   "outputs": [],
   "source": [
    "category_sentiment.sort_values(by=['Overall_Average'], ascending=False)"
   ]
  },
  {
   "cell_type": "markdown",
   "id": "enormous-optimization",
   "metadata": {},
   "source": [
    "## Sentiment Score across Chains\n",
    "\n",
    "Hypothesis: Different outlets from the same restaurant chain have similar sentiment scores, indicating a standard of quality across all outlets."
   ]
  },
  {
   "cell_type": "code",
   "execution_count": null,
   "id": "documented-personality",
   "metadata": {},
   "outputs": [],
   "source": [
    "# starbucks\n",
    "starbucks_df = df.loc[df['restaurant_code'].str.contains('starbucks')].reset_index(drop=True)\n",
    "\n",
    "print(len(starbucks_df))"
   ]
  },
  {
   "cell_type": "code",
   "execution_count": null,
   "id": "brilliant-commodity",
   "metadata": {},
   "outputs": [],
   "source": [
    "rating_df = starbucks_df[rating_columns].melt() # reshape\n",
    "\n",
    "plt.figure(figsize=(12, 6))\n",
    "sns.set_theme(style=\"darkgrid\")\n",
    "ax = sns.boxplot(x='variable', y='value', data=rating_df)\n",
    "ax.set_title('Boxplot of Sentiment Scores Across Starbucks Outlets', size=16)\n",
    "ax.set_xticklabels(ASPECTS)\n",
    "plt.show()"
   ]
  },
  {
   "cell_type": "code",
   "execution_count": null,
   "id": "found-treaty",
   "metadata": {},
   "outputs": [],
   "source": [
    "table = starbucks_df.describe()\n",
    "table"
   ]
  },
  {
   "cell_type": "code",
   "execution_count": null,
   "id": "brilliant-slovenia",
   "metadata": {},
   "outputs": [],
   "source": [
    "# find outliers in review_rating_overall\n",
    "# starbucks_df.loc[starbucks_df['review_rating_overall'] >= table.loc['75%', 'review_rating_overall']].sort_values(by=['review_rating_overall'], ascending=False)\n",
    "# starbucks_df.sort_values(by=['review_rating_overall'], ascending=False)\n",
    "starbucks_df.loc[starbucks_df['review_rating_overall'] >= 4.6].sort_values(by=['review_rating_overall'], ascending=False)[['restaurant_name', 'review_rating_overall']]"
   ]
  },
  {
   "cell_type": "code",
   "execution_count": null,
   "id": "juvenile-sender",
   "metadata": {},
   "outputs": [],
   "source": [
    "columns = ['restaurant_name']\n",
    "columns.extend(rating_columns)\n",
    "reserve = starbucks_df.loc[starbucks_df['restaurant_name'].str.lower().str.contains('reserve')][columns]\n",
    "columns = ['Name']\n",
    "columns.extend(ASPECTS)\n",
    "reserve.columns = columns\n",
    "reserve"
   ]
  },
  {
   "cell_type": "code",
   "execution_count": null,
   "id": "confident-three",
   "metadata": {},
   "outputs": [],
   "source": []
  }
 ],
 "metadata": {
  "kernelspec": {
   "display_name": "Python 3",
   "language": "python",
   "name": "python3"
  },
  "language_info": {
   "codemirror_mode": {
    "name": "ipython",
    "version": 3
   },
   "file_extension": ".py",
   "mimetype": "text/x-python",
   "name": "python",
   "nbconvert_exporter": "python",
   "pygments_lexer": "ipython3",
   "version": "3.8.5"
  }
 },
 "nbformat": 4,
 "nbformat_minor": 5
}
