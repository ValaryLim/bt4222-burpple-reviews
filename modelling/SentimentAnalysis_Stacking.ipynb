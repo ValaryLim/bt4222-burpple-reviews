{
 "cells": [
  {
   "cell_type": "markdown",
   "metadata": {},
   "source": [
    "### Read in predictions from all models"
   ]
  },
  {
   "cell_type": "code",
   "execution_count": 2,
   "metadata": {},
   "outputs": [],
   "source": [
    "import pandas as pd\n",
    "import numpy as np"
   ]
  },
  {
   "cell_type": "code",
   "execution_count": 3,
   "metadata": {
    "scrolled": false
   },
   "outputs": [
    {
     "output_type": "execute_result",
     "data": {
      "text/plain": [
       "   bert_prob_pos  bert_prob_neg  fasttext_prob_pos  fasttext_prob_neg  \\\n",
       "0       0.967741       0.005076           0.563547           0.214631   \n",
       "1       0.976611       0.005581           0.573885           0.212415   \n",
       "2       0.142880       0.464640           0.368451           0.287994   \n",
       "3       0.199171       0.040443           0.311945           0.353513   \n",
       "4       0.972743       0.005263           0.431019           0.244249   \n",
       "\n",
       "   logreg_prob_pos  logreg_prob_neg  NB_prob_pos  NB_prob_neg  RF_prob_pos  \\\n",
       "0         0.939938         0.004414     0.833302     0.006866     0.950000   \n",
       "1         0.998430         0.000544     0.823375     0.052906     0.940909   \n",
       "2         0.479545         0.127199     0.548471     0.098711     0.711548   \n",
       "3         0.172376         0.229518     0.043481     0.038845     0.319444   \n",
       "4         0.740021         0.065695     0.867578     0.029769     0.825000   \n",
       "\n",
       "   RF_prob_neg  SVM_prob_pos  SVM_prob_neg  VADER_prob_pos  VADER_prob_neg  \\\n",
       "0     0.000000      0.761402      0.014256           0.592           0.000   \n",
       "1     0.000000      0.884794      0.020397           1.000           0.000   \n",
       "2     0.251786      0.675172      0.081166           0.145           0.150   \n",
       "3     0.416667      0.600380      0.136811           0.154           0.203   \n",
       "4     0.000000      0.852314      0.023726           0.765           0.000   \n",
       "\n",
       "   label  \n",
       "0    1.0  \n",
       "1    1.0  \n",
       "2    0.0  \n",
       "3    1.0  \n",
       "4    1.0  "
      ],
      "text/html": "<div>\n<style scoped>\n    .dataframe tbody tr th:only-of-type {\n        vertical-align: middle;\n    }\n\n    .dataframe tbody tr th {\n        vertical-align: top;\n    }\n\n    .dataframe thead th {\n        text-align: right;\n    }\n</style>\n<table border=\"1\" class=\"dataframe\">\n  <thead>\n    <tr style=\"text-align: right;\">\n      <th></th>\n      <th>bert_prob_pos</th>\n      <th>bert_prob_neg</th>\n      <th>fasttext_prob_pos</th>\n      <th>fasttext_prob_neg</th>\n      <th>logreg_prob_pos</th>\n      <th>logreg_prob_neg</th>\n      <th>NB_prob_pos</th>\n      <th>NB_prob_neg</th>\n      <th>RF_prob_pos</th>\n      <th>RF_prob_neg</th>\n      <th>SVM_prob_pos</th>\n      <th>SVM_prob_neg</th>\n      <th>VADER_prob_pos</th>\n      <th>VADER_prob_neg</th>\n      <th>label</th>\n    </tr>\n  </thead>\n  <tbody>\n    <tr>\n      <th>0</th>\n      <td>0.967741</td>\n      <td>0.005076</td>\n      <td>0.563547</td>\n      <td>0.214631</td>\n      <td>0.939938</td>\n      <td>0.004414</td>\n      <td>0.833302</td>\n      <td>0.006866</td>\n      <td>0.950000</td>\n      <td>0.000000</td>\n      <td>0.761402</td>\n      <td>0.014256</td>\n      <td>0.592</td>\n      <td>0.000</td>\n      <td>1.0</td>\n    </tr>\n    <tr>\n      <th>1</th>\n      <td>0.976611</td>\n      <td>0.005581</td>\n      <td>0.573885</td>\n      <td>0.212415</td>\n      <td>0.998430</td>\n      <td>0.000544</td>\n      <td>0.823375</td>\n      <td>0.052906</td>\n      <td>0.940909</td>\n      <td>0.000000</td>\n      <td>0.884794</td>\n      <td>0.020397</td>\n      <td>1.000</td>\n      <td>0.000</td>\n      <td>1.0</td>\n    </tr>\n    <tr>\n      <th>2</th>\n      <td>0.142880</td>\n      <td>0.464640</td>\n      <td>0.368451</td>\n      <td>0.287994</td>\n      <td>0.479545</td>\n      <td>0.127199</td>\n      <td>0.548471</td>\n      <td>0.098711</td>\n      <td>0.711548</td>\n      <td>0.251786</td>\n      <td>0.675172</td>\n      <td>0.081166</td>\n      <td>0.145</td>\n      <td>0.150</td>\n      <td>0.0</td>\n    </tr>\n    <tr>\n      <th>3</th>\n      <td>0.199171</td>\n      <td>0.040443</td>\n      <td>0.311945</td>\n      <td>0.353513</td>\n      <td>0.172376</td>\n      <td>0.229518</td>\n      <td>0.043481</td>\n      <td>0.038845</td>\n      <td>0.319444</td>\n      <td>0.416667</td>\n      <td>0.600380</td>\n      <td>0.136811</td>\n      <td>0.154</td>\n      <td>0.203</td>\n      <td>1.0</td>\n    </tr>\n    <tr>\n      <th>4</th>\n      <td>0.972743</td>\n      <td>0.005263</td>\n      <td>0.431019</td>\n      <td>0.244249</td>\n      <td>0.740021</td>\n      <td>0.065695</td>\n      <td>0.867578</td>\n      <td>0.029769</td>\n      <td>0.825000</td>\n      <td>0.000000</td>\n      <td>0.852314</td>\n      <td>0.023726</td>\n      <td>0.765</td>\n      <td>0.000</td>\n      <td>1.0</td>\n    </tr>\n  </tbody>\n</table>\n</div>"
     },
     "metadata": {},
     "execution_count": 3
    }
   ],
   "source": [
    "models = [\"BERT\",\"fasttext\", \"logreg\", \"NB\", \"RF\", \"SVM\",\"VADER\"]\n",
    "meta_model_train = pd.DataFrame()\n",
    "meta_model_test = pd.DataFrame()\n",
    "meta_model_fold_1 = pd.DataFrame()\n",
    "meta_model_fold_2 = pd.DataFrame()\n",
    "meta_model_fold_3 = pd.DataFrame()\n",
    "meta_model_fold_4 = pd.DataFrame()\n",
    "meta_model_fold_5 = pd.DataFrame()\n",
    "\n",
    "for model in models:\n",
    "    fold1pred = pd.read_csv(f'fold_predictions/{model}/{model}_fold1.csv')\n",
    "    meta_model_fold_1 = pd.concat([meta_model_fold_1,fold1pred], axis=1)\n",
    "    \n",
    "    fold2pred = pd.read_csv(f'fold_predictions/{model}/{model}_fold2.csv')\n",
    "    meta_model_fold_2 = pd.concat([meta_model_fold_2,fold2pred], axis=1)\n",
    "\n",
    "    fold3pred = pd.read_csv(f'fold_predictions/{model}/{model}_fold3.csv')\n",
    "    meta_model_fold_3 = pd.concat([meta_model_fold_3,fold3pred], axis=1)\n",
    "\n",
    "    fold4pred = pd.read_csv(f'fold_predictions/{model}/{model}_fold4.csv')\n",
    "    meta_model_fold_4 = pd.concat([meta_model_fold_4,fold4pred], axis=1)\n",
    "\n",
    "    fold5pred = pd.read_csv(f'fold_predictions/{model}/{model}_fold5.csv')    \n",
    "    meta_model_fold_5 = pd.concat([meta_model_fold_5,fold5pred], axis=1)\n",
    "\n",
    "    all_pred_train = pd.concat([fold1pred,fold2pred,fold3pred,fold4pred,fold5pred],axis = 0)\n",
    "    meta_model_train = pd.concat([meta_model_train,all_pred_train], axis=1)\n",
    "    \n",
    "    testpred = pd.read_csv(f'fold_predictions/{model}/{model}_test.csv')\n",
    "    meta_model_test = pd.concat([meta_model_test,testpred], axis=1)\n",
    "\n",
    "    \n",
    "data = [meta_model_fold_1,meta_model_fold_2,meta_model_fold_3,meta_model_fold_4,meta_model_fold_5,meta_model_train]\n",
    "meta_model_train.head()\n"
   ]
  },
  {
   "cell_type": "markdown",
   "metadata": {},
   "source": [
    "# Modelling"
   ]
  },
  {
   "cell_type": "code",
   "execution_count": 4,
   "metadata": {},
   "outputs": [],
   "source": [
    "import pandas as pd\n",
    "pd.set_option('display.max_rows', 100)\n",
    "import numpy as np\n",
    "import utils\n",
    "\n",
    "from sklearn.feature_extraction.text import CountVectorizer \n",
    "import re\n",
    "from tqdm import tqdm\n",
    "\n",
    "from sklearn.model_selection import ParameterGrid\n",
    "\n",
    "from sklearn.dummy import DummyClassifier\n",
    "from sklearn.svm import SVC\n",
    "from sklearn.naive_bayes import MultinomialNB\n",
    "from sklearn.linear_model import LogisticRegression\n",
    "from sklearn.ensemble import RandomForestClassifier\n",
    "\n",
    "from sklearn.metrics import classification_report, f1_score, precision_score, recall_score, accuracy_score\n",
    "\n",
    "import warnings\n",
    "warnings.filterwarnings(\"ignore\")"
   ]
  },
  {
   "cell_type": "code",
   "execution_count": 5,
   "metadata": {},
   "outputs": [],
   "source": [
    "# logistic regression\n",
    "logreg_params = {\n",
    "    \"C\": [0.1, 0.5, 1.0, 1.5, 5],\n",
    "    \"solver\": [\"lbfgs\", \"newton-cg\"],\n",
    "    \"penalty\": [\"l2\", \"none\"],\n",
    "    \"class_weight\": [\"balanced\", None] \n",
    "}\n",
    "logreg_paramgrid = list(ParameterGrid(logreg_params))"
   ]
  },
  {
   "cell_type": "code",
   "execution_count": 6,
   "metadata": {},
   "outputs": [],
   "source": [
    "# naive bayes\n",
    "nb_params = {\n",
    "    \"alpha\": [0, 0.001, 0.01, 0.1, 0.25, 0.5, 1]\n",
    "}\n",
    "nb_paramgrid = list(ParameterGrid(nb_params))"
   ]
  },
  {
   "cell_type": "code",
   "execution_count": 7,
   "metadata": {},
   "outputs": [],
   "source": [
    "# svm\n",
    "svm_params = {\n",
    "    \"C\": [0.1, 0.5, 1.0, 1.5, 5],\n",
    "    \"kernel\": [\"poly\", \"rbf\", \"sigmoid\"],\n",
    "    \"gamma\": [\"scale\", \"auto\"],\n",
    "    \"class_weight\": [\"balanced\", None] \n",
    "}\n",
    "\n",
    "svm_paramgrid = list(ParameterGrid(svm_params))"
   ]
  },
  {
   "cell_type": "code",
   "execution_count": 8,
   "metadata": {},
   "outputs": [],
   "source": [
    "rf_params = [\n",
    "    {\n",
    "        \"criterion\": [\"gini\", \"entropy\"],\n",
    "        \"min_samples_split\": [2, 5, 10],\n",
    "        \"class_weight\": [\"balanced\", \"balanced_subsample\", None],\n",
    "        \"max_features\": [\"auto\",\"sqrt\"],\n",
    "        \"min_samples_leaf\": [1, 2, 4]\n",
    "    }\n",
    "]\n",
    "\n",
    "rf_paramgrid = list(ParameterGrid(rf_params))"
   ]
  },
  {
   "cell_type": "code",
   "execution_count": 9,
   "metadata": {},
   "outputs": [],
   "source": [
    "dummy_params = { \"strategy\": [\"prior\"] }\n",
    "dummy_paramgrid = list(ParameterGrid(dummy_params))"
   ]
  },
  {
   "cell_type": "code",
   "execution_count": null,
   "metadata": {},
   "outputs": [],
   "source": []
  },
  {
   "cell_type": "markdown",
   "metadata": {},
   "source": [
    "# Grid Search "
   ]
  },
  {
   "cell_type": "markdown",
   "metadata": {},
   "source": [
    "### Logistic Regression/NB/SVM/DummyClassifier"
   ]
  },
  {
   "cell_type": "code",
   "execution_count": 10,
   "metadata": {},
   "outputs": [],
   "source": [
    "def models_grid_search(model_name, model_fn, model_paramgrid,data, test) : \n",
    "    ind = 0 \n",
    "    gridsearch_results = []      \n",
    "    \n",
    "    # train models\n",
    "    for model_param in model_paramgrid:\n",
    "\n",
    "        # 5 fold cross val\n",
    "        val_accuracy = []\n",
    "        val_f1_weighted = []\n",
    "        val_f1_neg = []\n",
    "        val_f1_zero = []\n",
    "        val_f1_pos = []\n",
    "    \n",
    "        test_accuracy = []\n",
    "        test_f1_weighted = []\n",
    "        test_f1_neg = []\n",
    "        test_f1_zero = []\n",
    "        test_f1_pos = []\n",
    "        \n",
    "        for i in range(5):\n",
    "            print(f\"fold {i}\")\n",
    "            train_set = pd.DataFrame()\n",
    "            for x in range(5):\n",
    "                if i != x :\n",
    "                    train_set = pd.concat([train_set,data[x]],axis=0)\n",
    "            val_set = data[i]\n",
    "            test_set = test\n",
    "            trainval_set = data[5]\n",
    "\n",
    "            train_label = train_set.label\n",
    "            val_label = val_set.label\n",
    "            test_label = test_set.label\n",
    "            trainval_label = trainval_set.label\n",
    "\n",
    "            # train on train model test on val\n",
    "            model = model_fn(**model_param)\n",
    "            model.fit(train_set.iloc[:,:-1], train_label)\n",
    "            val_pred = model.predict(val_set.iloc[:,:-1])\n",
    "            # scoring\n",
    "            val_metrics = classification_report(val_label, val_pred, output_dict=True)\n",
    "            val_accuracy.append(val_metrics[\"accuracy\"])\n",
    "            val_f1_weighted.append(val_metrics[\"weighted avg\"][\"f1-score\"])\n",
    "            val_f1_neg.append(val_metrics[\"-1.0\"][\"f1-score\"])\n",
    "            val_f1_zero.append(val_metrics[\"0.0\"][\"f1-score\"])\n",
    "            val_f1_pos.append(val_metrics[\"1.0\"][\"f1-score\"])\n",
    "\n",
    "            # train on train_val model test on test\n",
    "            model = model_fn(**model_param)\n",
    "            model.fit(trainval_set.iloc[:,:-1], trainval_label)\n",
    "            test_pred = model.predict(test_set.iloc[:,:-1])\n",
    "\n",
    "            # scoring\n",
    "            test_metrics = classification_report(test_label, test_pred, output_dict=True)\n",
    "            test_accuracy.append(test_metrics[\"accuracy\"])\n",
    "            test_f1_weighted.append(test_metrics[\"weighted avg\"][\"f1-score\"])\n",
    "            test_f1_neg.append(test_metrics[\"-1.0\"][\"f1-score\"])\n",
    "            test_f1_zero.append(test_metrics[\"0.0\"][\"f1-score\"])\n",
    "            test_f1_pos.append(test_metrics[\"1.0\"][\"f1-score\"])\n",
    "\n",
    "        results = { \"model\": model_name }\n",
    "        results.update(model_param)\n",
    "        results.update({\"val_f1_weighted\": np.mean(val_f1_weighted), \"val_f1_neg\": np.mean(val_f1_neg), \n",
    "                        \"val_f1_zero\": np.mean(val_f1_zero), \"val_f1_pos\": np.mean(val_f1_pos),\n",
    "                        \"val_accuracy\": np.mean(val_accuracy)})\n",
    "        results.update({\"test_f1_weighted\": np.mean(test_f1_weighted), \"test_f1_neg\": np.mean(test_f1_neg), \n",
    "                        \"test_f1_zero\": np.mean(test_f1_zero), \"test_f1_pos\": np.mean(test_f1_pos),\n",
    "                        \"test_accuracy\": np.mean(test_accuracy)})\n",
    "        print(results)\n",
    "        gridsearch_results.append(results)\n",
    "        ind += 1\n",
    "    return gridsearch_results\n",
    "        "
   ]
  },
  {
   "cell_type": "code",
   "execution_count": 11,
   "metadata": {
    "tags": [
     "outputPrepend"
    ]
   },
   "outputs": [
    {
     "output_type": "stream",
     "name": "stdout",
     "text": [
      "151942, 'val_f1_neg': 0.6820185793818586, 'val_f1_zero': 0.7560752762056623, 'val_f1_pos': 0.8512163969307085, 'val_accuracy': 0.7951935148295707, 'test_f1_weighted': 0.780176896049158, 'test_f1_neg': 0.6564102564102564, 'test_f1_zero': 0.7174348697394789, 'test_f1_pos': 0.838785046728972, 'test_accuracy': 0.7767741935483871}\n",
      "fold 0\n",
      "fold 1\n",
      "fold 2\n",
      "fold 3\n",
      "fold 4\n",
      "{'model': 'svm', 'C': 0.5, 'class_weight': None, 'gamma': 'scale', 'kernel': 'sigmoid', 'val_f1_weighted': 0.3397153938783571, 'val_f1_neg': 0.305178336778147, 'val_f1_zero': 0.2510658981019434, 'val_f1_pos': 0.4138239711092389, 'val_accuracy': 0.3489274141529121, 'test_f1_weighted': 0.4014242288371584, 'test_f1_neg': 0.2885085574572127, 'test_f1_zero': 0.30985915492957744, 'test_f1_pos': 0.4714119019836639, 'test_accuracy': 0.3935483870967742}\n",
      "fold 0\n",
      "fold 1\n",
      "fold 2\n",
      "fold 3\n",
      "fold 4\n",
      "{'model': 'svm', 'C': 0.5, 'class_weight': None, 'gamma': 'auto', 'kernel': 'poly', 'val_f1_weighted': 0.6720126335331523, 'val_f1_neg': 0.3040642177676838, 'val_f1_zero': 0.6891725214486125, 'val_f1_pos': 0.761140900303146, 'val_accuracy': 0.6887271453867071, 'test_f1_weighted': 0.6569834340039882, 'test_f1_neg': 0.3538461538461538, 'test_f1_zero': 0.6076335877862595, 'test_f1_pos': 0.7503267973856209, 'test_accuracy': 0.6567741935483871}\n",
      "fold 0\n",
      "fold 1\n",
      "fold 2\n",
      "fold 3\n",
      "fold 4\n",
      "{'model': 'svm', 'C': 0.5, 'class_weight': None, 'gamma': 'auto', 'kernel': 'rbf', 'val_f1_weighted': 0.7914740011036148, 'val_f1_neg': 0.6843507309387528, 'val_f1_zero': 0.7516384409825989, 'val_f1_pos': 0.8476695380325033, 'val_accuracy': 0.7919895718712452, 'test_f1_weighted': 0.7654662646833965, 'test_f1_neg': 0.6391752577319588, 'test_f1_zero': 0.6944444444444444, 'test_f1_pos': 0.8286384976525822, 'test_accuracy': 0.7612903225806451}\n",
      "fold 0\n",
      "fold 1\n",
      "fold 2\n",
      "fold 3\n",
      "fold 4\n",
      "{'model': 'svm', 'C': 0.5, 'class_weight': None, 'gamma': 'auto', 'kernel': 'sigmoid', 'val_f1_weighted': 0.7893250520898831, 'val_f1_neg': 0.6774824057184865, 'val_f1_zero': 0.7493346089857098, 'val_f1_pos': 0.8466904526745985, 'val_accuracy': 0.7899840226396003, 'test_f1_weighted': 0.7666572881385079, 'test_f1_neg': 0.6391752577319588, 'test_f1_zero': 0.6958250497017893, 'test_f1_pos': 0.8300117233294257, 'test_accuracy': 0.7625806451612903}\n",
      "fold 0\n",
      "fold 1\n",
      "fold 2\n",
      "fold 3\n",
      "fold 4\n",
      "{'model': 'svm', 'C': 1.0, 'class_weight': 'balanced', 'gamma': 'scale', 'kernel': 'poly', 'val_f1_weighted': 0.7871283490685906, 'val_f1_neg': 0.673510897867017, 'val_f1_zero': 0.7516848139191545, 'val_f1_pos': 0.840591671711476, 'val_accuracy': 0.7849880541326756, 'test_f1_weighted': 0.7775399321766273, 'test_f1_neg': 0.6792452830188679, 'test_f1_zero': 0.7089108910891089, 'test_f1_pos': 0.8331332533013205, 'test_accuracy': 0.7716129032258064}\n",
      "fold 0\n",
      "fold 1\n",
      "fold 2\n",
      "fold 3\n",
      "fold 4\n",
      "{'model': 'svm', 'C': 1.0, 'class_weight': 'balanced', 'gamma': 'scale', 'kernel': 'rbf', 'val_f1_weighted': 0.7965496635272048, 'val_f1_neg': 0.7008875238421284, 'val_f1_zero': 0.756911173149135, 'val_f1_pos': 0.8484689921664691, 'val_accuracy': 0.7950078321634099, 'test_f1_weighted': 0.7845606189907264, 'test_f1_neg': 0.7053571428571429, 'test_f1_zero': 0.7160493827160493, 'test_f1_pos': 0.8357142857142856, 'test_accuracy': 0.7793548387096774}\n",
      "fold 0\n",
      "fold 1\n",
      "fold 2\n",
      "fold 3\n",
      "fold 4\n",
      "{'model': 'svm', 'C': 1.0, 'class_weight': 'balanced', 'gamma': 'scale', 'kernel': 'sigmoid', 'val_f1_weighted': 0.32697420882809614, 'val_f1_neg': 0.29867381127139225, 'val_f1_zero': 0.2943677782784362, 'val_f1_pos': 0.35571881438264885, 'val_accuracy': 0.3244806456712831, 'test_f1_weighted': 0.37803080968615205, 'test_f1_neg': 0.29795918367346935, 'test_f1_zero': 0.34265734265734266, 'test_f1_pos': 0.41343669250646, 'test_accuracy': 0.3638709677419355}\n",
      "fold 0\n",
      "fold 1\n",
      "fold 2\n",
      "fold 3\n",
      "fold 4\n",
      "{'model': 'svm', 'C': 1.0, 'class_weight': 'balanced', 'gamma': 'auto', 'kernel': 'poly', 'val_f1_weighted': 0.7172159249452833, 'val_f1_neg': 0.5535291343425314, 'val_f1_zero': 0.707965699940537, 'val_f1_pos': 0.7662898481887223, 'val_accuracy': 0.7186136090558402, 'test_f1_weighted': 0.6798847056259294, 'test_f1_neg': 0.47058823529411764, 'test_f1_zero': 0.6232114467408585, 'test_f1_pos': 0.7552083333333334, 'test_accuracy': 0.6735483870967742}\n",
      "fold 0\n",
      "fold 1\n",
      "fold 2\n",
      "fold 3\n",
      "fold 4\n",
      "{'model': 'svm', 'C': 1.0, 'class_weight': 'balanced', 'gamma': 'auto', 'kernel': 'rbf', 'val_f1_weighted': 0.795582110203274, 'val_f1_neg': 0.6926641428399399, 'val_f1_zero': 0.7575656595112266, 'val_f1_pos': 0.8480378956279365, 'val_accuracy': 0.7945482830582433, 'test_f1_weighted': 0.7790916438423033, 'test_f1_neg': 0.6976744186046513, 'test_f1_zero': 0.7113821138211383, 'test_f1_pos': 0.8303677342823251, 'test_accuracy': 0.7741935483870968}\n",
      "fold 0\n",
      "fold 1\n",
      "fold 2\n",
      "fold 3\n",
      "fold 4\n",
      "{'model': 'svm', 'C': 1.0, 'class_weight': 'balanced', 'gamma': 'auto', 'kernel': 'sigmoid', 'val_f1_weighted': 0.7916706348413699, 'val_f1_neg': 0.6872548031301459, 'val_f1_zero': 0.7529393982739994, 'val_f1_pos': 0.8455896824380046, 'val_accuracy': 0.7908348036425725, 'test_f1_weighted': 0.7740685323484382, 'test_f1_neg': 0.676056338028169, 'test_f1_zero': 0.7058823529411765, 'test_f1_pos': 0.8293838862559241, 'test_accuracy': 0.7690322580645161}\n",
      "fold 0\n",
      "fold 1\n",
      "fold 2\n",
      "fold 3\n",
      "fold 4\n",
      "{'model': 'svm', 'C': 1.0, 'class_weight': None, 'gamma': 'scale', 'kernel': 'poly', 'val_f1_weighted': 0.7931329380293451, 'val_f1_neg': 0.6800517654377704, 'val_f1_zero': 0.7583548286393442, 'val_f1_pos': 0.8468120763054239, 'val_accuracy': 0.7933253241004236, 'test_f1_weighted': 0.7682864381500094, 'test_f1_neg': 0.6338797814207651, 'test_f1_zero': 0.6984732824427481, 'test_f1_pos': 0.8327402135231315, 'test_accuracy': 0.7638709677419355}\n",
      "fold 0\n",
      "fold 1\n",
      "fold 2\n",
      "fold 3\n",
      "fold 4\n",
      "{'model': 'svm', 'C': 1.0, 'class_weight': None, 'gamma': 'scale', 'kernel': 'rbf', 'val_f1_weighted': 0.7950591523411321, 'val_f1_neg': 0.6907044180263219, 'val_f1_zero': 0.75484654683874, 'val_f1_pos': 0.8506094295249701, 'val_accuracy': 0.7956498766837413, 'test_f1_weighted': 0.7781296579149968, 'test_f1_neg': 0.6564102564102564, 'test_f1_zero': 0.7117296222664016, 'test_f1_pos': 0.8380281690140844, 'test_accuracy': 0.7741935483870968}\n",
      "fold 0\n",
      "fold 1\n",
      "fold 2\n",
      "fold 3\n",
      "fold 4\n",
      "{'model': 'svm', 'C': 1.0, 'class_weight': None, 'gamma': 'scale', 'kernel': 'sigmoid', 'val_f1_weighted': 0.3365364149181219, 'val_f1_neg': 0.3041376495812308, 'val_f1_zero': 0.241986816899526, 'val_f1_pos': 0.4144110976135428, 'val_accuracy': 0.3469202839435907, 'test_f1_weighted': 0.39621191375942466, 'test_f1_neg': 0.28365384615384615, 'test_f1_zero': 0.3010752688172043, 'test_f1_pos': 0.4678362573099416, 'test_accuracy': 0.38838709677419353}\n",
      "fold 0\n",
      "fold 1\n",
      "fold 2\n",
      "fold 3\n",
      "fold 4\n",
      "{'model': 'svm', 'C': 1.0, 'class_weight': None, 'gamma': 'auto', 'kernel': 'poly', 'val_f1_weighted': 0.7074649494535523, 'val_f1_neg': 0.4205922766247232, 'val_f1_zero': 0.7065904480294745, 'val_f1_pos': 0.7872583349289982, 'val_accuracy': 0.7168270568519572, 'test_f1_weighted': 0.674876257734296, 'test_f1_neg': 0.36496350364963503, 'test_f1_zero': 0.6246056782334385, 'test_f1_pos': 0.7702182284980745, 'test_accuracy': 0.6748387096774193}\n",
      "fold 0\n",
      "fold 1\n",
      "fold 2\n",
      "fold 3\n",
      "fold 4\n",
      "{'model': 'svm', 'C': 1.0, 'class_weight': None, 'gamma': 'auto', 'kernel': 'rbf', 'val_f1_weighted': 0.7914572486165652, 'val_f1_neg': 0.6830569303996692, 'val_f1_zero': 0.7524671406161969, 'val_f1_pos': 0.8473368976998632, 'val_accuracy': 0.7919895718712452, 'test_f1_weighted': 0.7654662646833965, 'test_f1_neg': 0.6391752577319588, 'test_f1_zero': 0.6944444444444444, 'test_f1_pos': 0.8286384976525822, 'test_accuracy': 0.7612903225806451}\n",
      "fold 0\n",
      "fold 1\n",
      "fold 2\n",
      "fold 3\n",
      "fold 4\n",
      "{'model': 'svm', 'C': 1.0, 'class_weight': None, 'gamma': 'auto', 'kernel': 'sigmoid', 'val_f1_weighted': 0.7914123224712766, 'val_f1_neg': 0.6843507309387528, 'val_f1_zero': 0.7518691086838462, 'val_f1_pos': 0.8474890127897374, 'val_accuracy': 0.7920078321634099, 'test_f1_weighted': 0.765598187247556, 'test_f1_neg': 0.6461538461538462, 'test_f1_zero': 0.6944444444444444, 'test_f1_pos': 0.827262044653349, 'test_accuracy': 0.7612903225806451}\n",
      "fold 0\n",
      "fold 1\n",
      "fold 2\n",
      "fold 3\n",
      "fold 4\n",
      "{'model': 'svm', 'C': 1.5, 'class_weight': 'balanced', 'gamma': 'scale', 'kernel': 'poly', 'val_f1_weighted': 0.7906266945754379, 'val_f1_neg': 0.6848400565239732, 'val_f1_zero': 0.754615849418029, 'val_f1_pos': 0.8423795095804116, 'val_accuracy': 0.7886618510086637, 'test_f1_weighted': 0.7740314767636142, 'test_f1_neg': 0.6728971962616823, 'test_f1_zero': 0.7023809523809523, 'test_f1_pos': 0.8317307692307692, 'test_accuracy': 0.7677419354838709}\n",
      "fold 0\n",
      "fold 1\n",
      "fold 2\n",
      "fold 3\n",
      "fold 4\n",
      "{'model': 'svm', 'C': 1.5, 'class_weight': 'balanced', 'gamma': 'scale', 'kernel': 'rbf', 'val_f1_weighted': 0.7948638187367955, 'val_f1_neg': 0.7012759495351777, 'val_f1_zero': 0.7540247295142559, 'val_f1_pos': 0.8472991547167572, 'val_accuracy': 0.7934141813697589, 'test_f1_weighted': 0.784368594855318, 'test_f1_neg': 0.7149321266968327, 'test_f1_zero': 0.7157464212678936, 'test_f1_pos': 0.8333333333333334, 'test_accuracy': 0.7793548387096774}\n",
      "fold 0\n",
      "fold 1\n",
      "fold 2\n",
      "fold 3\n",
      "fold 4\n",
      "{'model': 'svm', 'C': 1.5, 'class_weight': 'balanced', 'gamma': 'scale', 'kernel': 'sigmoid', 'val_f1_weighted': 0.31606265010541434, 'val_f1_neg': 0.31244633262861504, 'val_f1_zero': 0.2614787913988922, 'val_f1_pos': 0.3547719409922736, 'val_accuracy': 0.31887589641434266, 'test_f1_weighted': 0.36802016834277046, 'test_f1_neg': 0.29317269076305225, 'test_f1_zero': 0.30935251798561153, 'test_f1_pos': 0.41343669250646, 'test_accuracy': 0.3561290322580645}\n",
      "fold 0\n",
      "fold 1\n",
      "fold 2\n",
      "fold 3\n",
      "fold 4\n",
      "{'model': 'svm', 'C': 1.5, 'class_weight': 'balanced', 'gamma': 'auto', 'kernel': 'poly', 'val_f1_weighted': 0.731851275067201, 'val_f1_neg': 0.5892746270589663, 'val_f1_zero': 0.7170797809905033, 'val_f1_pos': 0.7796593549891467, 'val_accuracy': 0.7322651457661418, 'test_f1_weighted': 0.6989838709370182, 'test_f1_neg': 0.5508982035928144, 'test_f1_zero': 0.6360655737704918, 'test_f1_pos': 0.7632600258732212, 'test_accuracy': 0.6903225806451613}\n",
      "fold 0\n",
      "fold 1\n",
      "fold 2\n",
      "fold 3\n",
      "fold 4\n",
      "{'model': 'svm', 'C': 1.5, 'class_weight': 'balanced', 'gamma': 'auto', 'kernel': 'rbf', 'val_f1_weighted': 0.7960576663233925, 'val_f1_neg': 0.6963009362808767, 'val_f1_zero': 0.7582494258322605, 'val_f1_pos': 0.8474238194777083, 'val_accuracy': 0.7949617751217352, 'test_f1_weighted': 0.7803483799049169, 'test_f1_neg': 0.7058823529411765, 'test_f1_zero': 0.7119341563786009, 'test_f1_pos': 0.8303677342823251, 'test_accuracy': 0.775483870967742}\n",
      "fold 0\n",
      "fold 1\n",
      "fold 2\n",
      "fold 3\n",
      "fold 4\n",
      "{'model': 'svm', 'C': 1.5, 'class_weight': 'balanced', 'gamma': 'auto', 'kernel': 'sigmoid', 'val_f1_weighted': 0.7925469948584017, 'val_f1_neg': 0.6923452288537671, 'val_f1_zero': 0.7533617275694385, 'val_f1_pos': 0.8454626078693723, 'val_accuracy': 0.791668136975906, 'test_f1_weighted': 0.7752818614769169, 'test_f1_neg': 0.676056338028169, 'test_f1_zero': 0.7073170731707317, 'test_f1_pos': 0.8307692307692307, 'test_accuracy': 0.7703225806451612}\n",
      "fold 0\n",
      "fold 1\n",
      "fold 2\n",
      "fold 3\n",
      "fold 4\n",
      "{'model': 'svm', 'C': 1.5, 'class_weight': None, 'gamma': 'scale', 'kernel': 'poly', 'val_f1_weighted': 0.792837389332712, 'val_f1_neg': 0.6733602479104164, 'val_f1_zero': 0.758966294684773, 'val_f1_pos': 0.8466573847350741, 'val_accuracy': 0.7929213558464554, 'test_f1_weighted': 0.768199808408904, 'test_f1_neg': 0.6304347826086957, 'test_f1_zero': 0.6998087954110899, 'test_f1_pos': 0.8327402135231315, 'test_accuracy': 0.7638709677419355}\n",
      "fold 0\n",
      "fold 1\n",
      "fold 2\n",
      "fold 3\n",
      "fold 4\n",
      "{'model': 'svm', 'C': 1.5, 'class_weight': None, 'gamma': 'scale', 'kernel': 'rbf', 'val_f1_weighted': 0.7962452025266717, 'val_f1_neg': 0.6926080239288013, 'val_f1_zero': 0.7562872558518926, 'val_f1_pos': 0.8514837043274517, 'val_accuracy': 0.7968435401252133, 'test_f1_weighted': 0.7804467276069602, 'test_f1_neg': 0.6666666666666667, 'test_f1_zero': 0.7142857142857142, 'test_f1_pos': 0.838407494145199, 'test_accuracy': 0.7767741935483871}\n",
      "fold 0\n",
      "fold 1\n",
      "fold 2\n",
      "fold 3\n",
      "fold 4\n",
      "{'model': 'svm', 'C': 1.5, 'class_weight': None, 'gamma': 'scale', 'kernel': 'sigmoid', 'val_f1_weighted': 0.3325804402135204, 'val_f1_neg': 0.30190777881388015, 'val_f1_zero': 0.2317433045114774, 'val_f1_pos': 0.4143796282880771, 'val_accuracy': 0.3441250395244419, 'test_f1_weighted': 0.3877600160664145, 'test_f1_neg': 0.2802850356294537, 'test_f1_zero': 0.2763636363636364, 'test_f1_pos': 0.4660421545667447, 'test_accuracy': 0.38193548387096776}\n",
      "fold 0\n",
      "fold 1\n",
      "fold 2\n",
      "fold 3\n",
      "fold 4\n",
      "{'model': 'svm', 'C': 1.5, 'class_weight': None, 'gamma': 'auto', 'kernel': 'poly', 'val_f1_weighted': 0.7216836543419796, 'val_f1_neg': 0.4653013874481946, 'val_f1_zero': 0.7127133368608872, 'val_f1_pos': 0.7977120147611951, 'val_accuracy': 0.7285611711882629, 'test_f1_weighted': 0.6929886557440719, 'test_f1_neg': 0.4113475177304965, 'test_f1_zero': 0.6376811594202898, 'test_f1_pos': 0.7842639593908629, 'test_accuracy': 0.6916129032258065}\n",
      "fold 0\n",
      "fold 1\n",
      "fold 2\n",
      "fold 3\n",
      "fold 4\n",
      "{'model': 'svm', 'C': 1.5, 'class_weight': None, 'gamma': 'auto', 'kernel': 'rbf', 'val_f1_weighted': 0.7910489101721357, 'val_f1_neg': 0.6830569303996692, 'val_f1_zero': 0.7518673429575757, 'val_f1_pos': 0.8469903973533628, 'val_accuracy': 0.7915911654967432, 'test_f1_weighted': 0.7654662646833965, 'test_f1_neg': 0.6391752577319588, 'test_f1_zero': 0.6944444444444444, 'test_f1_pos': 0.8286384976525822, 'test_accuracy': 0.7612903225806451}\n",
      "fold 0\n",
      "fold 1\n",
      "fold 2\n",
      "fold 3\n",
      "fold 4\n",
      "{'model': 'svm', 'C': 1.5, 'class_weight': None, 'gamma': 'auto', 'kernel': 'sigmoid', 'val_f1_weighted': 0.7905952438031937, 'val_f1_neg': 0.6793585274410356, 'val_f1_zero': 0.7517180726212078, 'val_f1_pos': 0.8471439502040109, 'val_accuracy': 0.791211019414406, 'test_f1_weighted': 0.765598187247556, 'test_f1_neg': 0.6461538461538462, 'test_f1_zero': 0.6944444444444444, 'test_f1_pos': 0.827262044653349, 'test_accuracy': 0.7612903225806451}\n",
      "fold 0\n",
      "fold 1\n",
      "fold 2\n",
      "fold 3\n",
      "fold 4\n",
      "{'model': 'svm', 'C': 5, 'class_weight': 'balanced', 'gamma': 'scale', 'kernel': 'poly', 'val_f1_weighted': 0.7914881818869052, 'val_f1_neg': 0.6774218316031156, 'val_f1_zero': 0.7575799261168783, 'val_f1_pos': 0.8436061883783443, 'val_accuracy': 0.7894523398469613, 'test_f1_weighted': 0.7763717339246883, 'test_f1_neg': 0.6851851851851851, 'test_f1_zero': 0.7040000000000001, 'test_f1_pos': 0.8321342925659472, 'test_accuracy': 0.7703225806451612}\n",
      "fold 0\n",
      "fold 1\n",
      "fold 2\n",
      "fold 3\n",
      "fold 4\n",
      "{'model': 'svm', 'C': 5, 'class_weight': 'balanced', 'gamma': 'scale', 'kernel': 'rbf', 'val_f1_weighted': 0.7961932149349954, 'val_f1_neg': 0.7016364314996326, 'val_f1_zero': 0.7561319374709177, 'val_f1_pos': 0.8482483462080582, 'val_accuracy': 0.7946324416619237, 'test_f1_weighted': 0.7845714892509964, 'test_f1_neg': 0.7085201793721974, 'test_f1_zero': 0.7145790554414784, 'test_f1_pos': 0.8357142857142856, 'test_accuracy': 0.7793548387096774}\n",
      "fold 0\n",
      "fold 1\n",
      "fold 2\n",
      "fold 3\n",
      "fold 4\n",
      "{'model': 'svm', 'C': 5, 'class_weight': 'balanced', 'gamma': 'scale', 'kernel': 'sigmoid', 'val_f1_weighted': 0.3135575773164293, 'val_f1_neg': 0.3092134054357059, 'val_f1_zero': 0.25759549492335865, 'val_f1_pos': 0.35327370381879847, 'val_accuracy': 0.3168504932650351, 'test_f1_weighted': 0.36879332071936255, 'test_f1_neg': 0.29659318637274545, 'test_f1_zero': 0.3104693140794224, 'test_f1_pos': 0.41343669250646, 'test_accuracy': 0.3574193548387097}\n",
      "fold 0\n",
      "fold 1\n",
      "fold 2\n",
      "fold 3\n",
      "fold 4\n",
      "{'model': 'svm', 'C': 5, 'class_weight': 'balanced', 'gamma': 'auto', 'kernel': 'poly', 'val_f1_weighted': 0.766209954627852, 'val_f1_neg': 0.6620090116000383, 'val_f1_zero': 0.7382390223529366, 'val_f1_pos': 0.8137543533981901, 'val_accuracy': 0.7646079080503383, 'test_f1_weighted': 0.7406331979363215, 'test_f1_neg': 0.6494845360824743, 'test_f1_zero': 0.6774193548387097, 'test_f1_pos': 0.7919799498746868, 'test_accuracy': 0.7329032258064516}\n",
      "fold 0\n",
      "fold 1\n",
      "fold 2\n",
      "fold 3\n",
      "fold 4\n",
      "{'model': 'svm', 'C': 5, 'class_weight': 'balanced', 'gamma': 'auto', 'kernel': 'rbf', 'val_f1_weighted': 0.7964921352201995, 'val_f1_neg': 0.6917001042410094, 'val_f1_zero': 0.7588299579625802, 'val_f1_pos': 0.8495766212242483, 'val_accuracy': 0.795396714728388, 'test_f1_weighted': 0.776842041498664, 'test_f1_neg': 0.696035242290749, 'test_f1_zero': 0.7041666666666667, 'test_f1_pos': 0.8303677342823251, 'test_accuracy': 0.7716129032258064}\n",
      "fold 0\n",
      "fold 1\n",
      "fold 2\n",
      "fold 3\n",
      "fold 4\n",
      "{'model': 'svm', 'C': 5, 'class_weight': 'balanced', 'gamma': 'auto', 'kernel': 'sigmoid', 'val_f1_weighted': 0.7936282921865951, 'val_f1_neg': 0.6891764118176832, 'val_f1_zero': 0.755134870658814, 'val_f1_pos': 0.8468184422038337, 'val_accuracy': 0.792519730601404, 'test_f1_weighted': 0.7780501486814236, 'test_f1_neg': 0.6964285714285715, 'test_f1_zero': 0.7053941908713691, 'test_f1_pos': 0.8317535545023697, 'test_accuracy': 0.7729032258064517}\n",
      "fold 0\n",
      "fold 1\n",
      "fold 2\n",
      "fold 3\n",
      "fold 4\n",
      "{'model': 'svm', 'C': 5, 'class_weight': None, 'gamma': 'scale', 'kernel': 'poly', 'val_f1_weighted': 0.7869164401983987, 'val_f1_neg': 0.6477303416159336, 'val_f1_zero': 0.7540121726020128, 'val_f1_pos': 0.8455322260843852, 'val_accuracy': 0.7872332416366281, 'test_f1_weighted': 0.7723087535894586, 'test_f1_neg': 0.6557377049180327, 'test_f1_zero': 0.6986564299424184, 'test_f1_pos': 0.83451536643026, 'test_accuracy': 0.7677419354838709}\n",
      "fold 0\n",
      "fold 1\n",
      "fold 2\n",
      "fold 3\n",
      "fold 4\n",
      "{'model': 'svm', 'C': 5, 'class_weight': None, 'gamma': 'scale', 'kernel': 'rbf', 'val_f1_weighted': 0.792742936402024, 'val_f1_neg': 0.6766162862737315, 'val_f1_zero': 0.7527082599830475, 'val_f1_pos': 0.8505006773998923, 'val_accuracy': 0.7929387908682728, 'test_f1_weighted': 0.7855176100842818, 'test_f1_neg': 0.7040816326530613, 'test_f1_zero': 0.717741935483871, 'test_f1_pos': 0.8368298368298369, 'test_accuracy': 0.7819354838709678}\n",
      "fold 0\n",
      "fold 1\n",
      "fold 2\n",
      "fold 3\n",
      "fold 4\n",
      "{'model': 'svm', 'C': 5, 'class_weight': None, 'gamma': 'scale', 'kernel': 'sigmoid', 'val_f1_weighted': 0.329286976120483, 'val_f1_neg': 0.2975644253733244, 'val_f1_zero': 0.2251237913041043, 'val_f1_pos': 0.4138372965553076, 'val_accuracy': 0.3412980553974578, 'test_f1_weighted': 0.3849515267318317, 'test_f1_neg': 0.2783018867924529, 'test_f1_zero': 0.2710622710622711, 'test_f1_pos': 0.46424384525205153, 'test_accuracy': 0.3793548387096774}\n",
      "fold 0\n",
      "fold 1\n",
      "fold 2\n",
      "fold 3\n",
      "fold 4\n",
      "{'model': 'svm', 'C': 5, 'class_weight': None, 'gamma': 'auto', 'kernel': 'poly', 'val_f1_weighted': 0.7575681369195666, 'val_f1_neg': 0.567555812004195, 'val_f1_zero': 0.7325110045746424, 'val_f1_pos': 0.8263165351447016, 'val_accuracy': 0.7608547587428066, 'test_f1_weighted': 0.7282640604940745, 'test_f1_neg': 0.5341614906832298, 'test_f1_zero': 0.6666666666666667, 'test_f1_pos': 0.8024691358024691, 'test_accuracy': 0.7238709677419355}\n",
      "fold 0\n",
      "fold 1\n",
      "fold 2\n",
      "fold 3\n",
      "fold 4\n",
      "{'model': 'svm', 'C': 5, 'class_weight': None, 'gamma': 'auto', 'kernel': 'rbf', 'val_f1_weighted': 0.7934480060006545, 'val_f1_neg': 0.6866212660980059, 'val_f1_zero': 0.7542483030288701, 'val_f1_pos': 0.8490964169869553, 'val_accuracy': 0.7940062385379119, 'test_f1_weighted': 0.7654662646833965, 'test_f1_neg': 0.6391752577319588, 'test_f1_zero': 0.6944444444444444, 'test_f1_pos': 0.8286384976525822, 'test_accuracy': 0.7612903225806451}\n",
      "fold 0\n",
      "fold 1\n",
      "fold 2\n",
      "fold 3\n",
      "fold 4\n",
      "{'model': 'svm', 'C': 5, 'class_weight': None, 'gamma': 'auto', 'kernel': 'sigmoid', 'val_f1_weighted': 0.7927437298300989, 'val_f1_neg': 0.6877750155499516, 'val_f1_zero': 0.7545322873465787, 'val_f1_pos': 0.847258760668127, 'val_accuracy': 0.7932062511857332, 'test_f1_weighted': 0.7644049223138633, 'test_f1_neg': 0.6461538461538462, 'test_f1_zero': 0.6930693069306931, 'test_f1_pos': 0.8258823529411764, 'test_accuracy': 0.76}\n",
      "fold 0\n",
      "fold 1\n",
      "fold 2\n",
      "fold 3\n",
      "fold 4\n",
      "{'model': 'dummy', 'strategy': 'prior', 'val_f1_weighted': 0.3307127783061568, 'val_f1_neg': 0.0, 'val_f1_zero': 0.0, 'val_f1_pos': 0.6636398050113668, 'val_accuracy': 0.4971762916587618, 'test_f1_weighted': 0.43124724177787116, 'test_f1_neg': 0.0, 'test_f1_zero': 0.0, 'test_f1_pos': 0.737785016286645, 'test_accuracy': 0.584516129032258}\n"
     ]
    }
   ],
   "source": [
    "model_name = \"logreg\"\n",
    "model_fn = LogisticRegression\n",
    "model_paramgrid = logreg_paramgrid\n",
    "final_logreg_results = pd.DataFrame.from_records(models_grid_search(model_name,model_fn,model_paramgrid, data, meta_model_test))\n",
    "\n",
    "model_name = \"nb\"\n",
    "model_fn = MultinomialNB\n",
    "model_paramgrid = nb_paramgrid\n",
    "final_nb_results = pd.DataFrame.from_records(models_grid_search(model_name,model_fn,model_paramgrid, data, meta_model_test))\n",
    "\n",
    "model_name = \"svm\"\n",
    "model_fn = SVC\n",
    "model_paramgrid = svm_paramgrid\n",
    "final_svm_results = pd.DataFrame.from_records(models_grid_search(model_name,model_fn,model_paramgrid, data, meta_model_test))\n",
    "\n",
    "model_name = \"dummy\"\n",
    "model_fn = DummyClassifier\n",
    "model_paramgrid = dummy_paramgrid\n",
    "final_dummy_results = pd.DataFrame.from_records(models_grid_search(model_name,model_fn,model_paramgrid, data, meta_model_test))"
   ]
  },
  {
   "cell_type": "code",
   "execution_count": 12,
   "metadata": {},
   "outputs": [],
   "source": [
    "final_logreg_results = final_logreg_results.sort_values(by=[\"val_f1_weighted\", \"test_f1_weighted\"], ascending=False)\n",
    "final_nb_results = final_nb_results.sort_values(by=[\"val_f1_weighted\", \"test_f1_weighted\"], ascending=False)\n",
    "final_svm_results = final_svm_results.sort_values(by=[\"val_f1_weighted\", \"test_f1_weighted\"], ascending=False)\n",
    "final_dummy_results = final_dummy_results.sort_values(by=[\"val_f1_weighted\", \"test_f1_weighted\"], ascending=False)"
   ]
  },
  {
   "cell_type": "code",
   "execution_count": 13,
   "metadata": {},
   "outputs": [
    {
     "output_type": "execute_result",
     "data": {
      "text/plain": [
       "model                 logreg\n",
       "C                        0.1\n",
       "class_weight        balanced\n",
       "penalty                   l2\n",
       "solver                 lbfgs\n",
       "val_f1_weighted          0.8\n",
       "val_f1_neg          0.697722\n",
       "val_f1_zero         0.763165\n",
       "val_f1_pos          0.852187\n",
       "val_accuracy        0.798951\n",
       "test_f1_weighted    0.781973\n",
       "test_f1_neg         0.688073\n",
       "test_f1_zero        0.714286\n",
       "test_f1_pos         0.836105\n",
       "test_accuracy       0.776774\n",
       "Name: 0, dtype: object"
      ]
     },
     "metadata": {},
     "execution_count": 13
    }
   ],
   "source": [
    "final_logreg_results.iloc[0,:]"
   ]
  },
  {
   "cell_type": "code",
   "execution_count": 14,
   "metadata": {},
   "outputs": [
    {
     "output_type": "execute_result",
     "data": {
      "text/plain": [
       "model                     nb\n",
       "alpha                      0\n",
       "val_f1_weighted     0.694378\n",
       "val_f1_neg          0.653601\n",
       "val_f1_zero         0.575207\n",
       "val_f1_pos          0.793207\n",
       "val_accuracy         0.70723\n",
       "test_f1_weighted    0.749485\n",
       "test_f1_neg         0.659091\n",
       "test_f1_zero        0.607059\n",
       "test_f1_pos         0.838778\n",
       "test_accuracy       0.754839\n",
       "Name: 0, dtype: object"
      ]
     },
     "metadata": {},
     "execution_count": 14
    }
   ],
   "source": [
    "final_nb_results.iloc[0,:]"
   ]
  },
  {
   "cell_type": "code",
   "execution_count": 15,
   "metadata": {},
   "outputs": [
    {
     "output_type": "execute_result",
     "data": {
      "text/plain": [
       "model                    svm\n",
       "C                        0.5\n",
       "class_weight        balanced\n",
       "gamma                  scale\n",
       "kernel                   rbf\n",
       "val_f1_weighted     0.798112\n",
       "val_f1_neg          0.703557\n",
       "val_f1_zero         0.758925\n",
       "val_f1_pos          0.849474\n",
       "val_accuracy         0.79656\n",
       "test_f1_weighted    0.783189\n",
       "test_f1_neg         0.707965\n",
       "test_f1_zero        0.714876\n",
       "test_f1_pos         0.833333\n",
       "test_accuracy       0.778065\n",
       "Name: 13, dtype: object"
      ]
     },
     "metadata": {},
     "execution_count": 15
    }
   ],
   "source": [
    "final_svm_results.iloc[0,:]"
   ]
  },
  {
   "cell_type": "code",
   "execution_count": 16,
   "metadata": {},
   "outputs": [
    {
     "output_type": "execute_result",
     "data": {
      "text/plain": [
       "model                  dummy\n",
       "strategy               prior\n",
       "val_f1_weighted     0.330713\n",
       "val_f1_neg                 0\n",
       "val_f1_zero                0\n",
       "val_f1_pos           0.66364\n",
       "val_accuracy        0.497176\n",
       "test_f1_weighted    0.431247\n",
       "test_f1_neg                0\n",
       "test_f1_zero               0\n",
       "test_f1_pos         0.737785\n",
       "test_accuracy       0.584516\n",
       "Name: 0, dtype: object"
      ]
     },
     "metadata": {},
     "execution_count": 16
    }
   ],
   "source": [
    "final_dummy_results.iloc[0,:]"
   ]
  },
  {
   "cell_type": "markdown",
   "metadata": {},
   "source": [
    "### Train on all data & save model"
   ]
  },
  {
   "cell_type": "code",
   "execution_count": 41,
   "metadata": {},
   "outputs": [],
   "source": [
    "alldata = pd.concat([meta_model_train,meta_model_test],axis=0)"
   ]
  },
  {
   "cell_type": "code",
   "execution_count": 40,
   "metadata": {},
   "outputs": [],
   "source": [
    "# save model trained on all data\n",
    "import pickle\n",
    "best_param = {\"C\": final_logreg_results.iloc[0,:].to_dict()[\"C\"],\n",
    "\"class_weight\" : final_logreg_results.iloc[0,:].to_dict()[\"class_weight\"] , \"penalty\" : final_logreg_results.iloc[0,:].to_dict()[\"penalty\"], \"solver\" : final_logreg_results.iloc[0,:].to_dict()[\"solver\"]}\n",
    "final_model = LogisticRegression(**best_param)\n",
    "final_model.fit(alldata.iloc[:,:-1], alldata.label)\n",
    "\n",
    "model_pkl_filename = \"saved_models/model_meta.pkl\"\n",
    "with open(model_pkl_filename, 'wb') as file:\n",
    "    pickle.dump(final_model, file)"
   ]
  },
  {
   "cell_type": "markdown",
   "metadata": {},
   "source": [
    "#### Function"
   ]
  },
  {
   "cell_type": "code",
   "execution_count": null,
   "metadata": {},
   "outputs": [],
   "source": []
  },
  {
   "cell_type": "markdown",
   "metadata": {},
   "source": [
    "#### Save Model"
   ]
  }
 ],
 "metadata": {
  "kernelspec": {
   "display_name": "Python 3",
   "language": "python",
   "name": "python3"
  },
  "language_info": {
   "codemirror_mode": {
    "name": "ipython",
    "version": 3
   },
   "file_extension": ".py",
   "mimetype": "text/x-python",
   "name": "python",
   "nbconvert_exporter": "python",
   "pygments_lexer": "ipython3",
   "version": "3.8.5-final"
  }
 },
 "nbformat": 4,
 "nbformat_minor": 4
}