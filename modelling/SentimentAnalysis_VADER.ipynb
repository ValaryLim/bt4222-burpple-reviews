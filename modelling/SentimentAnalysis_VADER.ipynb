{
 "cells": [
  {
   "cell_type": "code",
   "execution_count": null,
   "metadata": {},
   "outputs": [],
   "source": [
    "import pandas as pd\n",
    "import numpy as np"
   ]
  },
  {
   "cell_type": "code",
   "execution_count": null,
   "metadata": {},
   "outputs": [],
   "source": [
    "#train = pd.read_csv(\"train_newpreproc.csv\",index_col=0)\n",
    "#val = pd.read_csv(\"val_newpreproc.csv\",index_col=0)\n",
    "#test = pd.read_csv(\"test_newpreproc.csv\",index_col=0)\n",
    "train = pd.read_csv(\"train_oldpreproc.csv\",index_col=0)\n",
    "val = pd.read_csv(\"val_oldpreproc.csv\",index_col=0)\n",
    "test = pd.read_csv(\"test_oldpreproc.csv\",index_col=0)\n",
    "trainval = pd.concat([train,val],axis=0)"
   ]
  },
  {
   "cell_type": "markdown",
   "metadata": {},
   "source": [
    "### VADER\n",
    "\n",
    "Developed in 2014, VADER (Valence Aware Dictionary and sEntiment Reasoner) is a pre-trained model that uses rule-based values tuned to sentiments from social media. It evaluates the text of a message and gives you an assessment of not just positive and negative, but the intensity of that emotion as well.\n",
    "\n",
    "It uses a dictionary of terms that it can evaluate. From the GitHub repository this includes examples like:\n",
    "\n",
    "Negations - a modifier that reverses the meaning of a phrase (\"not great\").\n",
    "Contractions - negations, but more complex (\"wasn’t great\").\n",
    "Punctuation - increased intensity (\"It’s great!!!\").\n",
    "Slang - variations of slang words such as \"kinda\", \"sux\", or \"hella\".\n",
    "It's even able to understand acronyms (\"lol\") and emoji (❤).\n",
    "\n"
   ]
  },
  {
   "cell_type": "code",
   "execution_count": null,
   "metadata": {},
   "outputs": [],
   "source": [
    "import nltk\n",
    "nltk.download('vader_lexicon')\n",
    "from nltk.sentiment.vader import SentimentIntensityAnalyzer\n",
    "\n",
    "sid = SentimentIntensityAnalyzer()"
   ]
  },
  {
   "cell_type": "code",
   "execution_count": null,
   "metadata": {},
   "outputs": [],
   "source": [
    "trainval[\"polarity_scores\"] = trainval.phrase.map(lambda phrase : sid.polarity_scores(phrase))\n",
    "test[\"polarity_scores\"] = test.phrase.map(lambda phrase : sid.polarity_scores(phrase))\n",
    "test.head()"
   ]
  },
  {
   "cell_type": "code",
   "execution_count": null,
   "metadata": {},
   "outputs": [],
   "source": [
    "trainval[\"compound\"] = trainval[\"polarity_scores\"].map(lambda score_dict : score_dict[\"compound\"])\n",
    "test[\"compound\"] = test[\"polarity_scores\"].map(lambda score_dict : score_dict[\"compound\"])"
   ]
  },
  {
   "cell_type": "code",
   "execution_count": null,
   "metadata": {},
   "outputs": [],
   "source": [
    "trainval[\"prediction\"] = trainval[\"compound\"].map(lambda c: 1 if c >0 else 0 if c == 0 else -1)\n",
    "test[\"prediction\"] = test[\"compound\"].map(lambda c: 1 if c >0 else 0 if c == 0 else -1)"
   ]
  },
  {
   "cell_type": "code",
   "execution_count": null,
   "metadata": {},
   "outputs": [],
   "source": [
    "from sklearn.metrics import classification_report,confusion_matrix\n",
    "\n",
    "print(\"VADER Sentiment Analysis Model\")\n",
    "print(\"TrainingValidation Data\")\n",
    "print(classification_report(trainval.label,trainval.prediction))\n",
    "print(\"Test Data\")\n",
    "print(classification_report(test.label,test.prediction))"
   ]
  },
  {
   "cell_type": "code",
   "execution_count": null,
   "metadata": {},
   "outputs": [],
   "source": [
    "print(\"TrainingValidation Data\")\n",
    "print(confusion_matrix(trainval.label,trainval.prediction))\n",
    "print(\"Test Data\")\n",
    "print(confusion_matrix(test.label,test.prediction))"
   ]
  },
  {
   "cell_type": "code",
   "execution_count": null,
   "metadata": {
    "scrolled": true
   },
   "outputs": [],
   "source": [
    "# Examine wrong class -1\n",
    "trainval.loc[(trainval.label == -1) & (trainval.prediction != -1)].phrase.values"
   ]
  },
  {
   "cell_type": "markdown",
   "metadata": {},
   "source": [
    "##### Update Lexicon Dictionary (Round 1)"
   ]
  },
  {
   "cell_type": "code",
   "execution_count": null,
   "metadata": {},
   "outputs": [],
   "source": [
    "new_food = {\n",
    "    \"tender\" : 4,\n",
    "    \"fresh\" : 4,\n",
    "    \"soggy\" : -4,\n",
    "    \"jelat\" : -4,\n",
    "    \"oily\" : -4,\n",
    "    \"overcooked\" :-4,\n",
    "    \"dry\" : -2,\n",
    "    \"disappointed\" : -4  \n",
    "}\n",
    "\n",
    "new_time = {\n",
    "    \"long queue\" : -4,\n",
    "    \"queue\" : -4,\n",
    "    \"wait\" : -2,\n",
    "    \"slow\" : -4,\n",
    "    \"crowd\" : -4\n",
    "}\n",
    "\n",
    "new_price = {\n",
    "    \"pricey\" : -4,\n",
    "    \"expensive\" : -4,\n",
    "    \"cheap\" : 4,\n",
    "    \"worth\" : 4,\n",
    "    \"overpriced\" : -4,\n",
    "    \"not worth\" : -4,\n",
    "    \"value for money\" : 4\n",
    "    \n",
    "}\n",
    "\n",
    "new_portion = {\n",
    "    \"small\" : -4,\n",
    "    \"large\" : 4,\n",
    "    \"generous\" : 4,\n",
    "}"
   ]
  },
  {
   "cell_type": "code",
   "execution_count": null,
   "metadata": {},
   "outputs": [],
   "source": [
    "sid.lexicon.update(new_food)\n",
    "sid.lexicon.update(new_time)\n",
    "sid.lexicon.update(new_price)\n",
    "sid.lexicon.update(new_portion)"
   ]
  },
  {
   "cell_type": "code",
   "execution_count": null,
   "metadata": {},
   "outputs": [],
   "source": [
    "trainval[\"polarity_scores1\"] = trainval.phrase.map(lambda phrase : sid.polarity_scores(phrase))\n",
    "test[\"polarity_scores1\"] = test.phrase.map(lambda phrase : sid.polarity_scores(phrase))\n",
    "trainval[\"compound1\"] = trainval[\"polarity_scores1\"].map(lambda score_dict : score_dict[\"compound\"])\n",
    "test[\"compound1\"] = test[\"polarity_scores1\"].map(lambda score_dict : score_dict[\"compound\"])\n",
    "trainval[\"prediction1\"] = trainval[\"compound1\"].map(lambda c: 1 if c >0 else 0 if c == 0 else -1)\n",
    "test[\"prediction1\"] = test[\"compound1\"].map(lambda c: 1 if c >0 else 0 if c == 0 else -1)"
   ]
  },
  {
   "cell_type": "code",
   "execution_count": null,
   "metadata": {},
   "outputs": [],
   "source": [
    "from sklearn.metrics import classification_report,confusion_matrix\n",
    "\n",
    "print(\"VADER Sentiment Analysis Model (Tuned with new words)\")\n",
    "print(\"TrainingValidation Data\")\n",
    "print(classification_report(trainval.label,trainval.prediction1))\n",
    "print(\"Test Data\")\n",
    "print(classification_report(test.label,test.prediction1))"
   ]
  },
  {
   "cell_type": "code",
   "execution_count": null,
   "metadata": {},
   "outputs": [],
   "source": [
    "# Examine wrong class 1\n",
    "trainval.loc[(trainval.label == 1) & (trainval.prediction1 != 1)].phrase.values"
   ]
  },
  {
   "cell_type": "markdown",
   "metadata": {},
   "source": [
    "##### Update Lexicon Dictionary (Round 2)"
   ]
  },
  {
   "cell_type": "code",
   "execution_count": null,
   "metadata": {},
   "outputs": [],
   "source": [
    "new_food = {\n",
    "    \"tender\" : 2,\n",
    "    \"fresh\" : 2,\n",
    "    \"soggy\" : -2,\n",
    "    \"jelat\" : -2,\n",
    "    \"oily\" : -2,\n",
    "    \"overcooked\" :-2,\n",
    "    \"dry\" : -2,\n",
    "    \"disappointed\" : -2,\n",
    "    \"cravings satisfied\" : 2,\n",
    "    \"crispy\" : 2,\n",
    "    \"sinful\" : 2,\n",
    "    \"tough\" : -2,\n",
    "    \"cold\" : -2\n",
    "}\n",
    "\n",
    "new_time = {\n",
    "    \"long queue\" : -2,\n",
    "    \"queue\" : -2,\n",
    "    \"wait\" : -2,\n",
    "    \"slow\" : -2,\n",
    "    \"crowd\" : -2,\n",
    "    \"crowded\" : -2,\n",
    "    \"no waiting time\" : 2,\n",
    "    \"fast\" : 2,\n",
    "}\n",
    "\n",
    "new_price = {\n",
    "    \"pricey\" : -2,\n",
    "    \"expensive\" : -2,\n",
    "    \"cheap\" : 2,\n",
    "    \"worth\" : 2,\n",
    "    \"overpriced\" : -2,\n",
    "    \"not worth\" : -2,\n",
    "    \"value for money\" : 2,\n",
    "    \"reasonable\" : 2,\n",
    "    \"reasonably\" : 2,\n",
    "    \"affordable\" : 2,\n",
    "    \"steal\" : 2\n",
    "    \n",
    "}\n",
    "\n",
    "new_portion = {\n",
    "    \"small\" : -2,\n",
    "    \"large\" : 2,\n",
    "    \"generous\" : 2,\n",
    "    \"sufficient\" : 1,\n",
    "    \"enough\" : 1\n",
    "}"
   ]
  },
  {
   "cell_type": "code",
   "execution_count": null,
   "metadata": {},
   "outputs": [],
   "source": [
    "sid.lexicon.update(new_food)\n",
    "sid.lexicon.update(new_time)\n",
    "sid.lexicon.update(new_price)\n",
    "sid.lexicon.update(new_portion)"
   ]
  },
  {
   "cell_type": "code",
   "execution_count": null,
   "metadata": {},
   "outputs": [],
   "source": [
    "trainval[\"polarity_scores2\"] = trainval.phrase.map(lambda phrase : sid.polarity_scores(phrase))\n",
    "test[\"polarity_scores2\"] = test.phrase.map(lambda phrase : sid.polarity_scores(phrase))\n",
    "trainval[\"compound2\"] = trainval[\"polarity_scores2\"].map(lambda score_dict : score_dict[\"compound\"])\n",
    "test[\"compound2\"] = test[\"polarity_scores2\"].map(lambda score_dict : score_dict[\"compound\"])\n",
    "trainval[\"prediction2\"] = trainval[\"compound2\"].map(lambda c: 1 if c >0 else 0 if c == 0 else -1)\n",
    "test[\"prediction2\"] = test[\"compound2\"].map(lambda c: 1 if c >0 else 0 if c == 0 else -1)"
   ]
  },
  {
   "cell_type": "code",
   "execution_count": null,
   "metadata": {},
   "outputs": [],
   "source": [
    "from sklearn.metrics import classification_report,confusion_matrix\n",
    "\n",
    "print(\"VADER Sentiment Analysis Model (Tuned with new words 2)\")\n",
    "print(\"TrainingValidation Data\")\n",
    "print(classification_report(trainval.label,trainval.prediction2))\n",
    "print(\"Test Data\")\n",
    "print(classification_report(test.label,test.prediction2))"
   ]
  },
  {
   "cell_type": "code",
   "execution_count": null,
   "metadata": {},
   "outputs": [],
   "source": [
    "(34/383)*0.51 + (104/383)*0.58 + (245/383)*0.78"
   ]
  },
  {
   "cell_type": "code",
   "execution_count": null,
   "metadata": {},
   "outputs": [],
   "source": []
  }
 ],
 "metadata": {
  "kernelspec": {
   "display_name": "Python 3",
   "language": "python",
   "name": "python3"
  },
  "language_info": {
   "codemirror_mode": {
    "name": "ipython",
    "version": 3
   },
   "file_extension": ".py",
   "mimetype": "text/x-python",
   "name": "python",
   "nbconvert_exporter": "python",
   "pygments_lexer": "ipython3",
   "version": "3.8.5"
  }
 },
 "nbformat": 4,
 "nbformat_minor": 4
}
