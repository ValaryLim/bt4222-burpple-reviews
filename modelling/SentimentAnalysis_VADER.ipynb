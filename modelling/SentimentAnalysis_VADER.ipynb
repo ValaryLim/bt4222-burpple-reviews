{
 "cells": [
  {
   "cell_type": "code",
   "execution_count": null,
   "metadata": {},
   "outputs": [],
   "source": [
    "import pandas as pd\n",
    "import numpy as np\n",
    "import utils"
   ]
  },
  {
   "cell_type": "markdown",
   "metadata": {},
   "source": [
    "### Read in Aggregated Data"
   ]
  },
  {
   "cell_type": "code",
   "execution_count": null,
   "metadata": {},
   "outputs": [],
   "source": [
    "train = pd.read_csv(\"data/labelled_data/train_newpreproc_emoticon.csv\")\n",
    "val = pd.read_csv(\"data/labelled_data/val_newpreproc_emoticon.csv\")\n",
    "test = pd.read_csv(\"data/labelled_data/test_newpreproc_emoticon.csv\")\n",
    "trainval = pd.concat([train,val],axis=0)"
   ]
  },
  {
   "cell_type": "code",
   "execution_count": null,
   "metadata": {},
   "outputs": [],
   "source": [
    "trainval.shape,test.shape"
   ]
  },
  {
   "cell_type": "markdown",
   "metadata": {},
   "source": [
    "### VADER\n",
    "\n",
    "Developed in 2014, VADER (Valence Aware Dictionary and sEntiment Reasoner) is a pre-trained model that uses rule-based values tuned to sentiments from social media. It evaluates the text of a message and gives you an assessment of not just positive and negative, but the intensity of that emotion as well.\n",
    "\n",
    "It uses a dictionary of terms that it can evaluate. From the GitHub repository this includes examples like:\n",
    "\n",
    "Negations - a modifier that reverses the meaning of a phrase (\"not great\").\n",
    "Contractions - negations, but more complex (\"wasn’t great\").\n",
    "Punctuation - increased intensity (\"It’s great!!!\").\n",
    "Slang - variations of slang words such as \"kinda\", \"sux\", or \"hella\".\n",
    "It's even able to understand acronyms (\"lol\") and emoji (❤).\n",
    "\n"
   ]
  },
  {
   "cell_type": "code",
   "execution_count": null,
   "metadata": {},
   "outputs": [],
   "source": [
    "import nltk\n",
    "nltk.download('vader_lexicon')\n",
    "from nltk.sentiment.vader import SentimentIntensityAnalyzer\n",
    "\n",
    "sid = SentimentIntensityAnalyzer()"
   ]
  },
  {
   "cell_type": "code",
   "execution_count": null,
   "metadata": {},
   "outputs": [],
   "source": [
    "sid.polarity_scores(\"fresh\")"
   ]
  },
  {
   "cell_type": "code",
   "execution_count": null,
   "metadata": {},
   "outputs": [],
   "source": [
    "trainval[\"polarity_scores\"] = trainval.phrase_emoticon_generic.map(lambda phrase : sid.polarity_scores(phrase))\n",
    "test[\"polarity_scores\"] = test.phrase_emoticon_generic.map(lambda phrase : sid.polarity_scores(phrase))\n",
    "test.head()"
   ]
  },
  {
   "cell_type": "code",
   "execution_count": null,
   "metadata": {},
   "outputs": [],
   "source": [
    "trainval[\"compound\"] = trainval[\"polarity_scores\"].map(lambda score_dict : score_dict[\"compound\"])\n",
    "test[\"compound\"] = test[\"polarity_scores\"].map(lambda score_dict : score_dict[\"compound\"])"
   ]
  },
  {
   "cell_type": "code",
   "execution_count": null,
   "metadata": {},
   "outputs": [],
   "source": [
    "trainval[\"prediction\"] = trainval[\"compound\"].map(lambda c: 1 if c >0 else 0 if c == 0 else -1)\n",
    "test[\"prediction\"] = test[\"compound\"].map(lambda c: 1 if c >0 else 0 if c == 0 else -1)"
   ]
  },
  {
   "cell_type": "code",
   "execution_count": null,
   "metadata": {},
   "outputs": [],
   "source": [
    "from sklearn.metrics import classification_report,confusion_matrix\n",
    "\n",
    "print(\"VADER Sentiment Analysis Model\")\n",
    "print(\"TrainingValidation Data\")\n",
    "print(classification_report(trainval.label,trainval.prediction,digits=4))\n",
    "print(\"Test Data\")\n",
    "print(classification_report(test.label,test.prediction,digits=4))"
   ]
  },
  {
   "cell_type": "code",
   "execution_count": null,
   "metadata": {},
   "outputs": [],
   "source": [
    "print(\"TrainingValidation Data\")\n",
    "print(confusion_matrix(trainval.label,trainval.prediction))\n",
    "print(\"Test Data\")\n",
    "print(confusion_matrix(test.label,test.prediction))"
   ]
  },
  {
   "cell_type": "code",
   "execution_count": null,
   "metadata": {
    "scrolled": true
   },
   "outputs": [],
   "source": [
    "# Examine wrong class -1\n",
    "trainval.loc[(trainval.label == -1) & (trainval.prediction != -1)].phrase.values[:10]"
   ]
  },
  {
   "cell_type": "markdown",
   "metadata": {},
   "source": [
    "##### Update Lexicon Dictionary (Round 1)"
   ]
  },
  {
   "cell_type": "code",
   "execution_count": null,
   "metadata": {},
   "outputs": [],
   "source": [
    "new_food = {\n",
    "    \"tender\" : 4,\n",
    "    \"fresh\" : 4,\n",
    "    \"soggy\" : -4,\n",
    "    \"jelat\" : -4,\n",
    "    \"oily\" : -4,\n",
    "    \"overcooked\" :-4,\n",
    "    \"dry\" : -2,\n",
    "    \"disappointed\" : -4  \n",
    "}\n",
    "\n",
    "new_time = {\n",
    "    \"long queue\" : -4,\n",
    "    \"queue\" : -4,\n",
    "    \"wait\" : -2,\n",
    "    \"slow\" : -4,\n",
    "    \"crowd\" : -4\n",
    "}\n",
    "\n",
    "new_price = {\n",
    "    \"pricey\" : -4,\n",
    "    \"expensive\" : -4,\n",
    "    \"cheap\" : 4,\n",
    "    \"worth\" : 4,\n",
    "    \"overpriced\" : -4,\n",
    "    \"not worth\" : -4,\n",
    "    \"value for money\" : 4\n",
    "    \n",
    "}\n",
    "\n",
    "new_portion = {\n",
    "    \"small\" : -4,\n",
    "    \"large\" : 4,\n",
    "    \"generous\" : 4,\n",
    "}"
   ]
  },
  {
   "cell_type": "code",
   "execution_count": null,
   "metadata": {},
   "outputs": [],
   "source": [
    "sid.lexicon.update(new_food)\n",
    "sid.lexicon.update(new_time)\n",
    "sid.lexicon.update(new_price)\n",
    "sid.lexicon.update(new_portion)"
   ]
  },
  {
   "cell_type": "code",
   "execution_count": null,
   "metadata": {},
   "outputs": [],
   "source": [
    "trainval[\"polarity_scores1\"] = trainval.phrase_emoticon_generic.map(lambda phrase : sid.polarity_scores(phrase))\n",
    "test[\"polarity_scores1\"] = test.phrase_emoticon_generic.map(lambda phrase : sid.polarity_scores(phrase))\n",
    "trainval[\"compound1\"] = trainval[\"polarity_scores1\"].map(lambda score_dict : score_dict[\"compound\"])\n",
    "test[\"compound1\"] = test[\"polarity_scores1\"].map(lambda score_dict : score_dict[\"compound\"])\n",
    "trainval[\"prediction1\"] = trainval[\"compound1\"].map(lambda c: 1 if c >0 else 0 if c == 0 else -1)\n",
    "test[\"prediction1\"] = test[\"compound1\"].map(lambda c: 1 if c >0 else 0 if c == 0 else -1)"
   ]
  },
  {
   "cell_type": "code",
   "execution_count": null,
   "metadata": {},
   "outputs": [],
   "source": [
    "from sklearn.metrics import classification_report,confusion_matrix\n",
    "\n",
    "print(\"VADER Sentiment Analysis Model (Tuned with new words)\")\n",
    "print(\"TrainingValidation Data\")\n",
    "print(classification_report(trainval.label,trainval.prediction1,digits=4))\n",
    "print(\"Test Data\")\n",
    "print(classification_report(test.label,test.prediction1,digits=4))"
   ]
  },
  {
   "cell_type": "code",
   "execution_count": null,
   "metadata": {},
   "outputs": [],
   "source": [
    "# Examine wrong class 1\n",
    "trainval.loc[(trainval.label == 1) & (trainval.prediction1 != 1)].phrase.values[:10]"
   ]
  },
  {
   "cell_type": "markdown",
   "metadata": {},
   "source": [
    "##### Update Lexicon Dictionary (Round 2)"
   ]
  },
  {
   "cell_type": "code",
   "execution_count": null,
   "metadata": {},
   "outputs": [],
   "source": [
    "new_food = {\n",
    "    \"tender\" : 2,\n",
    "    \"fresh\" : 2,\n",
    "    \"soggy\" : -2,\n",
    "    \"jelat\" : -2,\n",
    "    \"oily\" : -2,\n",
    "    \"overcooked\" :-2,\n",
    "    \"dry\" : -2,\n",
    "    \"disappointed\" : -2,\n",
    "    \"cravings satisfied\" : 2,\n",
    "    \"crispy\" : 2,\n",
    "    \"sinful\" : 2,\n",
    "    \"tough\" : -2,\n",
    "    \"cold\" : -2\n",
    "}\n",
    "\n",
    "new_time = {\n",
    "    \"long queue\" : -2,\n",
    "    \"queue\" : -2,\n",
    "    \"wait\" : -2,\n",
    "    \"slow\" : -2,\n",
    "    \"crowd\" : -2,\n",
    "    \"crowded\" : -2,\n",
    "    \"no waiting time\" : 2,\n",
    "    \"fast\" : 2,\n",
    "}\n",
    "\n",
    "new_price = {\n",
    "    \"pricey\" : -2,\n",
    "    \"expensive\" : -2,\n",
    "    \"cheap\" : 2,\n",
    "    \"worth\" : 2,\n",
    "    \"overpriced\" : -2,\n",
    "    \"not worth\" : -2,\n",
    "    \"value for money\" : 2,\n",
    "    \"reasonable\" : 2,\n",
    "    \"reasonably\" : 2,\n",
    "    \"affordable\" : 2,\n",
    "    \"steal\" : 2   \n",
    "}\n",
    "\n",
    "new_portion = {\n",
    "    \"small\" : -2,\n",
    "    \"large\" : 2,\n",
    "    \"generous\" : 2,\n",
    "    \"sufficient\" : 1,\n",
    "    \"enough\" : 1\n",
    "}"
   ]
  },
  {
   "cell_type": "code",
   "execution_count": null,
   "metadata": {},
   "outputs": [],
   "source": [
    "sid.lexicon.update(new_food)\n",
    "sid.lexicon.update(new_time)\n",
    "sid.lexicon.update(new_price)\n",
    "sid.lexicon.update(new_portion)"
   ]
  },
  {
   "cell_type": "code",
   "execution_count": null,
   "metadata": {},
   "outputs": [],
   "source": [
    "trainval[\"polarity_scores2\"] = trainval.phrase_emoticon_generic.map(lambda phrase : sid.polarity_scores(phrase))\n",
    "test[\"polarity_scores2\"] = test.phrase_emoticon_generic.map(lambda phrase : sid.polarity_scores(phrase))\n",
    "trainval[\"compound2\"] = trainval[\"polarity_scores2\"].map(lambda score_dict : score_dict[\"compound\"])\n",
    "test[\"compound2\"] = test[\"polarity_scores2\"].map(lambda score_dict : score_dict[\"compound\"])\n",
    "trainval[\"prediction2\"] = trainval[\"compound2\"].map(lambda c: 1 if c >0 else 0 if c == 0 else -1)\n",
    "test[\"prediction2\"] = test[\"compound2\"].map(lambda c: 1 if c >0 else 0 if c == 0 else -1)"
   ]
  },
  {
   "cell_type": "code",
   "execution_count": null,
   "metadata": {
    "scrolled": true
   },
   "outputs": [],
   "source": [
    "from sklearn.metrics import classification_report,confusion_matrix\n",
    "\n",
    "print(\"VADER Sentiment Analysis Model (Tuned with new words 2)\")\n",
    "print(\"TrainingValidation Data\")\n",
    "print(classification_report(trainval.label,trainval.prediction2,digits=4))\n",
    "print(\"Test Data\")\n",
    "print(classification_report(test.label,test.prediction2,digits=4))"
   ]
  },
  {
   "cell_type": "markdown",
   "metadata": {},
   "source": [
    "## KFold CV For Stacking"
   ]
  },
  {
   "cell_type": "code",
   "execution_count": null,
   "metadata": {},
   "outputs": [],
   "source": [
    "def custom_k_fold_VADER(column, data, model_name):\n",
    "    \n",
    "    # Generate fold predictions\n",
    "    fold_num = 1\n",
    "    for tf_combi in data:\n",
    "        train = tf_combi[0].copy() # no training needed for VADER \n",
    "        predict_on = tf_combi[1] \n",
    "\n",
    "        # Get Labels\n",
    "        train_label = train.label # not required\n",
    "        \n",
    "        # Fit Model\n",
    "        train[\"polarity_scores\"] = train[column].map(lambda phrase : sid.polarity_scores(phrase))\n",
    "        train[\"pos\"] = train[\"polarity_scores\"].map(lambda score_dict : score_dict[\"pos\"])\n",
    "        train[\"neg\"] = train[\"polarity_scores\"].map(lambda score_dict : score_dict[\"neg\"])\n",
    "\n",
    "        # Create Dataframe and output\n",
    "        df = pd.DataFrame(data=train[[\"neg\",\"pos\",\"label\",\"new_aspect_1\"]].values, columns = [model_name+'_prob_neg', model_name+'_prob_pos',\"label\",\"aspect\"])\n",
    "        # df.drop(columns= [model_name+'_prob_neu'])\n",
    "        ordered_cols = [model_name+'_prob_pos',model_name+'_prob_neg',\"label\",\"aspect\"]\n",
    "        df=df[ordered_cols]\n",
    "        if fold_num <=5:\n",
    "            path = \"data/fold_predictions/VADER/\" + model_name + '_fold' + str(fold_num) +'.csv'\n",
    "        else:\n",
    "            path = \"data/fold_predictions/VADER/\" + model_name + '_test.csv'\n",
    "        \n",
    "        df.to_csv(path, index=False)\n",
    "        \n",
    "        fold_num +=1"
   ]
  },
  {
   "cell_type": "code",
   "execution_count": null,
   "metadata": {},
   "outputs": [],
   "source": [
    "# Import Data\n",
    "fold1 = pd.read_csv('data/stacking_folds/fold1.csv')\n",
    "fold2 = pd.read_csv('data/stacking_folds/fold2.csv')\n",
    "fold3 = pd.read_csv('data/stacking_folds/fold3.csv')\n",
    "fold4 = pd.read_csv('data/stacking_folds/fold4.csv')\n",
    "fold5 = pd.read_csv('data/stacking_folds/fold5.csv')\n",
    "\n",
    "train1 = pd.read_csv('data/stacking_folds/train1.csv')\n",
    "train2 = pd.read_csv('data/stacking_folds/train2.csv')\n",
    "train3 = pd.read_csv('data/stacking_folds/train3.csv')\n",
    "train4 = pd.read_csv('data/stacking_folds/train4.csv')\n",
    "train5 = pd.read_csv('data/stacking_folds/train5.csv')\n",
    "\n",
    "train_all = pd.read_csv('data/stacking_folds/train_all.csv')\n",
    "test = pd.read_csv('data/stacking_folds/test.csv')\n",
    "\n",
    "# store in suitable data structure\n",
    "data = [(fold1, fold1), (fold2, fold2),(fold3, fold3), (fold4, fold4), (fold5, fold5), (test, test)]\n",
    "\n",
    "column = \"phrase_emoticon_generic\""
   ]
  },
  {
   "cell_type": "code",
   "execution_count": null,
   "metadata": {},
   "outputs": [],
   "source": [
    "custom_k_fold_VADER(column=column, data=data, model_name=\"VADER\")"
   ]
  },
  {
   "cell_type": "markdown",
   "metadata": {},
   "source": [
    "### Train on all data"
   ]
  },
  {
   "cell_type": "code",
   "execution_count": null,
   "metadata": {},
   "outputs": [],
   "source": [
    "# save full model\n",
    "full_df = pd.read_csv(\"data/stacking_folds/all_labelled_data.csv\")\n",
    "\n",
    "full_df[\"polarity_scores\"] = full_df[column].map(lambda phrase : sid.polarity_scores(phrase))\n",
    "full_df[\"pos\"] = full_df[\"polarity_scores\"].map(lambda score_dict : score_dict[\"pos\"])\n",
    "full_df[\"neg\"] = full_df[\"polarity_scores\"].map(lambda score_dict : score_dict[\"neg\"])\n",
    "\n",
    "model_name = \"VADER\"\n",
    "# Create Dataframe and output\n",
    "df = pd.DataFrame(data=full_df[[\"neg\",\"pos\",\"label\"]].values, columns = [model_name+'_prob_neg', model_name+'_prob_pos',\"label\"])\n",
    "# df.drop(columns= [model_name+'_prob_neu'])\n",
    "ordered_cols = [model_name+'_prob_pos',model_name+'_prob_neg',\"label\"]\n",
    "df=df[ordered_cols]\n",
    "\n",
    "df.to_csv(\"data/fold_predictions/VADER/VADER_all.csv\", index=False)"
   ]
  },
  {
   "cell_type": "code",
   "execution_count": null,
   "metadata": {},
   "outputs": [],
   "source": []
  }
 ],
 "metadata": {
  "kernelspec": {
   "display_name": "Python 3",
   "language": "python",
   "name": "python3"
  },
  "language_info": {
   "codemirror_mode": {
    "name": "ipython",
    "version": 3
   },
   "file_extension": ".py",
   "mimetype": "text/x-python",
   "name": "python",
   "nbconvert_exporter": "python",
   "pygments_lexer": "ipython3",
   "version": "3.8.5-final"
  }
 },
 "nbformat": 4,
 "nbformat_minor": 4
}