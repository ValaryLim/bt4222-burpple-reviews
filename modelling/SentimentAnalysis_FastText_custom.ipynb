{
 "cells": [
  {
   "cell_type": "markdown",
   "id": "massive-serum",
   "metadata": {},
   "source": [
    "# FastText"
   ]
  },
  {
   "cell_type": "code",
   "execution_count": null,
   "id": "obvious-wells",
   "metadata": {},
   "outputs": [],
   "source": [
    "# import packages\n",
    "import numpy as np\n",
    "import pandas as pd\n",
    "\n",
    "# model training\n",
    "import fasttext\n",
    "from sklearn.metrics import classification_report\n",
    "\n",
    "# for display\n",
    "from IPython.display import display, HTML"
   ]
  },
  {
   "cell_type": "markdown",
   "id": "hollywood-google",
   "metadata": {},
   "source": [
    "## Load Data"
   ]
  },
  {
   "cell_type": "code",
   "execution_count": null,
   "id": "blind-tactics",
   "metadata": {},
   "outputs": [],
   "source": [
    "# define path and filenames\n",
    "path = 'data/emoticon/' # 'data/emoticon/'\n",
    "train = 'train'\n",
    "val = 'val'\n",
    "test = 'test'\n",
    "suffix = '_newpreproc_emoticon.csv'"
   ]
  },
  {
   "cell_type": "code",
   "execution_count": null,
   "id": "frequent-triangle",
   "metadata": {},
   "outputs": [],
   "source": [
    "# create data dict\n",
    "data = {}\n",
    "data_names = [train, val, test]\n",
    "# change this accordingly: 'phrase', 'phrase_lemma', 'phrase_stem'\n",
    "# text_column = 'phrase_emoticon_unique'\n",
    "text_column = 'phrase_emoticon_unique'\n",
    "old_new = 'new_preproc_emoticon'\n",
    "\n",
    "for name in data_names:\n",
    "    # read data\n",
    "    df = pd.read_csv(path+name+suffix)\n",
    "    df['label'] = df['label'].astype('int32')\n",
    "    # add to data dict\n",
    "    data[f'{name}_{text_column}'] = df"
   ]
  },
  {
   "cell_type": "code",
   "execution_count": null,
   "id": "simple-adrian",
   "metadata": {
    "scrolled": false
   },
   "outputs": [],
   "source": [
    "for df_name, df in data.items():\n",
    "    print(df_name)\n",
    "    print(df.shape)\n",
    "    print(df.label.value_counts())\n",
    "    display(df.head(3))\n",
    "    print('\\n')"
   ]
  },
  {
   "cell_type": "code",
   "execution_count": null,
   "id": "marine-phone",
   "metadata": {},
   "outputs": [],
   "source": [
    "# combine train and val\n",
    "train_all = pd.concat([data['train_'+text_column], data['val_'+text_column]])\n",
    "data['train_all_'+text_column] = train_all"
   ]
  },
  {
   "cell_type": "code",
   "execution_count": null,
   "id": "psychological-samuel",
   "metadata": {},
   "outputs": [],
   "source": [
    "# convert into txt file for training\n",
    "train_all_txt = train_all[[text_column, 'label']]\n",
    "\n",
    "with open(f\"data/fasttext/{old_new}/train_all_{text_column}.txt\", \"w\") as f:\n",
    "    for i in range(len(train_all_txt)):\n",
    "        row = train_all_txt.iloc[i]\n",
    "        label = row['label']\n",
    "        label_txt = ''\n",
    "        if label == 1:\n",
    "            label_txt = 'pos'\n",
    "        elif label == -1:\n",
    "            label_txt = 'neg'\n",
    "        elif label == 0:\n",
    "            label_txt = 'zer'\n",
    "        line = f'__label__{label_txt} {row[text_column]} \\n'\n",
    "        f.write(line)"
   ]
  },
  {
   "cell_type": "code",
   "execution_count": null,
   "id": "normal-dynamics",
   "metadata": {},
   "outputs": [],
   "source": []
  },
  {
   "cell_type": "markdown",
   "id": "sunset-delicious",
   "metadata": {},
   "source": [
    "## Custom Model\n",
    "\n",
    "Useful Links:\n",
    "- https://fasttext.cc/docs/en/supervised-tutorial.html\n",
    "- https://pypi.org/project/fasttext/\n",
    "- https://towardsdatascience.com/natural-language-processing-with-fasttext-part-1-an-intro-to-text-classification-with-fasttext-11b9771722d8\n",
    "- https://fasttext.cc/docs/en/crawl-vectors.html"
   ]
  },
  {
   "cell_type": "code",
   "execution_count": null,
   "id": "pretty-yellow",
   "metadata": {},
   "outputs": [],
   "source": [
    "model = fasttext.train_supervised(input=f\"data/fasttext/{old_new}/train_all_{text_column}.txt\")"
   ]
  },
  {
   "cell_type": "markdown",
   "id": "signed-arlington",
   "metadata": {},
   "source": [
    "## Predict on Test"
   ]
  },
  {
   "cell_type": "code",
   "execution_count": null,
   "id": "acknowledged-uncle",
   "metadata": {},
   "outputs": [],
   "source": [
    "# predict on test\n",
    "test_pred_df = data['test_'+text_column].copy()\n",
    "test_pred_df['raw_output'] = test_pred_df.apply(lambda x: model.predict(x[text_column].replace(\"\\n\", \"\")), axis=1)\n",
    "test_pred_df['raw_pred'] = test_pred_df.apply(lambda x: x.raw_output[0][0][-3:], axis=1)\n",
    "test_pred_df['raw_prob'] = test_pred_df.apply(lambda x: x.raw_output[1][0], axis=1)"
   ]
  },
  {
   "cell_type": "code",
   "execution_count": null,
   "id": "clean-citation",
   "metadata": {},
   "outputs": [],
   "source": [
    "test_pred_df.raw_pred.value_counts()"
   ]
  },
  {
   "cell_type": "code",
   "execution_count": null,
   "id": "monthly-lying",
   "metadata": {},
   "outputs": [],
   "source": [
    "def label_from_txt(x):\n",
    "    if x == 'pos':\n",
    "        return 1\n",
    "    elif x == 'neg':\n",
    "        return -1\n",
    "    else:\n",
    "        return 0"
   ]
  },
  {
   "cell_type": "code",
   "execution_count": null,
   "id": "swiss-samoa",
   "metadata": {},
   "outputs": [],
   "source": [
    "test_pred_df['pred'] = test_pred_df.apply(lambda x: label_from_txt(x['raw_pred']), axis=1)"
   ]
  },
  {
   "cell_type": "code",
   "execution_count": null,
   "id": "headed-driving",
   "metadata": {},
   "outputs": [],
   "source": [
    "test_results = classification_report(test_pred_df.label, test_pred_df.pred, output_dict=True)\n",
    "# save to txt\n",
    "f = open(f'model_results/fasttext/custom/{old_new}/test_{text_column}.txt', \"w\")\n",
    "f.write( str(test_results) )\n",
    "f.close()\n",
    "\n",
    "print(classification_report(test_pred_df.label, test_pred_df.pred, digits=4))"
   ]
  },
  {
   "cell_type": "code",
   "execution_count": null,
   "id": "handed-speaker",
   "metadata": {},
   "outputs": [],
   "source": [
    "test_pred_df.label.value_counts()"
   ]
  },
  {
   "cell_type": "code",
   "execution_count": null,
   "id": "framed-yemen",
   "metadata": {},
   "outputs": [],
   "source": [
    "test_pred_df.pred.value_counts()"
   ]
  },
  {
   "cell_type": "code",
   "execution_count": null,
   "id": "velvet-tribute",
   "metadata": {},
   "outputs": [],
   "source": []
  },
  {
   "cell_type": "markdown",
   "id": "athletic-constitutional",
   "metadata": {
    "heading_collapsed": true
   },
   "source": [
    "# Stacking Code"
   ]
  },
  {
   "cell_type": "markdown",
   "id": "monetary-injection",
   "metadata": {
    "heading_collapsed": true,
    "hidden": true
   },
   "source": [
    "## Load Data"
   ]
  },
  {
   "cell_type": "code",
   "execution_count": null,
   "id": "furnished-farmer",
   "metadata": {
    "hidden": true
   },
   "outputs": [],
   "source": [
    "# define path and filenames\n",
    "path = 'data/stacking_folds/'\n",
    "fold_num = 5\n",
    "suffix = '.csv'\n",
    "\n",
    "text_column = 'phrase_stem' # DO NOT CHANGE THIS"
   ]
  },
  {
   "cell_type": "code",
   "execution_count": null,
   "id": "skilled-favor",
   "metadata": {
    "hidden": true
   },
   "outputs": [],
   "source": [
    "# create data dict\n",
    "data = {}\n",
    "data_names = [f'train{fold_num}', f'fold{fold_num}']\n",
    "# data_names = ['train_all', 'test']\n",
    "\n",
    "for name in data_names:\n",
    "    # read data\n",
    "    df = pd.read_csv(path+name+suffix)\n",
    "    df['label'] = df['label'].astype('int32')\n",
    "    # add to data dict\n",
    "    data[f'{name}'] = df"
   ]
  },
  {
   "cell_type": "code",
   "execution_count": null,
   "id": "crazy-status",
   "metadata": {
    "hidden": true,
    "scrolled": false
   },
   "outputs": [],
   "source": [
    "for df_name, df in data.items():\n",
    "    print(df_name)\n",
    "    print(df.shape)\n",
    "    print(df.label.value_counts())\n",
    "    display(df.head(3))\n",
    "    print('\\n')"
   ]
  },
  {
   "cell_type": "code",
   "execution_count": null,
   "id": "meaning-columbia",
   "metadata": {
    "hidden": true
   },
   "outputs": [],
   "source": [
    "# convert into txt file for training\n",
    "train = data[f'train{fold_num}']\n",
    "# train = data['train_all']\n",
    "train_txt = train[[text_column, 'label']]\n",
    "\n",
    "# with open(f\"data/fasttext/stacking_folds/train_all.txt\", \"w\") as f:\n",
    "with open(f\"data/fasttext/stacking_folds/train_{fold_num}.txt\", \"w\") as f:\n",
    "    for i in range(len(train_txt)):\n",
    "        row = train_txt.iloc[i]\n",
    "        label = row['label']\n",
    "        label_txt = ''\n",
    "        if label == 1:\n",
    "            label_txt = 'pos'\n",
    "        elif label == -1:\n",
    "            label_txt = 'neg'\n",
    "        elif label == 0:\n",
    "            label_txt = 'zer'\n",
    "        line = f'__label__{label_txt} {row[text_column]} \\n'\n",
    "        f.write(line)"
   ]
  },
  {
   "cell_type": "code",
   "execution_count": null,
   "id": "ideal-isolation",
   "metadata": {
    "hidden": true
   },
   "outputs": [],
   "source": []
  },
  {
   "cell_type": "markdown",
   "id": "reasonable-algeria",
   "metadata": {
    "heading_collapsed": true,
    "hidden": true
   },
   "source": [
    "## Custom Model\n",
    "\n",
    "Useful Links:\n",
    "- https://fasttext.cc/docs/en/supervised-tutorial.html\n",
    "- https://pypi.org/project/fasttext/\n",
    "- https://towardsdatascience.com/natural-language-processing-with-fasttext-part-1-an-intro-to-text-classification-with-fasttext-11b9771722d8\n",
    "- https://fasttext.cc/docs/en/crawl-vectors.html"
   ]
  },
  {
   "cell_type": "code",
   "execution_count": null,
   "id": "distinct-mouse",
   "metadata": {
    "hidden": true
   },
   "outputs": [],
   "source": [
    "model = fasttext.train_supervised(input=f\"data/fasttext/stacking_folds/train_{fold_num}.txt\")\n",
    "# model = fasttext.train_supervised(input=f\"data/fasttext/stacking_folds/train_all.txt\")"
   ]
  },
  {
   "cell_type": "markdown",
   "id": "mediterranean-satellite",
   "metadata": {
    "heading_collapsed": true,
    "hidden": true
   },
   "source": [
    "## Predict on Folds"
   ]
  },
  {
   "cell_type": "code",
   "execution_count": null,
   "id": "labeled-child",
   "metadata": {
    "hidden": true
   },
   "outputs": [],
   "source": [
    "from scipy.special import softmax\n",
    "\n",
    "def get_index(lst, tag):\n",
    "    for i in range(len(lst)):\n",
    "        if lst[i][-3:] == tag:\n",
    "            return i\n",
    "        \n",
    "def label_from_txt(x):\n",
    "    if x == 'pos':\n",
    "        return 1\n",
    "    elif x == 'neg':\n",
    "        return -1\n",
    "    else:\n",
    "        return 0"
   ]
  },
  {
   "cell_type": "code",
   "execution_count": null,
   "id": "clinical-sunrise",
   "metadata": {
    "hidden": true
   },
   "outputs": [],
   "source": [
    "# predict on test\n",
    "test_pred_df = data[f'fold{fold_num}'].copy()\n",
    "# test_pred_df = data['test'].copy()\n",
    "test_pred_df['raw_output'] = test_pred_df.apply(lambda x: model.predict(x[text_column].replace(\"\\n\", \"\"), k=-1), axis=1)\n",
    "test_pred_df['raw_pred'] = test_pred_df.apply(lambda x: model.predict(x[text_column].replace(\"\\n\", \"\"))[0][0][-3:], axis=1)\n",
    "test_pred_df['pred'] = test_pred_df.apply(lambda x: label_from_txt(x['raw_pred']), axis=1)\n",
    "\n",
    "test_pred_df['raw_prob'] = test_pred_df.apply(lambda x: softmax(list(x.raw_output[1])), axis=1)\n",
    "test_pred_df['pos_index'] = test_pred_df.apply(lambda x: get_index(list(x.raw_output[0]), 'pos'), axis=1)\n",
    "test_pred_df['neg_index'] = test_pred_df.apply(lambda x: get_index(list(x.raw_output[0]), 'neg'), axis=1)\n",
    "test_pred_df['fasttext_prob_pos'] = test_pred_df.apply(lambda x: x.raw_prob[x.pos_index], axis=1)\n",
    "test_pred_df['fasttext_prob_neg'] = test_pred_df.apply(lambda x: x.raw_prob[x.neg_index], axis=1)"
   ]
  },
  {
   "cell_type": "code",
   "execution_count": null,
   "id": "buried-precipitation",
   "metadata": {
    "hidden": true
   },
   "outputs": [],
   "source": [
    "test_pred_df.to_csv(f'stacking_preds/fasttext/fasttext_fold{fold_num}_full.csv', index=False)\n",
    "# test_pred_df.to_csv(f'stacking_preds/fasttext/fasttext_test_full.csv', index=False)"
   ]
  },
  {
   "cell_type": "code",
   "execution_count": null,
   "id": "subject-margin",
   "metadata": {
    "hidden": true
   },
   "outputs": [],
   "source": [
    "test_preds_only = test_pred_df[['fasttext_prob_pos', 'fasttext_prob_neg']]\n",
    "test_preds_only.to_csv(f'stacking_preds/fasttext/fasttext_fold{fold_num}.csv', index=False)\n",
    "# test_preds_only.to_csv(f'stacking_preds/fasttext/fasttext_test.csv', index=False)"
   ]
  },
  {
   "cell_type": "code",
   "execution_count": null,
   "id": "increased-bundle",
   "metadata": {
    "hidden": true
   },
   "outputs": [],
   "source": [
    "print(classification_report(test_pred_df.label, test_pred_df.pred, digits=4))"
   ]
  },
  {
   "cell_type": "code",
   "execution_count": null,
   "id": "impossible-despite",
   "metadata": {
    "hidden": true
   },
   "outputs": [],
   "source": [
    "test_pred_df.label.value_counts()"
   ]
  },
  {
   "cell_type": "code",
   "execution_count": null,
   "id": "moving-editor",
   "metadata": {
    "hidden": true
   },
   "outputs": [],
   "source": [
    "test_pred_df.pred.value_counts()"
   ]
  },
  {
   "cell_type": "code",
   "execution_count": null,
   "id": "developing-dylan",
   "metadata": {
    "hidden": true
   },
   "outputs": [],
   "source": []
  },
  {
   "cell_type": "code",
   "execution_count": null,
   "id": "choice-recommendation",
   "metadata": {
    "hidden": true
   },
   "outputs": [],
   "source": []
  },
  {
   "cell_type": "markdown",
   "id": "optional-deputy",
   "metadata": {},
   "source": [
    "# Train Final Model"
   ]
  },
  {
   "cell_type": "code",
   "execution_count": null,
   "id": "amended-wyoming",
   "metadata": {},
   "outputs": [],
   "source": [
    "# read data\n",
    "df = pd.read_csv('data/stacking_folds/ALL_LABELLED_DATA.csv')\n",
    "# convert to int type\n",
    "df['label'] = df['label'].astype('int32')"
   ]
  },
  {
   "cell_type": "code",
   "execution_count": null,
   "id": "legal-collectible",
   "metadata": {},
   "outputs": [],
   "source": [
    "print(df.shape)\n",
    "df.head()"
   ]
  },
  {
   "cell_type": "code",
   "execution_count": null,
   "id": "heavy-netherlands",
   "metadata": {},
   "outputs": [],
   "source": [
    "# convert into txt file for training\n",
    "df_txt = df[['phrase_stem', 'label']]\n",
    "\n",
    "with open(f\"data/fasttext/all_labelled_data.txt\", \"w\") as f:\n",
    "    for i in range(len(df_txt)):\n",
    "        row = df_txt.iloc[i]\n",
    "        label = row['label']\n",
    "        label_txt = ''\n",
    "        if label == 1:\n",
    "            label_txt = 'pos'\n",
    "        elif label == -1:\n",
    "            label_txt = 'neg'\n",
    "        elif label == 0:\n",
    "            label_txt = 'zer'\n",
    "        line = f'__label__{label_txt} {row[\"phrase_stem\"]} \\n'\n",
    "        f.write(line)"
   ]
  },
  {
   "cell_type": "code",
   "execution_count": null,
   "id": "abroad-whole",
   "metadata": {},
   "outputs": [],
   "source": [
    "model = fasttext.train_supervised(input=f\"data/fasttext/all_labelled_data.txt\")"
   ]
  },
  {
   "cell_type": "code",
   "execution_count": null,
   "id": "introductory-involvement",
   "metadata": {},
   "outputs": [],
   "source": [
    "# predict on data for checking\n",
    "test_pred_df = df.copy()\n",
    "test_pred_df['raw_output'] = test_pred_df.apply(lambda x: model.predict(x['phrase_stem'].replace(\"\\n\", \"\")), axis=1)\n",
    "test_pred_df['raw_pred'] = test_pred_df.apply(lambda x: x.raw_output[0][0][-3:], axis=1)\n",
    "test_pred_df['raw_prob'] = test_pred_df.apply(lambda x: x.raw_output[1][0], axis=1)"
   ]
  },
  {
   "cell_type": "code",
   "execution_count": null,
   "id": "saved-imperial",
   "metadata": {},
   "outputs": [],
   "source": [
    "test_pred_df.raw_pred.value_counts()"
   ]
  },
  {
   "cell_type": "code",
   "execution_count": null,
   "id": "coral-research",
   "metadata": {},
   "outputs": [],
   "source": [
    "def label_from_txt(x):\n",
    "    if x == 'pos':\n",
    "        return 1\n",
    "    elif x == 'neg':\n",
    "        return -1\n",
    "    else:\n",
    "        return 0"
   ]
  },
  {
   "cell_type": "code",
   "execution_count": null,
   "id": "fifteen-mortality",
   "metadata": {},
   "outputs": [],
   "source": [
    "test_pred_df['pred'] = test_pred_df.apply(lambda x: label_from_txt(x['raw_pred']), axis=1)"
   ]
  },
  {
   "cell_type": "code",
   "execution_count": null,
   "id": "corrected-ministry",
   "metadata": {},
   "outputs": [],
   "source": [
    "print(classification_report(test_pred_df.label, test_pred_df.pred, digits=4))"
   ]
  },
  {
   "cell_type": "code",
   "execution_count": null,
   "id": "educated-substance",
   "metadata": {},
   "outputs": [],
   "source": [
    "model.save_model(\"model_fasttext.bin\")"
   ]
  },
  {
   "cell_type": "code",
   "execution_count": null,
   "id": "received-robert",
   "metadata": {},
   "outputs": [],
   "source": []
  }
 ],
 "metadata": {
  "kernelspec": {
   "display_name": "Python 3",
   "language": "python",
   "name": "python3"
  },
  "language_info": {
   "codemirror_mode": {
    "name": "ipython",
    "version": 3
   },
   "file_extension": ".py",
   "mimetype": "text/x-python",
   "name": "python",
   "nbconvert_exporter": "python",
   "pygments_lexer": "ipython3",
   "version": "3.8.5"
  }
 },
 "nbformat": 4,
 "nbformat_minor": 5
}
