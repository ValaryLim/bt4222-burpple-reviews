{
 "cells": [
  {
   "cell_type": "markdown",
   "id": "encouraging-softball",
   "metadata": {},
   "source": [
    "# FastText"
   ]
  },
  {
   "cell_type": "code",
   "execution_count": null,
   "id": "associate-sperm",
   "metadata": {},
   "outputs": [],
   "source": [
    "# import packages\n",
    "import numpy as np\n",
    "import pandas as pd\n",
    "\n",
    "# model training\n",
    "import fasttext\n",
    "from sklearn.metrics import classification_report\n",
    "\n",
    "# for display\n",
    "from IPython.display import display, HTML"
   ]
  },
  {
   "cell_type": "markdown",
   "id": "public-insulin",
   "metadata": {},
   "source": [
    "## Load Data"
   ]
  },
  {
   "cell_type": "code",
   "execution_count": null,
   "id": "ignored-limit",
   "metadata": {},
   "outputs": [],
   "source": [
    "# define path and filenames\n",
    "path = 'data/emoticon/' # 'data/emoticon/'\n",
    "train = 'train'\n",
    "val = 'val'\n",
    "test = 'test'\n",
    "suffix = '_newpreproc_emoticon.csv'"
   ]
  },
  {
   "cell_type": "code",
   "execution_count": null,
   "id": "wound-controversy",
   "metadata": {},
   "outputs": [],
   "source": [
    "# create data dict\n",
    "data = {}\n",
    "data_names = [train, val, test]\n",
    "# change this accordingly: 'phrase', 'phrase_lemma', 'phrase_stem'\n",
    "# text_column = 'phrase_emoticon_unique'\n",
    "text_column = 'phrase_emoticon_unique'\n",
    "old_new = 'new_preproc_emoticon'\n",
    "\n",
    "for name in data_names:\n",
    "    # read data\n",
    "    df = pd.read_csv(path+name+suffix)\n",
    "    df['label'] = df['label'].astype('int32')\n",
    "    # add to data dict\n",
    "    data[f'{name}_{text_column}'] = df"
   ]
  },
  {
   "cell_type": "code",
   "execution_count": null,
   "id": "advised-fellow",
   "metadata": {
    "scrolled": false
   },
   "outputs": [],
   "source": [
    "for df_name, df in data.items():\n",
    "    print(df_name)\n",
    "    print(df.shape)\n",
    "    print(df.label.value_counts())\n",
    "    display(df.head(3))\n",
    "    print('\\n')"
   ]
  },
  {
   "cell_type": "code",
   "execution_count": null,
   "id": "posted-combination",
   "metadata": {},
   "outputs": [],
   "source": [
    "# combine train and val\n",
    "train_all = pd.concat([data['train_'+text_column], data['val_'+text_column]])\n",
    "data['train_all_'+text_column] = train_all"
   ]
  },
  {
   "cell_type": "code",
   "execution_count": null,
   "id": "mediterranean-screw",
   "metadata": {},
   "outputs": [],
   "source": [
    "# convert into txt file for training\n",
    "train_all_txt = train_all[[text_column, 'label']]\n",
    "\n",
    "with open(f\"data/fasttext/{old_new}/train_all_{text_column}.txt\", \"w\") as f:\n",
    "    for i in range(len(train_all_txt)):\n",
    "        row = train_all_txt.iloc[i]\n",
    "        label = row['label']\n",
    "        label_txt = ''\n",
    "        if label == 1:\n",
    "            label_txt = 'pos'\n",
    "        elif label == -1:\n",
    "            label_txt = 'neg'\n",
    "        elif label == 0:\n",
    "            label_txt = 'zer'\n",
    "        line = f'__label__{label_txt} {row[text_column]} \\n'\n",
    "        f.write(line)"
   ]
  },
  {
   "cell_type": "code",
   "execution_count": null,
   "id": "solar-republic",
   "metadata": {},
   "outputs": [],
   "source": []
  },
  {
   "cell_type": "markdown",
   "id": "pressed-session",
   "metadata": {},
   "source": [
    "## Custom Model\n",
    "\n",
    "Useful Links:\n",
    "- https://fasttext.cc/docs/en/supervised-tutorial.html\n",
    "- https://pypi.org/project/fasttext/\n",
    "- https://towardsdatascience.com/natural-language-processing-with-fasttext-part-1-an-intro-to-text-classification-with-fasttext-11b9771722d8\n",
    "- https://fasttext.cc/docs/en/crawl-vectors.html"
   ]
  },
  {
   "cell_type": "code",
   "execution_count": null,
   "id": "major-australian",
   "metadata": {},
   "outputs": [],
   "source": [
    "model = fasttext.train_supervised(input=f\"data/fasttext/{old_new}/train_all_{text_column}.txt\")"
   ]
  },
  {
   "cell_type": "markdown",
   "id": "settled-madison",
   "metadata": {},
   "source": [
    "## Predict on Test"
   ]
  },
  {
   "cell_type": "code",
   "execution_count": null,
   "id": "surface-ministry",
   "metadata": {},
   "outputs": [],
   "source": [
    "# predict on test\n",
    "test_pred_df = data['test_'+text_column].copy()\n",
    "test_pred_df['raw_output'] = test_pred_df.apply(lambda x: model.predict(x[text_column].replace(\"\\n\", \"\")), axis=1)\n",
    "test_pred_df['raw_pred'] = test_pred_df.apply(lambda x: x.raw_output[0][0][-3:], axis=1)\n",
    "test_pred_df['raw_prob'] = test_pred_df.apply(lambda x: x.raw_output[1][0], axis=1)"
   ]
  },
  {
   "cell_type": "code",
   "execution_count": null,
   "id": "hungry-blend",
   "metadata": {},
   "outputs": [],
   "source": [
    "test_pred_df.raw_pred.value_counts()"
   ]
  },
  {
   "cell_type": "code",
   "execution_count": null,
   "id": "conscious-transsexual",
   "metadata": {},
   "outputs": [],
   "source": [
    "def label_from_txt(x):\n",
    "    if x == 'pos':\n",
    "        return 1\n",
    "    elif x == 'neg':\n",
    "        return -1\n",
    "    else:\n",
    "        return 0"
   ]
  },
  {
   "cell_type": "code",
   "execution_count": null,
   "id": "unexpected-edmonton",
   "metadata": {},
   "outputs": [],
   "source": [
    "test_pred_df['pred'] = test_pred_df.apply(lambda x: label_from_txt(x['raw_pred']), axis=1)"
   ]
  },
  {
   "cell_type": "code",
   "execution_count": null,
   "id": "crude-anxiety",
   "metadata": {},
   "outputs": [],
   "source": [
    "test_results = classification_report(test_pred_df.label, test_pred_df.pred, output_dict=True)\n",
    "# save to txt\n",
    "f = open(f'model_results/fasttext/custom/{old_new}/test_{text_column}.txt', \"w\")\n",
    "f.write( str(test_results) )\n",
    "f.close()\n",
    "\n",
    "print(classification_report(test_pred_df.label, test_pred_df.pred, digits=4))"
   ]
  },
  {
   "cell_type": "code",
   "execution_count": null,
   "id": "photographic-third",
   "metadata": {},
   "outputs": [],
   "source": [
    "test_pred_df.label.value_counts()"
   ]
  },
  {
   "cell_type": "code",
   "execution_count": null,
   "id": "executive-basin",
   "metadata": {},
   "outputs": [],
   "source": [
    "test_pred_df.pred.value_counts()"
   ]
  },
  {
   "cell_type": "code",
   "execution_count": null,
   "id": "fitted-nation",
   "metadata": {},
   "outputs": [],
   "source": []
  },
  {
   "cell_type": "code",
   "execution_count": null,
   "id": "exciting-schedule",
   "metadata": {},
   "outputs": [],
   "source": []
  },
  {
   "cell_type": "code",
   "execution_count": null,
   "id": "dental-colonial",
   "metadata": {},
   "outputs": [],
   "source": []
  }
 ],
 "metadata": {
  "kernelspec": {
   "display_name": "Python 3",
   "language": "python",
   "name": "python3"
  },
  "language_info": {
   "codemirror_mode": {
    "name": "ipython",
    "version": 3
   },
   "file_extension": ".py",
   "mimetype": "text/x-python",
   "name": "python",
   "nbconvert_exporter": "python",
   "pygments_lexer": "ipython3",
   "version": "3.8.5"
  }
 },
 "nbformat": 4,
 "nbformat_minor": 5
}
