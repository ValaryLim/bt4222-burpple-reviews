{
 "cells": [
  {
   "cell_type": "markdown",
   "id": "brutal-albert",
   "metadata": {},
   "source": [
    "# FastText"
   ]
  },
  {
   "cell_type": "code",
   "execution_count": null,
   "id": "modular-polymer",
   "metadata": {},
   "outputs": [],
   "source": [
    "# import packages\n",
    "import numpy as np\n",
    "import pandas as pd\n",
    "\n",
    "# model training\n",
    "import fasttext\n",
    "from sklearn.metrics import classification_report\n",
    "\n",
    "# for display\n",
    "from IPython.display import display, HTML"
   ]
  },
  {
   "cell_type": "markdown",
   "id": "postal-charlotte",
   "metadata": {},
   "source": [
    "## Load Data"
   ]
  },
  {
   "cell_type": "code",
   "execution_count": null,
   "id": "interracial-medicine",
   "metadata": {},
   "outputs": [],
   "source": [
    "# define path and filenames\n",
    "path = 'data/emoticon/' # 'data/emoticon/'\n",
    "train = 'train'\n",
    "val = 'val'\n",
    "test = 'test'\n",
    "suffix = '_newpreproc_emoticon.csv'"
   ]
  },
  {
   "cell_type": "code",
   "execution_count": null,
   "id": "twenty-remark",
   "metadata": {},
   "outputs": [],
   "source": [
    "# create data dict\n",
    "data = {}\n",
    "data_names = [train, val, test]\n",
    "# change this accordingly: 'phrase', 'phrase_lemma', 'phrase_stem'\n",
    "# text_column = 'phrase_emoticon_unique'\n",
    "text_column = 'phrase_emoticon_unique'\n",
    "old_new = 'new_preproc_emoticon'\n",
    "\n",
    "for name in data_names:\n",
    "    # read data\n",
    "    df = pd.read_csv(path+name+suffix)\n",
    "    df['label'] = df['label'].astype('int32')\n",
    "    # add to data dict\n",
    "    data[f'{name}_{text_column}'] = df"
   ]
  },
  {
   "cell_type": "code",
   "execution_count": null,
   "id": "numerous-freedom",
   "metadata": {
    "scrolled": false
   },
   "outputs": [],
   "source": [
    "for df_name, df in data.items():\n",
    "    print(df_name)\n",
    "    print(df.shape)\n",
    "    print(df.label.value_counts())\n",
    "    display(df.head(3))\n",
    "    print('\\n')"
   ]
  },
  {
   "cell_type": "code",
   "execution_count": null,
   "id": "beneficial-custody",
   "metadata": {},
   "outputs": [],
   "source": [
    "# combine train and val\n",
    "train_all = pd.concat([data['train_'+text_column], data['val_'+text_column]])\n",
    "data['train_all_'+text_column] = train_all"
   ]
  },
  {
   "cell_type": "code",
   "execution_count": null,
   "id": "alert-injection",
   "metadata": {},
   "outputs": [],
   "source": [
    "# convert into txt file for training\n",
    "train_all_txt = train_all[[text_column, 'label']]\n",
    "\n",
    "with open(f\"data/fasttext/{old_new}/train_all_{text_column}.txt\", \"w\") as f:\n",
    "    for i in range(len(train_all_txt)):\n",
    "        row = train_all_txt.iloc[i]\n",
    "        label = row['label']\n",
    "        label_txt = ''\n",
    "        if label == 1:\n",
    "            label_txt = 'pos'\n",
    "        elif label == -1:\n",
    "            label_txt = 'neg'\n",
    "        elif label == 0:\n",
    "            label_txt = 'zer'\n",
    "        line = f'__label__{label_txt} {row[text_column]} \\n'\n",
    "        f.write(line)"
   ]
  },
  {
   "cell_type": "code",
   "execution_count": null,
   "id": "stone-genome",
   "metadata": {},
   "outputs": [],
   "source": []
  },
  {
   "cell_type": "markdown",
   "id": "boolean-algorithm",
   "metadata": {},
   "source": [
    "## Custom Model\n",
    "\n",
    "Useful Links:\n",
    "- https://fasttext.cc/docs/en/supervised-tutorial.html\n",
    "- https://pypi.org/project/fasttext/\n",
    "- https://towardsdatascience.com/natural-language-processing-with-fasttext-part-1-an-intro-to-text-classification-with-fasttext-11b9771722d8\n",
    "- https://fasttext.cc/docs/en/crawl-vectors.html"
   ]
  },
  {
   "cell_type": "code",
   "execution_count": null,
   "id": "contemporary-blast",
   "metadata": {},
   "outputs": [],
   "source": [
    "model = fasttext.train_supervised(input=f\"data/fasttext/{old_new}/train_all_{text_column}.txt\")"
   ]
  },
  {
   "cell_type": "markdown",
   "id": "destroyed-radiation",
   "metadata": {},
   "source": [
    "## Predict on Test"
   ]
  },
  {
   "cell_type": "code",
   "execution_count": null,
   "id": "honey-energy",
   "metadata": {},
   "outputs": [],
   "source": [
    "# predict on test\n",
    "test_pred_df = data['test_'+text_column].copy()\n",
    "test_pred_df['raw_output'] = test_pred_df.apply(lambda x: model.predict(x[text_column].replace(\"\\n\", \"\")), axis=1)\n",
    "test_pred_df['raw_pred'] = test_pred_df.apply(lambda x: x.raw_output[0][0][-3:], axis=1)\n",
    "test_pred_df['raw_prob'] = test_pred_df.apply(lambda x: x.raw_output[1][0], axis=1)"
   ]
  },
  {
   "cell_type": "code",
   "execution_count": null,
   "id": "native-ghost",
   "metadata": {},
   "outputs": [],
   "source": [
    "test_pred_df.raw_pred.value_counts()"
   ]
  },
  {
   "cell_type": "code",
   "execution_count": null,
   "id": "stable-consent",
   "metadata": {},
   "outputs": [],
   "source": [
    "def label_from_txt(x):\n",
    "    if x == 'pos':\n",
    "        return 1\n",
    "    elif x == 'neg':\n",
    "        return -1\n",
    "    else:\n",
    "        return 0"
   ]
  },
  {
   "cell_type": "code",
   "execution_count": null,
   "id": "guided-tragedy",
   "metadata": {},
   "outputs": [],
   "source": [
    "test_pred_df['pred'] = test_pred_df.apply(lambda x: label_from_txt(x['raw_pred']), axis=1)"
   ]
  },
  {
   "cell_type": "code",
   "execution_count": null,
   "id": "floppy-lewis",
   "metadata": {},
   "outputs": [],
   "source": [
    "test_results = classification_report(test_pred_df.label, test_pred_df.pred, output_dict=True)\n",
    "# save to txt\n",
    "f = open(f'model_results/fasttext/custom/{old_new}/test_{text_column}.txt', \"w\")\n",
    "f.write( str(test_results) )\n",
    "f.close()\n",
    "\n",
    "print(classification_report(test_pred_df.label, test_pred_df.pred, digits=4))"
   ]
  },
  {
   "cell_type": "code",
   "execution_count": null,
   "id": "thirty-louis",
   "metadata": {},
   "outputs": [],
   "source": [
    "test_pred_df.label.value_counts()"
   ]
  },
  {
   "cell_type": "code",
   "execution_count": null,
   "id": "premier-charles",
   "metadata": {},
   "outputs": [],
   "source": [
    "test_pred_df.pred.value_counts()"
   ]
  },
  {
   "cell_type": "code",
   "execution_count": null,
   "id": "thousand-fetish",
   "metadata": {},
   "outputs": [],
   "source": []
  },
  {
   "cell_type": "markdown",
   "id": "immediate-conducting",
   "metadata": {},
   "source": [
    "# Stacking Code"
   ]
  },
  {
   "cell_type": "markdown",
   "id": "outdoor-virginia",
   "metadata": {},
   "source": [
    "## Load Data"
   ]
  },
  {
   "cell_type": "code",
   "execution_count": null,
   "id": "statutory-horse",
   "metadata": {},
   "outputs": [],
   "source": [
    "# define path and filenames\n",
    "path = 'data/stacking_folds/'\n",
    "fold_num = 5\n",
    "suffix = '.csv'\n",
    "\n",
    "text_column = 'phrase_stem' # DO NOT CHANGE THIS"
   ]
  },
  {
   "cell_type": "code",
   "execution_count": null,
   "id": "cheap-provider",
   "metadata": {},
   "outputs": [],
   "source": [
    "# create data dict\n",
    "data = {}\n",
    "data_names = [f'train{fold_num}', f'fold{fold_num}']\n",
    "# data_names = ['train_all', 'test']\n",
    "\n",
    "for name in data_names:\n",
    "    # read data\n",
    "    df = pd.read_csv(path+name+suffix)\n",
    "    df['label'] = df['label'].astype('int32')\n",
    "    # add to data dict\n",
    "    data[f'{name}'] = df"
   ]
  },
  {
   "cell_type": "code",
   "execution_count": null,
   "id": "adverse-jerusalem",
   "metadata": {
    "scrolled": false
   },
   "outputs": [],
   "source": [
    "for df_name, df in data.items():\n",
    "    print(df_name)\n",
    "    print(df.shape)\n",
    "    print(df.label.value_counts())\n",
    "    display(df.head(3))\n",
    "    print('\\n')"
   ]
  },
  {
   "cell_type": "code",
   "execution_count": null,
   "id": "amazing-typing",
   "metadata": {},
   "outputs": [],
   "source": [
    "# convert into txt file for training\n",
    "train = data[f'train{fold_num}']\n",
    "# train = data['train_all']\n",
    "train_txt = train[[text_column, 'label']]\n",
    "\n",
    "# with open(f\"data/fasttext/stacking_folds/train_all.txt\", \"w\") as f:\n",
    "with open(f\"data/fasttext/stacking_folds/train_{fold_num}.txt\", \"w\") as f:\n",
    "    for i in range(len(train_txt)):\n",
    "        row = train_txt.iloc[i]\n",
    "        label = row['label']\n",
    "        label_txt = ''\n",
    "        if label == 1:\n",
    "            label_txt = 'pos'\n",
    "        elif label == -1:\n",
    "            label_txt = 'neg'\n",
    "        elif label == 0:\n",
    "            label_txt = 'zer'\n",
    "        line = f'__label__{label_txt} {row[text_column]} \\n'\n",
    "        f.write(line)"
   ]
  },
  {
   "cell_type": "code",
   "execution_count": null,
   "id": "social-venture",
   "metadata": {},
   "outputs": [],
   "source": []
  },
  {
   "cell_type": "markdown",
   "id": "inclusive-airfare",
   "metadata": {},
   "source": [
    "## Custom Model\n",
    "\n",
    "Useful Links:\n",
    "- https://fasttext.cc/docs/en/supervised-tutorial.html\n",
    "- https://pypi.org/project/fasttext/\n",
    "- https://towardsdatascience.com/natural-language-processing-with-fasttext-part-1-an-intro-to-text-classification-with-fasttext-11b9771722d8\n",
    "- https://fasttext.cc/docs/en/crawl-vectors.html"
   ]
  },
  {
   "cell_type": "code",
   "execution_count": null,
   "id": "certain-jesus",
   "metadata": {},
   "outputs": [],
   "source": [
    "model = fasttext.train_supervised(input=f\"data/fasttext/stacking_folds/train_{fold_num}.txt\")\n",
    "# model = fasttext.train_supervised(input=f\"data/fasttext/stacking_folds/train_all.txt\")"
   ]
  },
  {
   "cell_type": "markdown",
   "id": "traditional-resource",
   "metadata": {},
   "source": [
    "## Predict on Folds"
   ]
  },
  {
   "cell_type": "code",
   "execution_count": null,
   "id": "conscious-workplace",
   "metadata": {},
   "outputs": [],
   "source": [
    "from scipy.special import softmax\n",
    "\n",
    "def get_index(lst, tag):\n",
    "    for i in range(len(lst)):\n",
    "        if lst[i][-3:] == tag:\n",
    "            return i\n",
    "        \n",
    "def label_from_txt(x):\n",
    "    if x == 'pos':\n",
    "        return 1\n",
    "    elif x == 'neg':\n",
    "        return -1\n",
    "    else:\n",
    "        return 0"
   ]
  },
  {
   "cell_type": "code",
   "execution_count": null,
   "id": "pressing-script",
   "metadata": {},
   "outputs": [],
   "source": [
    "# predict on test\n",
    "test_pred_df = data[f'fold{fold_num}'].copy()\n",
    "# test_pred_df = data['test'].copy()\n",
    "test_pred_df['raw_output'] = test_pred_df.apply(lambda x: model.predict(x[text_column].replace(\"\\n\", \"\"), k=-1), axis=1)\n",
    "test_pred_df['raw_pred'] = test_pred_df.apply(lambda x: model.predict(x[text_column].replace(\"\\n\", \"\"))[0][0][-3:], axis=1)\n",
    "test_pred_df['pred'] = test_pred_df.apply(lambda x: label_from_txt(x['raw_pred']), axis=1)\n",
    "\n",
    "test_pred_df['raw_prob'] = test_pred_df.apply(lambda x: softmax(list(x.raw_output[1])), axis=1)\n",
    "test_pred_df['pos_index'] = test_pred_df.apply(lambda x: get_index(list(x.raw_output[0]), 'pos'), axis=1)\n",
    "test_pred_df['neg_index'] = test_pred_df.apply(lambda x: get_index(list(x.raw_output[0]), 'neg'), axis=1)\n",
    "test_pred_df['fasttext_prob_pos'] = test_pred_df.apply(lambda x: x.raw_prob[x.pos_index], axis=1)\n",
    "test_pred_df['fasttext_prob_neg'] = test_pred_df.apply(lambda x: x.raw_prob[x.neg_index], axis=1)"
   ]
  },
  {
   "cell_type": "code",
   "execution_count": null,
   "id": "announced-liability",
   "metadata": {},
   "outputs": [],
   "source": [
    "test_pred_df.to_csv(f'stacking_preds/fasttext/fasttext_fold{fold_num}_full.csv', index=False)\n",
    "# test_pred_df.to_csv(f'stacking_preds/fasttext/fasttext_test_full.csv', index=False)"
   ]
  },
  {
   "cell_type": "code",
   "execution_count": null,
   "id": "three-picture",
   "metadata": {},
   "outputs": [],
   "source": [
    "test_preds_only = test_pred_df[['fasttext_prob_pos', 'fasttext_prob_neg']]\n",
    "test_preds_only.to_csv(f'stacking_preds/fasttext/fasttext_fold{fold_num}.csv', index=False)\n",
    "# test_preds_only.to_csv(f'stacking_preds/fasttext/fasttext_test.csv', index=False)"
   ]
  },
  {
   "cell_type": "code",
   "execution_count": null,
   "id": "level-exclusive",
   "metadata": {},
   "outputs": [],
   "source": [
    "print(classification_report(test_pred_df.label, test_pred_df.pred, digits=4))"
   ]
  },
  {
   "cell_type": "code",
   "execution_count": null,
   "id": "therapeutic-kinase",
   "metadata": {},
   "outputs": [],
   "source": [
    "test_pred_df.label.value_counts()"
   ]
  },
  {
   "cell_type": "code",
   "execution_count": null,
   "id": "statistical-warner",
   "metadata": {},
   "outputs": [],
   "source": [
    "test_pred_df.pred.value_counts()"
   ]
  },
  {
   "cell_type": "code",
   "execution_count": null,
   "id": "charged-basics",
   "metadata": {},
   "outputs": [],
   "source": []
  },
  {
   "cell_type": "code",
   "execution_count": null,
   "id": "demonstrated-brunswick",
   "metadata": {},
   "outputs": [],
   "source": []
  }
 ],
 "metadata": {
  "kernelspec": {
   "display_name": "Python 3",
   "language": "python",
   "name": "python3"
  },
  "language_info": {
   "codemirror_mode": {
    "name": "ipython",
    "version": 3
   },
   "file_extension": ".py",
   "mimetype": "text/x-python",
   "name": "python",
   "nbconvert_exporter": "python",
   "pygments_lexer": "ipython3",
   "version": "3.8.5"
  }
 },
 "nbformat": 4,
 "nbformat_minor": 5
}
