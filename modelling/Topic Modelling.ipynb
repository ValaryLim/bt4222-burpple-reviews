{
 "cells": [
  {
   "cell_type": "markdown",
   "metadata": {},
   "source": [
    "Latent Dirichlet Allocation (LDA) from Gensim package along with the Mallet’s implementation (via Gensim). Mallet has an efficient implementation of the LDA. It is known to run faster and gives better topics segregation.\n",
    "\n",
    "\n",
    "The following are key factors to obtaining good segregation topics:\n",
    "\n",
    "1. The quality of text processing.\n",
    "2. The variety of topics the text talks about.\n",
    "3. The choice of topic modeling algorithm.\n",
    "4. The number of topics fed to the algorithm.\n",
    "5. The algorithms tuning parameters.\n",
    "\n",
    "https://www.machinelearningplus.com/nlp/topic-modeling-gensim-python/"
   ]
  },
  {
   "cell_type": "markdown",
   "metadata": {},
   "source": [
    "Importing Packages"
   ]
  },
  {
   "cell_type": "code",
   "execution_count": 1,
   "metadata": {},
   "outputs": [
    {
     "name": "stderr",
     "output_type": "stream",
     "text": [
      "[nltk_data] Downloading package stopwords to\n",
      "[nltk_data]     /Users/xinminaw/nltk_data...\n",
      "[nltk_data]   Package stopwords is already up-to-date!\n"
     ]
    }
   ],
   "source": [
    "import nltk\n",
    "nltk.download('stopwords')\n",
    "import re\n",
    "import numpy as np\n",
    "import pandas as pd\n",
    "from pprint import pprint\n",
    "\n",
    "# Gensim\n",
    "import gensim\n",
    "import gensim.corpora as corpora\n",
    "from gensim.utils import simple_preprocess\n",
    "from gensim.models import CoherenceModel\n",
    "\n",
    "# spacy for lemmatization\n",
    "import spacy\n",
    "\n",
    "# Plotting tools\n",
    "import pyLDAvis\n",
    "import pyLDAvis.gensim  # don't skip this\n",
    "import matplotlib.pyplot as plt\n",
    "%matplotlib inline\n",
    "\n",
    "# Enable logging for gensim - optional\n",
    "import logging\n",
    "logging.basicConfig(format='%(asctime)s : %(levelname)s : %(message)s', level=logging.ERROR)\n",
    "\n",
    "import warnings\n",
    "warnings.filterwarnings(\"ignore\",category=DeprecationWarning)"
   ]
  },
  {
   "cell_type": "markdown",
   "metadata": {},
   "source": [
    "Reading Data "
   ]
  },
  {
   "cell_type": "code",
   "execution_count": 12,
   "metadata": {
    "scrolled": true
   },
   "outputs": [
    {
     "data": {
      "text/html": [
       "<div>\n",
       "<style scoped>\n",
       "    .dataframe tbody tr th:only-of-type {\n",
       "        vertical-align: middle;\n",
       "    }\n",
       "\n",
       "    .dataframe tbody tr th {\n",
       "        vertical-align: top;\n",
       "    }\n",
       "\n",
       "    .dataframe thead th {\n",
       "        text-align: right;\n",
       "    }\n",
       "</style>\n",
       "<table border=\"1\" class=\"dataframe\">\n",
       "  <thead>\n",
       "    <tr style=\"text-align: right;\">\n",
       "      <th></th>\n",
       "      <th>review_title</th>\n",
       "      <th>review_body</th>\n",
       "      <th>review_date</th>\n",
       "      <th>account_name</th>\n",
       "      <th>account_id</th>\n",
       "      <th>account_level</th>\n",
       "      <th>account_photo</th>\n",
       "      <th>review_photo</th>\n",
       "      <th>restaurant_code</th>\n",
       "      <th>location</th>\n",
       "    </tr>\n",
       "  </thead>\n",
       "  <tbody>\n",
       "    <tr>\n",
       "      <th>0</th>\n",
       "      <td>Best Kerala Biriyani And Fish Curry</td>\n",
       "      <td>The malabar fish curry here is yummmm. Must tr...</td>\n",
       "      <td>4/3/20</td>\n",
       "      <td>Nashiya Salim</td>\n",
       "      <td>@nashiyasalim</td>\n",
       "      <td>Level 2 Burppler</td>\n",
       "      <td>https://graph.facebook.com/10220268216879090/p...</td>\n",
       "      <td>https://burpple-2.imgix.net/foods/30e2d95540c7...</td>\n",
       "      <td>paradise-biryani</td>\n",
       "      <td>Yishun</td>\n",
       "    </tr>\n",
       "    <tr>\n",
       "      <th>1</th>\n",
       "      <td>Wantan Mee</td>\n",
       "      <td>I like it that the handmade egg noodles were s...</td>\n",
       "      <td>6/10/20</td>\n",
       "      <td>Li Ting Tan</td>\n",
       "      <td>@Fatspoting</td>\n",
       "      <td>Level 6 Burppler</td>\n",
       "      <td>https://s3.burpple.com/assets/images/DisplayIc...</td>\n",
       "      <td>https://burpple-3.imgix.net/foods/3246d3378f6c...</td>\n",
       "      <td>engs-wantan-noodle</td>\n",
       "      <td>Katong</td>\n",
       "    </tr>\n",
       "    <tr>\n",
       "      <th>2</th>\n",
       "      <td>Eng's Noodle House</td>\n",
       "      <td>Delectable noodles n its really gd ! Nothing b...</td>\n",
       "      <td>11/9/20</td>\n",
       "      <td>Ravishing Rick Rude</td>\n",
       "      <td>@Rampage5</td>\n",
       "      <td>Level 5 Burppler</td>\n",
       "      <td>https://burpple.imgix.net/users/4aaea47eba8fd3...</td>\n",
       "      <td>https://burpple.imgix.net/foods/2f86b0a1829634...</td>\n",
       "      <td>engs-wantan-noodle</td>\n",
       "      <td>Katong</td>\n",
       "    </tr>\n",
       "    <tr>\n",
       "      <th>3</th>\n",
       "      <td>Wanton Noodles</td>\n",
       "      <td>For wanton Noodles + zichar options. Can't com...</td>\n",
       "      <td>3/1/20</td>\n",
       "      <td>Vanessa S</td>\n",
       "      <td>@vanessasng</td>\n",
       "      <td>Level 10 Burppler</td>\n",
       "      <td>https://burpple-2.imgix.net/users/e8de139e0b30...</td>\n",
       "      <td>https://burpple.imgix.net/foods/cb581a01aa78e7...</td>\n",
       "      <td>engs-wantan-noodle</td>\n",
       "      <td>Katong</td>\n",
       "    </tr>\n",
       "    <tr>\n",
       "      <th>4</th>\n",
       "      <td>Eng Wonton Noodle In Novena!</td>\n",
       "      <td>There is a new ENG WONTON NOODLE at novena! Ne...</td>\n",
       "      <td>21/9/19</td>\n",
       "      <td>Spoons Of Delights</td>\n",
       "      <td>@spoonsofdelights</td>\n",
       "      <td>Level 9 Burppler</td>\n",
       "      <td>https://burpple-1.imgix.net/users/63e3b3ccd8de...</td>\n",
       "      <td>https://burpple-1.imgix.net/foods/1d5df54d308f...</td>\n",
       "      <td>engs-wantan-noodle</td>\n",
       "      <td>Katong</td>\n",
       "    </tr>\n",
       "  </tbody>\n",
       "</table>\n",
       "</div>"
      ],
      "text/plain": [
       "                          review_title  \\\n",
       "0  Best Kerala Biriyani And Fish Curry   \n",
       "1                           Wantan Mee   \n",
       "2                   Eng's Noodle House   \n",
       "3                       Wanton Noodles   \n",
       "4         Eng Wonton Noodle In Novena!   \n",
       "\n",
       "                                         review_body review_date  \\\n",
       "0  The malabar fish curry here is yummmm. Must tr...      4/3/20   \n",
       "1  I like it that the handmade egg noodles were s...     6/10/20   \n",
       "2  Delectable noodles n its really gd ! Nothing b...     11/9/20   \n",
       "3  For wanton Noodles + zichar options. Can't com...      3/1/20   \n",
       "4  There is a new ENG WONTON NOODLE at novena! Ne...     21/9/19   \n",
       "\n",
       "          account_name         account_id      account_level  \\\n",
       "0        Nashiya Salim      @nashiyasalim   Level 2 Burppler   \n",
       "1          Li Ting Tan        @Fatspoting   Level 6 Burppler   \n",
       "2  Ravishing Rick Rude          @Rampage5   Level 5 Burppler   \n",
       "3            Vanessa S        @vanessasng  Level 10 Burppler   \n",
       "4   Spoons Of Delights  @spoonsofdelights   Level 9 Burppler   \n",
       "\n",
       "                                       account_photo  \\\n",
       "0  https://graph.facebook.com/10220268216879090/p...   \n",
       "1  https://s3.burpple.com/assets/images/DisplayIc...   \n",
       "2  https://burpple.imgix.net/users/4aaea47eba8fd3...   \n",
       "3  https://burpple-2.imgix.net/users/e8de139e0b30...   \n",
       "4  https://burpple-1.imgix.net/users/63e3b3ccd8de...   \n",
       "\n",
       "                                        review_photo     restaurant_code  \\\n",
       "0  https://burpple-2.imgix.net/foods/30e2d95540c7...    paradise-biryani   \n",
       "1  https://burpple-3.imgix.net/foods/3246d3378f6c...  engs-wantan-noodle   \n",
       "2  https://burpple.imgix.net/foods/2f86b0a1829634...  engs-wantan-noodle   \n",
       "3  https://burpple.imgix.net/foods/cb581a01aa78e7...  engs-wantan-noodle   \n",
       "4  https://burpple-1.imgix.net/foods/1d5df54d308f...  engs-wantan-noodle   \n",
       "\n",
       "  location  \n",
       "0   Yishun  \n",
       "1   Katong  \n",
       "2   Katong  \n",
       "3   Katong  \n",
       "4   Katong  "
      ]
     },
     "execution_count": 12,
     "metadata": {},
     "output_type": "execute_result"
    }
   ],
   "source": [
    "# something wrong with path to import\n",
    "reviews = pd.read_csv('reviews_nontest.csv')\n",
    "reviews.head()"
   ]
  },
  {
   "cell_type": "code",
   "execution_count": 72,
   "metadata": {},
   "outputs": [
    {
     "data": {
      "text/plain": [
       "'Steak was stingy and small, meat was dry and tough. Service was bad. Will not be coming back again.'"
      ]
     },
     "execution_count": 72,
     "metadata": {},
     "output_type": "execute_result"
    }
   ],
   "source": [
    "reviews.review_body.values[5000]"
   ]
  },
  {
   "cell_type": "markdown",
   "metadata": {},
   "source": [
    "Data Preprocessing\n",
    "\n",
    "Tokenize + Lowercase + remove punctuations + remove stopwords + include bi-grams on top of unigrams + lemmatization\n",
    "\n",
    "Try: Decontractions + OOV words https://towardsdatascience.com/yelp-review-analysis-for-chipotle-with-natural-language-processing-bf4b3e5db140"
   ]
  },
  {
   "cell_type": "code",
   "execution_count": 22,
   "metadata": {},
   "outputs": [],
   "source": [
    "from nltk.corpus import stopwords\n",
    "stop_words = stopwords.words('english')\n",
    "# stop_words.extend(['from', 'subject', 're', 'edu', 'use'])\n",
    "\n",
    "# Tokenize + lowercase + remove punctuations\n",
    "def sent_to_words(sentences):\n",
    "    for sentence in sentences:\n",
    "        yield(gensim.utils.simple_preprocess(str(sentence), deacc=True))  # deacc=True removes punctuations/Remove accentuation from the given string\n",
    "\n",
    "# Convert to list\n",
    "data = reviews.review_body.values.tolist()\n",
    "data_words = list(sent_to_words(data))"
   ]
  },
  {
   "cell_type": "code",
   "execution_count": 23,
   "metadata": {},
   "outputs": [],
   "source": [
    "# remove stopwords\n",
    "def remove_stopwords(texts):\n",
    "    return [[word for word in simple_preprocess(str(doc)) \n",
    "             if word not in stop_words] for doc in texts] \n",
    "\n",
    "# Build the bigram and trigram models\n",
    "bigram = gensim.models.Phrases(data_words, min_count=5, threshold=100) # higher threshold fewer phrases.\n",
    "\n",
    "# Faster way to get a sentence clubbed as a trigram/bigram\n",
    "bigram_mod = gensim.models.phrases.Phraser(bigram)\n",
    "\n",
    "def make_bigrams(texts):\n",
    "    return [bigram_mod[doc] for doc in texts]\n",
    "\n",
    "def lemmatization(texts, allowed_postags=['NOUN', 'ADJ', 'VERB', 'ADV']):\n",
    "    \"\"\"https://spacy.io/api/annotation\"\"\"\n",
    "    texts_out = []\n",
    "    for sent in texts:\n",
    "        doc = nlp(\" \".join(sent)) \n",
    "        texts_out.append([token.lemma_ for token in doc if token.pos_ in allowed_postags])\n",
    "    return texts_out"
   ]
  },
  {
   "cell_type": "code",
   "execution_count": 28,
   "metadata": {},
   "outputs": [],
   "source": [
    "# Remove Stop Words\n",
    "data_words_nostops = remove_stopwords(data_words)\n",
    "\n",
    "# Form Bigrams\n",
    "data_words_bigrams = make_bigrams(data_words_nostops)\n",
    "\n",
    "# Initialize spacy 'en' model, keeping only tagger component (for efficiency)\n",
    "# python3 -m spacy download en\n",
    "nlp = spacy.load('en_core_web_sm', disable=['parser', 'ner'])\n",
    "\n",
    "# Do lemmatization keeping only noun, adj, vb, adv - default \n",
    "data_lemmatized = lemmatization(data_words_bigrams, allowed_postags=['NOUN', 'ADJ', 'VERB', 'ADV'])"
   ]
  },
  {
   "cell_type": "markdown",
   "metadata": {},
   "source": [
    "##### Topic Modelling\n",
    "\n",
    "Types of Topic Models - https://medium.com/nanonets/topic-modeling-with-lsa-psla-lda-and-lda2vec-555ff65b0b05 "
   ]
  },
  {
   "cell_type": "code",
   "execution_count": 29,
   "metadata": {},
   "outputs": [],
   "source": [
    "# Create Dictionary & Corpus required for topic modelling\n",
    "\n",
    "# Create Dictionary\n",
    "id2word = corpora.Dictionary(data_lemmatized)\n",
    "\n",
    "# Create Corpus\n",
    "texts = data_lemmatized\n",
    "\n",
    "# Term Document Frequency\n",
    "corpus = [id2word.doc2bow(text) for text in texts]"
   ]
  },
  {
   "cell_type": "code",
   "execution_count": 30,
   "metadata": {
    "collapsed": true
   },
   "outputs": [
    {
     "data": {
      "text/plain": [
       "[[('ask', 1),\n",
       "  ('chicken', 2),\n",
       "  ('cone', 1),\n",
       "  ('crave', 1),\n",
       "  ('curry', 3),\n",
       "  ('dum', 1),\n",
       "  ('even', 1),\n",
       "  ('fish', 3),\n",
       "  ('get', 1),\n",
       "  ('good', 1),\n",
       "  ('kerala', 1),\n",
       "  ('life', 1),\n",
       "  ('like', 1),\n",
       "  ('malabar', 2),\n",
       "  ('nice', 1),\n",
       "  ('occasionally', 1),\n",
       "  ('one', 1),\n",
       "  ('rice', 1),\n",
       "  ('small', 1),\n",
       "  ('starter', 1),\n",
       "  ('try', 1),\n",
       "  ('yummmm', 1)]]"
      ]
     },
     "execution_count": 30,
     "metadata": {},
     "output_type": "execute_result"
    }
   ],
   "source": [
    "# Human readable format of corpus (term-frequency)\n",
    "[[(id2word[id], freq) for id, freq in cp] for cp in corpus[:1]]"
   ]
  },
  {
   "cell_type": "markdown",
   "metadata": {},
   "source": [
    "###### Baseline LDA Model (No hyperparamter tuning etc)"
   ]
  },
  {
   "cell_type": "code",
   "execution_count": 34,
   "metadata": {},
   "outputs": [],
   "source": [
    "# Build LDA model\n",
    "lda_model = gensim.models.ldamodel.LdaModel(corpus=corpus,\n",
    "                                           id2word=id2word,\n",
    "                                           num_topics=20, \n",
    "                                           random_state=100,\n",
    "                                           update_every=1,\n",
    "                                           chunksize=100,\n",
    "                                           passes=10,\n",
    "                                           alpha='auto',\n",
    "                                           per_word_topics=True)"
   ]
  },
  {
   "cell_type": "code",
   "execution_count": 35,
   "metadata": {
    "scrolled": false
   },
   "outputs": [
    {
     "name": "stdout",
     "output_type": "stream",
     "text": [
      "[(0,\n",
      "  '0.139*\"foodstagram\" + 0.112*\"portion\" + 0.079*\"dayseat\" + '\n",
      "  '0.079*\"hungrygowhere\" + 0.049*\"sgcafe\" + 0.040*\"warm\" + 0.040*\"openricesg\" '\n",
      "  '+ 0.040*\"next\" + 0.031*\"igfood\" + 0.024*\"second\"'),\n",
      " (1,\n",
      "  '0.418*\"singapore\" + 0.089*\"friend\" + 0.078*\"road\" + 0.057*\"hand\" + '\n",
      "  '0.056*\"night\" + 0.052*\"address\" + 0.045*\"monday\" + 0.030*\"dumpling\" + '\n",
      "  '0.028*\"late\" + 0.017*\"literally\"'),\n",
      " (2,\n",
      "  '0.417*\"day\" + 0.254*\"breakfast\" + 0.073*\"beautiful\" + 0.045*\"person\" + '\n",
      "  '0.039*\"believe\" + 0.012*\"ahead\" + 0.000*\"coffee\" + 0.000*\"cream\" + '\n",
      "  '0.000*\"dessert\" + 0.000*\"cake\"'),\n",
      " (3,\n",
      "  '0.314*\"great\" + 0.211*\"hot\" + 0.114*\"fan\" + 0.091*\"though\" + 0.050*\"run\" + '\n",
      "  '0.026*\"pass\" + 0.025*\"delight\" + 0.025*\"tiny\" + 0.021*\"tastebud\" + '\n",
      "  '0.000*\"cream\"'),\n",
      " (4,\n",
      "  '0.699*\"egg\" + 0.064*\"lover\" + 0.029*\"hide\" + 0.029*\"tslmakan\" + '\n",
      "  '0.019*\"hahaha\" + 0.018*\"weather\" + 0.014*\"mine\" + 0.009*\"squeeze\" + '\n",
      "  '0.000*\"salt\" + 0.000*\"truffle\"'),\n",
      " (5,\n",
      "  '0.289*\"chicken\" + 0.270*\"rice\" + 0.122*\"spicy\" + 0.113*\"fish\" + '\n",
      "  '0.089*\"curry\" + 0.032*\"ask\" + 0.020*\"soya\" + 0.012*\"starter\" + 0.004*\"cone\" '\n",
      "  '+ 0.003*\"spice\"'),\n",
      " (6,\n",
      "  '0.072*\"sauce\" + 0.058*\"dish\" + 0.055*\"come\" + 0.049*\"fry\" + 0.048*\"order\" + '\n",
      "  '0.047*\"serve\" + 0.031*\"pretty\" + 0.028*\"nice\" + 0.027*\"side\" + '\n",
      "  '0.027*\"quite\"'),\n",
      " (7,\n",
      "  '0.180*\"chili\" + 0.166*\"mee\" + 0.153*\"wanton\" + 0.116*\"favorite\" + '\n",
      "  '0.104*\"real\" + 0.030*\"tongue\" + 0.000*\"prawn\" + 0.000*\"bak_chor\" + '\n",
      "  '0.000*\"beef\" + 0.000*\"crab\"'),\n",
      " (8,\n",
      "  '0.052*\"good\" + 0.034*\"taste\" + 0.031*\"well\" + 0.027*\"get\" + 0.026*\"really\" '\n",
      "  '+ 0.025*\"sweet\" + 0.025*\"try\" + 0.024*\"flavour\" + 0.023*\"go\" + '\n",
      "  '0.022*\"love\"'),\n",
      " (9,\n",
      "  '0.258*\"price\" + 0.232*\"crispy\" + 0.120*\"piece\" + 0.088*\"quality\" + '\n",
      "  '0.070*\"vegetable\" + 0.031*\"cooked\" + 0.030*\"medium\" + 0.028*\"non\" + '\n",
      "  '0.024*\"highlight\" + 0.020*\"regular\"'),\n",
      " (10,\n",
      "  '0.197*\"burpple\" + 0.102*\"sgfoodie\" + 0.090*\"sgfood\" + 0.073*\"foodporn\" + '\n",
      "  '0.057*\"instafood\" + 0.049*\"foodie\" + 0.043*\"burpplesg\" + 0.036*\"foodgasm\" + '\n",
      "  '0.036*\"sgeat\" + 0.034*\"foodphotography\"'),\n",
      " (11,\n",
      "  '0.277*\"also\" + 0.166*\"drink\" + 0.095*\"service\" + 0.086*\"brunch\" + '\n",
      "  '0.055*\"affordable\" + 0.054*\"staff\" + 0.046*\"weekend\" + 0.045*\"comfort\" + '\n",
      "  '0.040*\"friendly\" + 0.028*\"live\"'),\n",
      " (12,\n",
      "  '0.260*\"top\" + 0.177*\"yummy\" + 0.124*\"skin\" + 0.085*\"thin\" + 0.061*\"normal\" '\n",
      "  '+ 0.042*\"famous\" + 0.040*\"overly\" + 0.032*\"flavorful\" + 0.027*\"tough\" + '\n",
      "  '0.022*\"honestly\"'),\n",
      " (13,\n",
      "  '0.099*\"noodle\" + 0.082*\"soup\" + 0.081*\"pork\" + 0.079*\"meat\" + 0.056*\"bowl\" '\n",
      "  '+ 0.046*\"tender\" + 0.046*\"raman\" + 0.036*\"slice\" + 0.031*\"chilli\" + '\n",
      "  '0.028*\"juicy\"'),\n",
      " (14,\n",
      "  '0.508*\"food\" + 0.160*\"definitely\" + 0.102*\"always\" + 0.060*\"open\" + '\n",
      "  '0.044*\"seem\" + 0.033*\"family\" + 0.020*\"month\" + 0.007*\"common\" + '\n",
      "  '0.006*\"realise\" + 0.004*\"member\"'),\n",
      " (15,\n",
      "  '0.413*\"back\" + 0.240*\"instafood_sg\" + 0.127*\"sgfoodblogger\" + '\n",
      "  '0.036*\"branch\" + 0.013*\"foodphoto\" + 0.001*\"feedfeed_dailyfoodfeed\" + '\n",
      "  '0.000*\"beef\" + 0.000*\"cream\" + 0.000*\"ice\" + 0.000*\"tea\"'),\n",
      " (16,\n",
      "  '0.215*\"lunch\" + 0.149*\"dinner\" + 0.128*\"japanese\" + 0.112*\"black\" + '\n",
      "  '0.072*\"queue\" + 0.034*\"crave\" + 0.033*\"rating\" + 0.031*\"eeeeeat\" + '\n",
      "  '0.023*\"list\" + 0.021*\"asian\"'),\n",
      " (17,\n",
      "  '0.109*\"delicious\" + 0.094*\"set\" + 0.078*\"tasty\" + 0.064*\"available\" + '\n",
      "  '0.052*\"choose\" + 0.052*\"green\" + 0.048*\"red\" + 0.047*\"savoury\" + '\n",
      "  '0.040*\"amazing\" + 0.036*\"full\"'),\n",
      " (18,\n",
      "  '0.227*\"fill\" + 0.197*\"white\" + 0.149*\"today\" + 0.067*\"surprisingly\" + '\n",
      "  '0.065*\"balance\" + 0.040*\"clean\" + 0.017*\"flour\" + 0.015*\"possible\" + '\n",
      "  '0.015*\"shout\" + 0.013*\"feedfeed\"'),\n",
      " (19,\n",
      "  '0.389*\"pm\" + 0.092*\"instagood\" + 0.090*\"sit\" + 0.090*\"prepare\" + '\n",
      "  '0.088*\"tell\" + 0.051*\"nomnom\" + 0.019*\"blogger\" + 0.006*\"chat\" + '\n",
      "  '0.002*\"noodleholic\" + 0.000*\"tea\"')]\n"
     ]
    }
   ],
   "source": [
    "# Print the Keyword in the 10 topics\n",
    "pprint(lda_model.print_topics())\n",
    "doc_lda = lda_model[corpus]"
   ]
  },
  {
   "cell_type": "markdown",
   "metadata": {},
   "source": [
    "Evaluating Topic models :\n",
    "1. Perplexity - usually not correlated with\n",
    "2. Topic Coherence  - http://qpleple.com/topic-coherence-to-evaluate-topic-models/\n",
    "Coherence looks at the most-frequently occurring words in each of the generated topics, rates the semantic similarity between them (using either UCI or Umass to do the pairwise calculations) and then finds the mean coherence score across all the topics in the model.\n"
   ]
  },
  {
   "cell_type": "code",
   "execution_count": 36,
   "metadata": {},
   "outputs": [
    {
     "name": "stdout",
     "output_type": "stream",
     "text": [
      "\n",
      "Perplexity:  -19.460264091703785\n",
      "\n",
      "Coherence Score:  0.5592305467800803\n"
     ]
    }
   ],
   "source": [
    "# Compute Perplexity\n",
    "print('\\nPerplexity: ', lda_model.log_perplexity(corpus))  # a measure of how good the model is. lower the better.\n",
    "\n",
    "# Compute Coherence Score\n",
    "coherence_model_lda = CoherenceModel(model=lda_model, texts=data_lemmatized, dictionary=id2word, coherence='c_v')\n",
    "coherence_lda = coherence_model_lda.get_coherence()\n",
    "print('\\nCoherence Score: ', coherence_lda)"
   ]
  },
  {
   "cell_type": "code",
   "execution_count": 63,
   "metadata": {
    "scrolled": true
   },
   "outputs": [
    {
     "data": {
      "text/html": [
       "\n",
       "<link rel=\"stylesheet\" type=\"text/css\" href=\"https://raw.githubusercontent.com/bmabey/pyLDAvis/master/pyLDAvis/js/ldavis.v1.0.0.css\">\n",
       "\n",
       "\n",
       "<div id=\"ldavis_el229311404629584356808667863010\"></div>\n",
       "<script type=\"text/javascript\">\n",
       "\n",
       "var ldavis_el229311404629584356808667863010_data = {\"mdsDat\": {\"x\": [-0.2776100986816104, -0.22888811437710158, -0.1733764921430344, -0.17100379214808997, -0.126753560242548, -0.057854848667347955, -0.048154590195601976, -0.00554588063020115, 0.01799453171941408, 0.017484145730184027, 0.0365972750599347, 0.03692255391104977, 0.048147946495698736, 0.10708308703369974, 0.11820194954109677, 0.10218659248821214, 0.1374865961910773, 0.1465347369821732, 0.14421142038706233, 0.17633654154593315], \"y\": [0.2894641694138021, -0.010850988217862656, -0.16566294954500663, -0.28297641346161134, 0.19516234763103624, -0.04509810363553957, -0.05903368513727253, -0.028093041917084574, -0.015134921968163111, -0.015380106989745991, -0.006499029010191226, -0.006348458488469439, -0.0017312643958851456, 0.016732615396433042, 0.019301251519649537, 0.015517504553358033, 0.023134561441768987, 0.02467757739514307, 0.024296321182414253, 0.028522614233225937], \"topics\": [1, 2, 3, 4, 5, 6, 7, 8, 9, 10, 11, 12, 13, 14, 15, 16, 17, 18, 19, 20], \"cluster\": [1, 1, 1, 1, 1, 1, 1, 1, 1, 1, 1, 1, 1, 1, 1, 1, 1, 1, 1, 1], \"Freq\": [37.42737022966247, 16.59329337717202, 8.344129725272548, 6.549062533202732, 4.176129454659417, 3.417626516660129, 3.3122075050610067, 2.786038937568737, 2.3647579152923517, 2.2200122317100193, 2.1160972514497134, 2.1084077422187404, 1.8374402471290014, 1.3156775971276893, 1.198659174964577, 1.1938847411003088, 0.8725493520441021, 0.8432513357919672, 0.8030637669732242, 0.5203403649392332]}, \"tinfo\": {\"Term\": [\"food\", \"egg\", \"burpple\", \"singapore\", \"chicken\", \"rice\", \"also\", \"sauce\", \"price\", \"noodle\", \"top\", \"good\", \"crispy\", \"lunch\", \"sgfoodie\", \"great\", \"day\", \"dish\", \"soup\", \"pork\", \"meat\", \"come\", \"sgfood\", \"definitely\", \"back\", \"foodstagram\", \"pm\", \"drink\", \"fry\", \"delicious\", \"good\", \"taste\", \"well\", \"get\", \"really\", \"try\", \"flavour\", \"go\", \"love\", \"make\", \"time\", \"place\", \"still\", \"much\", \"soft\", \"even\", \"give\", \"find\", \"bit\", \"add\", \"new\", \"enjoy\", \"look\", \"use\", \"first\", \"texture\", \"stall\", \"take\", \"right\", \"ingredient\", \"generous\", \"sweet\", \"eat\", \"sauce\", \"dish\", \"come\", \"fry\", \"order\", \"serve\", \"pretty\", \"nice\", \"side\", \"quite\", \"little\", \"meal\", \"worth\", \"dry\", \"feel\", \"think\", \"light\", \"small\", \"big\", \"slightly\", \"like\", \"overall\", \"decent\", \"cut\", \"however\", \"need\", \"main\", \"base\", \"salty\", \"part\", \"say\", \"fresh\", \"noodle\", \"soup\", \"pork\", \"meat\", \"bowl\", \"tender\", \"raman\", \"slice\", \"chilli\", \"juicy\", \"rich\", \"flavourful\", \"less\", \"amount\", \"char_siew\", \"instafoodsg\", \"fatty\", \"value\", \"especially\", \"satisfy\", \"money\", \"fried\", \"deep\", \"com\", \"stfoodtrende\", \"wish\", \"omakase\", \"daily\", \"onthetable\", \"shiok\", \"burpple\", \"sgfoodie\", \"sgfood\", \"foodporn\", \"instafood\", \"foodie\", \"burpplesg\", \"foodgasm\", \"sgeat\", \"foodphotography\", \"foodsg\", \"igsg\", \"sgfoodporn\", \"sgig\", \"whati_today\", \"eatoutsg\", \"foodpic\", \"instasg\", \"singaporefood\", \"stfoodtrending\", \"sgmakandiary\", \"foodgram\", \"sgblogger\", \"throwback\", \"openrice_hungrygowhere\", \"invitation\", \"localfood\", \"sgfooddiary\", \"beef\", \"japanesefoodsg\", \"instadaily\", \"nan\", \"dessert\", \"delicious\", \"set\", \"tasty\", \"available\", \"choose\", \"green\", \"red\", \"savoury\", \"amazing\", \"full\", \"simple\", \"spot\", \"hungry\", \"dark\", \"yum\", \"pricey\", \"slight\", \"delish\", \"fragrance\", \"tagsforlike\", \"eating_foodpic\", \"instagood_photooftheday\", \"charsiew\", \"typical\", \"colour\", \"christmas\", \"free_flow\", \"closed\", \"zichar\", \"job\", \"fresh\", \"eat\", \"sweet\", \"chicken\", \"rice\", \"spicy\", \"fish\", \"curry\", \"ask\", \"soya\", \"starter\", \"cone\", \"importantly\", \"melty\", \"spice\", \"wing\", \"cutlet\", \"katsu\", \"hainanese\", \"nan\", \"sambal\", \"gravy\", \"level\", \"brown\", \"teriyaki\", \"salad\", \"roll\", \"grain\", \"garlic\", \"roe\", \"roasted\", \"grill\", \"omelette\", \"cheese\", \"beef\", \"burger\", \"salmon\", \"mushroom\", \"prawn\", \"seafood\", \"broth\", \"favourite\", \"restaurant\", \"menu\", \"crab\", \"tea\", \"cream\", \"salt\", \"ice\", \"truffle\", \"foodstagram\", \"portion\", \"dayseat\", \"hungrygowhere\", \"sgcafe\", \"warm\", \"openricesg\", \"next\", \"igfood\", \"second\", \"home\", \"buy\", \"craving\", \"singaporeeat\", \"sgigfoodie\", \"foodcoma\", \"sgrestaurant\", \"iweeklyfood\", \"iger\", \"minute\", \"weekday\", \"heat\", \"bland\", \"steamed\", \"evening\", \"sip\", \"self\", \"somehow\", \"hardly\", \"concoction\", \"food\", \"definitely\", \"always\", \"open\", \"seem\", \"family\", \"month\", \"common\", \"realise\", \"member\", \"nan\", \"restaurant\", \"sgd\", \"coffee\", \"instadaily\", \"cafe\", \"favourite\", \"ambience\", \"salmon\", \"foodspotting\", \"pasta\", \"funan\", \"alley_biang\", \"tp\", \"biang\", \"\\u897f\\u5b89\\u540d\\u5403\", \"sgfooddiary\", \"tea\", \"korean\", \"blk\", \"beef\", \"burger\", \"dessert\", \"menu\", \"cake\", \"expect\", \"salad\", \"cream\", \"prawn\", \"ice\", \"cheese\", \"steak\", \"chocolate\", \"truffle\", \"waffle\", \"also\", \"drink\", \"service\", \"brunch\", \"affordable\", \"staff\", \"weekend\", \"comfort\", \"friendly\", \"live\", \"hype\", \"vege\", \"eatmoresg\", \"equally\", \"crowded\", \"pearl\", \"tea\", \"milk\", \"coffee\", \"steak\", \"cafe\", \"boba\", \"ambience\", \"fruit\", \"cup\", \"offer\", \"salmon\", \"dirty\", \"muyoosg\", \"menu\", \"cheese\", \"item\", \"nan\", \"cream\", \"cake\", \"beef\", \"ice\", \"dessert\", \"truffle\", \"lunch\", \"dinner\", \"japanese\", \"black\", \"queue\", \"crave\", \"rating\", \"eeeeeat\", \"list\", \"asian\", \"hence\", \"foodiegram\", \"drop\", \"monster\", \"buzzfeast\", \"overwhelming\", \"thaifood\", \"makanwarrior\", \"lemak\", \"saltier\", \"wantonmee\", \"truffle\", \"steak\", \"buffet\", \"sake\", \"gram\", \"restaurant\", \"menu\", \"hot_food\", \"tonkotsu\", \"dessert\", \"broth\", \"nan\", \"beef\", \"cream\", \"ice\", \"tea\", \"price\", \"crispy\", \"piece\", \"quality\", \"vegetable\", \"cooked\", \"medium\", \"non\", \"highlight\", \"regular\", \"sized\", \"eater\", \"waffle\", \"salmon\", \"steak\", \"beef\", \"prawn\", \"belly\", \"reasonable\", \"wagyu\", \"point\", \"roasted\", \"sashimi\", \"cream\", \"cheese\", \"roast\", \"wing\", \"fluffy\", \"fat\", \"melt\", \"menu\", \"ice\", \"potato\", \"mushroom\", \"salt\", \"truffle\", \"pasta\", \"nan\", \"favourite\", \"broth\", \"restaurant\", \"tea\", \"grill\", \"dessert\", \"chocolate\", \"singapore\", \"friend\", \"road\", \"hand\", \"night\", \"address\", \"monday\", \"dumpling\", \"late\", \"literally\", \"seasoning\", \"bomb\", \"explain\", \"deliciously\", \"operating_hour\", \"selling\", \"label\", \"minimal\", \"anchovy\", \"orchard\", \"unit\", \"restaurant\", \"mrt\", \"fruit\", \"sun\", \"tel_open\", \"muyoo\", \"tea\", \"www\", \"opening_hour\", \"location\", \"burger\", \"cheese\", \"cafe\", \"grill\", \"prawn\", \"beef\", \"coffee\", \"nan\", \"cream\", \"ice\", \"truffle\", \"dessert\", \"top\", \"yummy\", \"skin\", \"thin\", \"normal\", \"famous\", \"overly\", \"flavorful\", \"tough\", \"honestly\", \"substantial\", \"deserve\", \"sign\", \"bonus\", \"rank\", \"slippery\", \"proceed\", \"kueh\", \"cream\", \"cheese\", \"banana\", \"layer\", \"ice\", \"crust\", \"pie\", \"crisp\", \"pizza\", \"beetroot\", \"mac\", \"crunchy\", \"burger\", \"duck\", \"beef\", \"waffle\", \"salmon\", \"chocolate\", \"nan\", \"dessert\", \"truffle\", \"prawn\", \"tea\", \"great\", \"hot\", \"fan\", \"though\", \"run\", \"pass\", \"delight\", \"tiny\", \"tastebud\", \"stone\", \"ambience\", \"coffee\", \"cold\", \"entertainer\", \"mushroom\", \"beverage\", \"leaf\", \"flame\", \"sizzle\", \"deli\", \"chiffon\", \"sourness\", \"crabbie\", \"milky\", \"dog\", \"atad\", \"garnish\", \"frappe\", \"shao\", \"hummus\", \"mentaiko\", \"quiet\", \"summer\", \"mash\", \"steak\", \"sharing\", \"strong\", \"cup\", \"popiah\", \"pasta\", \"truffle\", \"variety\", \"korean\", \"sour\", \"tea\", \"waffle\", \"ice\", \"expect\", \"bingsu\", \"cheese\", \"milk\", \"cream\", \"chocolate\", \"creamy\", \"share\", \"grill\", \"cafe\", \"cake\", \"beef\", \"dessert\", \"prawn\", \"salmon\", \"salt\", \"nan\", \"restaurant\", \"fill\", \"white\", \"today\", \"surprisingly\", \"balance\", \"clean\", \"flour\", \"possible\", \"shout\", \"feedfeed\", \"dilute\", \"be\", \"makan\", \"alot\", \"scene\", \"repeat\", \"chocolate\", \"kueh\", \"sgfoodies_ieatishootipost\", \"nofilter_like\", \"vscofood_eatbooksg\", \"flat\", \"foodstamping\", \"meryleats_whati\", \"banana\", \"crust\", \"tart\", \"sgfoodunion\", \"bun\", \"mooncake\", \"pie\", \"bread\", \"cream\", \"cake\", \"cheese\", \"bean\", \"tea\", \"coffee\", \"dessert\", \"ice\", \"beef\", \"truffle\", \"egg\", \"lover\", \"hide\", \"tslmakan\", \"hahaha\", \"weather\", \"mine\", \"squeeze\", \"salt\", \"yolk\", \"waffle\", \"truffle\", \"toast\", \"poach\", \"charcoal\", \"onsen\", \"runny\", \"ham\", \"ice\", \"brioche\", \"century\", \"bacon\", \"crab\", \"sourdough\", \"custard\", \"lavender\", \"butter\", \"half\", \"smoke\", \"gourmet\", \"cream\", \"fluffy\", \"prawn\", \"bread\", \"salmon\", \"beef\", \"burger\", \"mushroom\", \"tart\", \"tea\", \"favourite\", \"cheese\", \"broth\", \"coffee\", \"menu\", \"dessert\", \"day\", \"breakfast\", \"beautiful\", \"person\", \"believe\", \"ahead\", \"dimsum\", \"coffee\", \"toast\", \"morning\", \"pastry\", \"flat\", \"carb\", \"streetfood\", \"hot_food\", \"granola\", \"bell\", \"filter\", \"stain\", \"rainy\", \"midweek\", \"toby\", \"pecan\", \"tuesday\", \"sunny_side\", \"blueberry\", \"bless\", \"girl\", \"instafoodapp_instagood\", \"hatch\", \"latte\", \"croissant\", \"cake\", \"kueh\", \"sell\", \"poach\", \"banana\", \"cafe\", \"menu\", \"dessert\", \"cup\", \"bread\", \"bacon\", \"tart\", \"crab\", \"wagyu\", \"cream\", \"restaurant\", \"truffle\", \"ice\", \"tea\", \"beef\", \"item\", \"cheese\", \"favourite\", \"steak\", \"chocolate\", \"pm\", \"instagood\", \"sit\", \"prepare\", \"tell\", \"nomnom\", \"blogger\", \"chat\", \"noodleholic\", \"sun\", \"tel\", \"opening_hour\", \"mrt\", \"fri\", \"mon\", \"html\", \"tel_open\", \"www\", \"fruit\", \"shangsocial\", \"sunday\", \"photooftheday_photographer\", \"muyoosg\", \"square\", \"orchard\", \"superstar\", \"line_opene\", \"mon_fri\", \"raffles_city\", \"breadtalk\", \"hour\", \"delivery\", \"grill\", \"restaurant\", \"tea\", \"invite\", \"menu\", \"buttery\", \"dessert\", \"ice\", \"cream\", \"cheese\", \"chocolate\", \"cake\", \"truffle\", \"prawn\", \"beef\", \"mushroom\", \"steak\", \"back\", \"instafood_sg\", \"sgfoodblogger\", \"branch\", \"foodphoto\", \"feedfeed_dailyfoodfeed\", \"gram\", \"cafehoppingsg\", \"japanesefood\", \"forkyeah_getinmybelly\", \"mediainvite\", \"sgfoodonfoot\", \"setheat\", \"vscofood\", \"sake\", \"tastethisnext_eattheworld\", \"foodblogger_foodblog\", \"foodandwine_feedyoursoull\", \"cafesg\", \"bestfoodworld_dailyfoodfeed\", \"eatfamous_tastingtable\", \"eatmoresg_foodinse\", \"mehlicious_tastisfying\", \"fujifilm\", \"hairy_crab\", \"sashimi\", \"south_spine\", \"foodpornsg\", \"foodvsco_grams\", \"wagyu\", \"mentai\", \"sgcafefood\", \"menu\", \"tart\", \"bring\", \"ice\", \"waffle\", \"tea\", \"cream\", \"beef\", \"milk\", \"dessert\", \"salmon\", \"truffle\", \"steak\", \"pasta\", \"crab\", \"coffee\", \"restaurant\", \"cheese\", \"chocolate\", \"grill\", \"chili\", \"mee\", \"wanton\", \"favorite\", \"real\", \"tongue\", \"bak_chor\", \"coffeeshop\", \"mee_pok\", \"fishball\", \"manning\", \"dumplings_\\u6c34\\u997a\", \"merryan\", \"daughter\", \"old_school\", \"steal\", \"\\u53cb\\u8afe\\u58eb\\u8089\\u811e\\u9eb5\", \"eunos\", \"kopi\", \"bak\", \"uniform\", \"additional\", \"mum\", \"book\", \"surely\", \"similar\", \"specialist\", \"opposite\", \"xin\", \"nondescript\", \"couple\", \"morning\", \"prawn\", \"locate\", \"mince\", \"toss\", \"crab\", \"broth\", \"local\", \"seafood\", \"menu\", \"bar\", \"level\", \"beef\", \"want\", \"see\", \"cheese\", \"tea\", \"restaurant\", \"mushroom\", \"roast\", \"truffle\", \"coffee\"], \"Freq\": [105136.0, 61984.0, 95610.0, 65489.0, 73466.0, 68500.0, 48570.0, 88880.0, 40474.0, 61107.0, 35463.0, 144069.0, 36472.0, 35401.0, 49390.0, 30706.0, 27013.0, 71040.0, 50577.0, 50291.0, 49024.0, 67271.0, 43749.0, 33192.0, 24604.0, 34205.0, 24341.0, 29154.0, 60118.0, 33955.0, 144067.24677439226, 94593.28902595943, 87216.11426737175, 76167.97974392075, 71036.93580628533, 68692.56144963633, 65778.76596557938, 64142.25551610345, 62191.65255704974, 60945.42422113791, 49294.487407915425, 45645.66440643087, 33940.05610357749, 31862.047684572426, 30315.28534780338, 29588.859381440747, 28723.931100051355, 27788.50271489855, 27685.967463383047, 27524.955642469715, 26351.440568961247, 26210.784630556194, 25804.202797745562, 25018.717851816695, 24739.471589737208, 22894.84398492707, 22424.251391873913, 21163.078411040726, 20487.10987317935, 19990.813578027108, 23834.03603401261, 69080.97467368227, 36065.74709019255, 88878.68665243982, 71038.98038409378, 67269.42455749057, 60116.98909939966, 58630.90043504587, 57989.82934870679, 37693.058798010876, 34428.673230374916, 33550.2903937511, 33041.059933746525, 31479.555731979362, 28746.549262002107, 28627.720099591046, 23712.039982657694, 23462.907974972055, 21875.82611330671, 20152.997202375536, 19781.666685120676, 19241.93422303274, 17895.738878817545, 17761.48141150379, 17411.062421468276, 15685.852245089833, 15472.416267157118, 14982.5870956593, 14433.975669347012, 14136.309455253704, 13714.730220469142, 12770.433956264911, 12603.269121866604, 23344.751304875263, 27236.944023409556, 61105.252754232875, 50575.84993120598, 50289.824589463395, 49022.25981010954, 34579.955983773594, 28661.313524610185, 28445.119823884444, 22377.66385708275, 19436.20564991308, 17041.04868964445, 16208.178488959991, 12695.523680917095, 10688.776946745184, 10613.884289169788, 10380.06763249591, 9520.727218752798, 9358.379964212427, 9071.558248142503, 9047.082433399286, 8655.644253610122, 8440.639343546936, 7216.630469070337, 7099.412824327995, 6803.104443354297, 6562.8700483511475, 6409.020338716675, 4892.707461134087, 4515.451669365796, 4435.845976187925, 4387.393811904619, 95608.97903848137, 49388.78504099808, 43747.304464812616, 35482.30978640743, 27798.576151669673, 23604.026664146757, 20795.551866393544, 17401.846499221952, 17400.50762221148, 16766.84014227211, 15606.084502955118, 15089.557890982845, 14570.303702096815, 14002.262936569332, 13920.357724269617, 11329.545557150093, 9782.286562167534, 9227.957962612676, 7102.580389692947, 6072.384282183473, 3515.4186178926557, 2582.1780862629103, 2176.6811115189607, 1995.0406588560008, 1411.776281962136, 1230.9865551939397, 818.6662786624717, 0.07230528520744758, 0.0723553226253218, 0.07229856747676061, 0.0723047461302937, 0.07238439132415866, 0.07232379352306459, 33953.19582884622, 29146.662092129503, 24169.27018808918, 19748.106578723073, 16107.626806173195, 15986.965994826995, 14831.559184461948, 14545.190489174125, 12372.528772298814, 11055.96361050858, 9765.633932191093, 8223.937383535093, 7124.097140008328, 7062.906043191311, 6929.937926132169, 5765.084886051373, 5728.908131043858, 5466.526146998404, 5182.5390823054595, 3196.1837834969306, 2637.5019414174917, 2567.3024698425043, 2496.4574799095794, 2448.9366423317265, 2353.3945821401703, 2211.8480026612183, 1591.6007497639184, 1396.0703509193895, 1275.985018467234, 1081.4082394161367, 7389.370815239316, 8218.67330407569, 4231.373702746717, 73464.2203989344, 68498.37851443481, 30868.37929685624, 28692.312045673563, 22644.067676538256, 8082.234984182069, 4982.56512513479, 3005.0835201244804, 1125.1578157980534, 653.6231518513817, 585.6951504319763, 664.1306637468374, 0.0962512170981968, 0.09623452560699955, 0.096231092093685, 0.09622928877786853, 0.09635852160254005, 0.09623462659268528, 0.09623759845715082, 0.09624132050099601, 0.09623276557076267, 0.09623008223682777, 0.09624750948087814, 0.09623712238177527, 0.09622790383132147, 0.09624500647852488, 0.09622976485324407, 0.09623943783928361, 0.09625478045025014, 0.09622781005889902, 0.09627100307933512, 0.09629717279846373, 0.09625281122937857, 0.09625486700940934, 0.09625568210815838, 0.09626545607988365, 0.09624579993748412, 0.09625171481336214, 0.09625129644409272, 0.09625495356856853, 0.09625617982332373, 0.09624991871080894, 0.09625831494925043, 0.09626247700215484, 0.09624810818172921, 0.09625387157907865, 0.09625086364829677, 34203.26396898077, 27559.012107642713, 19500.970558334597, 19310.273370179388, 12033.547113470926, 9874.127186537635, 9789.699895690033, 9764.737309575847, 7690.465796540918, 5920.278221237239, 5864.152948471419, 5500.5030555657, 5432.019731229861, 5087.611545445416, 4867.310744172078, 4861.042379762609, 4735.241684707912, 4707.925140375932, 4579.6999324974595, 4400.695566770144, 4327.8364824229875, 4101.784106321666, 3387.962540986924, 3151.408982263951, 2808.574759783755, 2135.3543922380295, 1429.2303802307026, 1296.405722169672, 1098.3217187487865, 1061.8349082261961, 105134.11749012629, 33190.2951049602, 21044.628060698804, 12314.623409689486, 9094.009797052422, 6752.182777847737, 4155.678017209241, 1358.3223934388266, 1177.0201282316898, 773.523700616795, 0.10892184161759884, 0.10879788635468167, 0.10874942149334564, 0.10878707849067588, 0.10874984486995523, 0.10876884977554101, 0.10877246023718386, 0.10874598743862346, 0.10877311882302099, 0.1087425416234399, 0.10876401622591492, 0.1087320042500458, 0.10873116925728801, 0.10873118101774938, 0.10873123982005628, 0.10873106341313561, 0.10874242401882613, 0.10879826268944574, 0.10874392935788242, 0.10873202777096856, 0.10881778505533213, 0.10876603902527182, 0.10878496160762796, 0.10877771716341952, 0.10877002582167875, 0.10874992719318487, 0.10875519587988192, 0.10880277870661464, 0.10877744667280785, 0.10879068895231873, 0.10877904609555517, 0.1087708843353593, 0.10876762668755777, 0.10878082192522315, 0.10876568621143051, 48568.194811826725, 29152.709051520407, 16737.533472574432, 15063.442040006401, 9722.808218035329, 9500.14031297519, 8125.519327162754, 7836.797219518892, 6976.451223615734, 4841.399964919791, 2040.605871138999, 1793.557128387423, 1344.7890294849137, 1101.2366043464021, 1050.0281771789703, 0.10745427519731837, 0.10749822658093015, 0.10745737964435523, 0.10747335107605607, 0.10746612400321144, 0.10744981317858696, 0.10742026602994037, 0.10742584604889086, 0.10742946956745798, 0.10743044781764967, 0.10743113658564177, 0.1074512306431504, 0.10741359795720527, 0.10741747102939272, 0.10745969550195185, 0.10746538532449527, 0.10743557864008356, 0.10753317406992058, 0.10747949009511609, 0.10744684848157748, 0.10748006905951525, 0.10746720207485125, 0.10745709016215566, 0.1074615721451767, 35399.50356082479, 24579.084791349178, 21145.427102084686, 18518.2552327953, 11894.310421762635, 5545.531192912721, 5492.180225656719, 5142.909799891475, 3777.849117686498, 3401.514146042111, 3315.348679747827, 3257.1459496125517, 3176.9610487509717, 2376.9240814484974, 2029.370197106996, 1611.5557235808267, 1061.5177377348778, 811.0189939944278, 771.858358402698, 339.05132343237597, 226.61592177513012, 0.10048112042234016, 0.1004518824575008, 0.10041365756693035, 0.10041163340013377, 0.10041309529837575, 0.10044265188206272, 0.10044602549339034, 0.10040491429090627, 0.10040597323001745, 0.10045009256926864, 0.10043251230579471, 0.10051128613029463, 0.10046563929480341, 0.10046028837239211, 0.10044801217561661, 0.1004445167394355, 40472.29061636758, 36470.23851328538, 18870.82035722891, 13836.55230496946, 11035.403849621067, 4909.734442804977, 4723.530697592215, 4346.652799924737, 3732.135862511207, 3145.597240886108, 2003.2050567602914, 1713.8633410224597, 0.10864089470042142, 0.1086332842143399, 0.10864100189036623, 0.10868200204425604, 0.10864559319300225, 0.10860924686921626, 0.10859633941336207, 0.10861265908245939, 0.10860700481287065, 0.10860994360385753, 0.10860547735615711, 0.10867306954885521, 0.10864675441740436, 0.10860383377700336, 0.10860014465640282, 0.10860675470299944, 0.10860189542550137, 0.10860376231704015, 0.10863448116872362, 0.1086525784044057, 0.10861031876866437, 0.10862385149919662, 0.10862170770030043, 0.10864302956682222, 0.10861742903500343, 0.10870248425621015, 0.10862108242562236, 0.10862066259833852, 0.10862426239398507, 0.1086353386882821, 0.10861939418399161, 0.10862687068264211, 0.10862094843819135, 65487.78688028347, 13872.096735830359, 12149.295584182115, 8847.570344643169, 8769.86091185624, 8185.002210852891, 7097.355372226438, 4657.225229984514, 4368.51307692449, 2726.6929350991422, 1803.7295211025357, 1385.8253631251446, 1292.6784496088633, 1166.9443044723132, 835.2019309884752, 644.2977700663528, 598.3480141852441, 537.8910247534668, 293.8332516341421, 0.10835212195134523, 0.10833764159220194, 0.1083673588135784, 0.10832737095025272, 0.10833514068198727, 0.10832357953476714, 0.10831815941262929, 0.10832065142280761, 0.10838264017599329, 0.10831933421742765, 0.10831795471179322, 0.10832322353331308, 0.10834723583138846, 0.10836532960529033, 0.10834523332320946, 0.10834687092989807, 0.10835948228140763, 0.1083846248840996, 0.10835561966563123, 0.10841714561692666, 0.10837547564673063, 0.10836566780667167, 0.10836049688555166, 0.10835343025668885, 35461.9492158202, 24201.944532597292, 16954.78121870352, 11530.694021403619, 8385.077598082857, 5674.0668893484835, 5398.982685906901, 4403.252408315115, 3710.1405767569595, 2934.904847294941, 1741.882429588389, 1535.0415221081623, 1248.7088831637107, 891.6549909610508, 645.5476830109503, 483.0737371182206, 119.48868742295448, 0.10175104691814722, 0.10179362083756821, 0.10176824246913216, 0.10173336272498273, 0.1017222635669045, 0.10177184135756563, 0.10171993669938287, 0.10171653947280127, 0.10172205414882755, 0.1017115444638548, 0.10170573505127577, 0.1017065339424582, 0.10171890512144827, 0.10173321535670637, 0.10171622146757331, 0.10177312113470253, 0.10173634887163552, 0.10173344804345853, 0.10173472782059544, 0.10178881973424855, 0.10174023474039666, 0.10174518321199268, 0.10173694610096606, 0.10173838875882948, 30704.224654791706, 20575.214690444132, 11091.468242349418, 8847.343437921158, 4854.460687324449, 2526.571452262591, 2480.4046632340323, 2423.399004636436, 2079.4072539134677, 0.11076316377353634, 0.11077341600386585, 0.11081233671358914, 0.11077331603628951, 0.11076108666945009, 0.11080001848668186, 0.11076176422746753, 0.11075883184522811, 0.11075989816604244, 0.11075756558926109, 0.1107574878367017, 0.11075629933329406, 0.1107579987820919, 0.11075575506537841, 0.11076205302268809, 0.11075687692373516, 0.11075617715070074, 0.11075905399539776, 0.11075583281793779, 0.11075617715070074, 0.11075709907390481, 0.11076035357389023, 0.11075993148856789, 0.11075764334182046, 0.11076103113190768, 0.11080111813002165, 0.11076005367116121, 0.1107750599151213, 0.1107719164902207, 0.11076579625304675, 0.11078542322053563, 0.11081428052757362, 0.11076534084519896, 0.11076848427009955, 0.11076958391343933, 0.11081324752928473, 0.11079181003791316, 0.1108114703279275, 0.11077331603628951, 0.11076610726328426, 0.11079982965903766, 0.1107811468297698, 0.11081734619991483, 0.11078923309594518, 0.11077688154651245, 0.11077234968305152, 0.11078163556014303, 0.11078016936902332, 0.11078342386900875, 0.11080661634672058, 0.11079028830925104, 0.1107845457273655, 0.11078002497141305, 0.11077943627346347, 0.11079879666074877, 0.11078025822909118, 20220.664728145275, 17541.615142316587, 13279.16318170725, 5943.032651194701, 5763.617857127612, 3553.9926587478813, 1525.8590571100663, 1358.7267618895814, 1334.7629526443159, 1173.9205045157673, 1158.982894856878, 1038.9182168915472, 1010.6272932754541, 860.7587726130946, 723.2255578907392, 471.1246183470655, 0.11022487408432251, 0.11019729820343939, 0.11017223198070637, 0.11017223198070637, 0.11017223198070637, 0.11017431661610524, 0.11017247485084992, 0.1101696717246097, 0.11019053831777703, 0.11018253372262894, 0.11018856499786063, 0.11017253556838581, 0.11018357604032838, 0.11016512802900731, 0.1101777572764723, 0.11018789710496585, 0.11022258705713735, 0.11019283546455151, 0.1102015180721837, 0.1101811473388928, 0.11020343067456423, 0.11019166159219099, 0.11019178302726276, 0.11019447483802053, 0.11019925128417717, 0.11018661191712285, 61982.59233667169, 5641.888942056852, 2564.5860703111957, 2560.802737003351, 1725.4713116693438, 1554.8414932350183, 1244.3718481566034, 789.1397495212427, 0.09695194369441185, 0.0968785866835198, 0.09688675090154983, 0.09690037809016291, 0.09685853899257939, 0.09684167635459884, 0.09684778439919908, 0.09683960002260601, 0.0968324235741648, 0.09682768631185108, 0.09688491647231344, 0.09682760567759893, 0.09682212254845284, 0.09683384475285892, 0.09685239063085306, 0.09682004621646002, 0.09682147747443566, 0.09682366467852518, 0.09683738258067194, 0.09682844225796497, 0.09682897645988546, 0.0968201974056828, 0.09688797049461356, 0.09683276626973644, 0.09685634170920834, 0.09683768495911749, 0.09684298666119626, 0.09686958588512372, 0.09684125302477506, 0.09684030557231231, 0.09683275619045492, 0.09684366197305799, 0.09683628393898641, 0.09683932788200501, 0.096836334335394, 0.09683738258067194, 0.0968370398851003, 0.09683713059863397, 27011.091394341194, 16470.40290769977, 4704.940698083512, 2918.8476342618656, 2503.2675269948736, 797.922406437402, 0.09495669484619386, 0.09499721022125837, 0.09496893048946335, 0.0949534020511659, 0.09495580350794244, 0.0949498808967512, 0.09494509271606176, 0.09494289015294462, 0.09494714058411047, 0.09494232293769371, 0.09494189568464757, 0.09494056236048636, 0.09494045186400892, 0.0949421977083526, 0.09494026770321316, 0.09494247763276213, 0.09494055499405453, 0.09494107064428262, 0.09494113694216909, 0.09494143896587412, 0.09494037083325878, 0.0949411885071919, 0.09494073178841844, 0.09493895647834744, 0.09494971146881911, 0.0949484518089762, 0.09497206122299105, 0.09495679797623949, 0.09494882013056768, 0.09494531370901665, 0.09495609079878381, 0.09496223440292996, 0.09497082366244364, 0.09497292309551515, 0.09495018292045622, 0.09495662118187556, 0.09494882749699952, 0.09495200979555005, 0.09495838912551474, 0.09495118475518509, 0.09497516985722328, 0.09496019390131308, 0.09496627857400458, 0.09496732460732442, 0.09496592498527674, 0.0949714792748765, 0.09495277590446036, 0.09496025283276771, 0.09495507423119129, 0.09495637808962518, 0.094954610145986, 24339.571311636097, 5782.111260698116, 5634.67290955363, 5623.478822079626, 5497.133018787106, 3163.478139960787, 1169.9330720256178, 351.2058923634033, 109.31651691406542, 0.10010038688496574, 0.10008204100151286, 0.10007765564481633, 0.10007867367404945, 0.10007323469269205, 0.10007170408929959, 0.10007075725092193, 0.1000709352280606, 0.10007166137478632, 0.10008212643053942, 0.10007123422965354, 0.10007218818711675, 0.10006448533655563, 0.10006939750558258, 0.10006642172782422, 0.10007444493723493, 0.1000631754248151, 0.10006318254390065, 0.10006352426000686, 0.10006470602820756, 0.10006312559121627, 0.1000750856549341, 0.1000674468761429, 0.10009175143419805, 0.10009779553782688, 0.10010843145163309, 0.10007006669962394, 0.10008952316042205, 0.10007124846782463, 0.10008589954587897, 0.10009030625983215, 0.10009173719602696, 0.10008290952994951, 0.10007950660705837, 0.10007856688776626, 0.10008204100151286, 0.10007961339334157, 0.10007890148478693, 0.10007490767779545, 0.10007487920145326, 24602.863221276057, 14297.750341210098, 7557.749853098074, 2152.2659550485055, 774.4939641081579, 55.88421336771936, 0.09318439984792888, 0.09317654205388773, 0.09317594543104422, 0.09316765372948053, 0.09317011479870999, 0.0931703385322763, 0.09317212840080681, 0.09317345046278958, 0.09317306401390231, 0.09316601301666089, 0.09316735541805878, 0.09316465705565292, 0.09317033175247126, 0.09316433162501102, 0.09316433162501102, 0.09316580284270466, 0.09316465705565292, 0.09316360618587176, 0.09316385703865823, 0.09317673188842884, 0.09316350448879616, 0.09316776220636117, 0.0931625417564805, 0.09318144385293152, 0.09316461637682269, 0.09316707744605214, 0.09319271188890771, 0.09317551830332672, 0.0931722639969076, 0.0931965424787552, 0.0931834981338586, 0.09319389835478967, 0.09319901710759473, 0.09319985102361464, 0.09317751156600843, 0.0931861897164594, 0.09317994551601773, 0.09318538291965965, 0.09317941669122462, 0.09317572847728295, 0.0931762979809063, 0.09317867769247527, 0.09317677256725909, 0.09317533524859065, 0.09317444031432538, 0.09317399284719276, 6967.7165018574815, 6403.914953038578, 5914.342608990499, 4481.703756040105, 4022.451396670711, 1163.4074163980458, 0.08855213356317215, 0.08853762809468256, 0.08853182942163403, 0.0885299843893004, 0.08852769127768575, 0.08852769127768575, 0.088528077855889, 0.0885264436843935, 0.08852933423504951, 0.08852806028415248, 0.08852472165421545, 0.08852482708463452, 0.08852567931385528, 0.08852482708463452, 0.08852338620224064, 0.08853059940007828, 0.08852487979984405, 0.08852437021948524, 0.08852350041852795, 0.08852959781109718, 0.0885219980350563, 0.08852361463481527, 0.088521918962242, 0.08852189260463723, 0.08852924637636696, 0.08852741891576985, 0.08856424048962802, 0.08853291886929769, 0.08853096840654501, 0.08852759463313495, 0.08854350584054539, 0.08854271511240241, 0.08852821842978108, 0.08853436853755983, 0.088539982707375, 0.08852863136558908, 0.08852975595672577, 0.08854382213180259, 0.08853070483049734, 0.08853098597828152, 0.08853495719073294, 0.08853464089947574, 0.08853166249013718, 0.08853078390331165, 0.08852871922427163, 0.08853025675121633, 0.08852961538283369], \"Total\": [105136.0, 61984.0, 95610.0, 65489.0, 73466.0, 68500.0, 48570.0, 88880.0, 40474.0, 61107.0, 35463.0, 144069.0, 36472.0, 35401.0, 49390.0, 30706.0, 27013.0, 71040.0, 50577.0, 50291.0, 49024.0, 67271.0, 43749.0, 33192.0, 24604.0, 34205.0, 24341.0, 29154.0, 60118.0, 33955.0, 144069.14746416023, 94595.18971572733, 87218.01495713966, 76169.88043368865, 71038.83649605323, 68694.46213940423, 65780.66665534729, 64144.156205871375, 62193.55324681767, 60947.32491090584, 49296.38809768335, 45647.5650961988, 33941.95679334542, 31863.94837434036, 30317.186037571315, 29590.760071208682, 28725.83178981929, 27790.403404666486, 27687.868153150983, 27526.85633223765, 26353.341258729182, 26212.68532032413, 25806.103487513497, 25020.61854158463, 24741.372279505144, 22896.744674695005, 22426.15208164185, 21164.97910080866, 20489.010562947286, 19992.714267795043, 23842.68006875138, 73314.1424891491, 44286.21450698837, 88880.58699013108, 71040.88072178504, 67271.32489518182, 60118.88943709093, 58632.800772737144, 57991.72968639807, 37694.95913570215, 34430.57356806619, 33552.19073144237, 33042.9602714378, 31481.456069670643, 28748.449599693387, 28629.620437282327, 23713.940320348975, 23464.808312663336, 21877.72645099799, 20154.897540066817, 19783.567022811956, 19243.83456072402, 17897.639216508825, 17763.381749195072, 17412.962759159556, 15687.75258278111, 15474.316604848394, 14984.487433350578, 14435.876007038289, 14138.209792944981, 13716.63055816042, 12772.334293956188, 12605.169459557881, 24028.701429555364, 34628.10859929235, 61107.16333636329, 50577.76051333639, 50291.735171593806, 49024.170392239954, 34581.866565904005, 28663.2241067406, 28447.03040601486, 22379.574439213164, 19438.116232043496, 17042.959271774864, 16210.0890710904, 12697.434263047504, 10690.687528875593, 10615.794871300197, 10381.978214626319, 9522.637800897108, 9360.290546342836, 9073.468830272912, 9048.993015529695, 8657.554835740531, 8442.549925677346, 7218.5410512007475, 7101.323406458405, 6805.015025491825, 6564.780630495459, 6410.930920847085, 4894.618043373916, 4517.362251512225, 4437.756558325246, 4389.304394035029, 95610.91181427891, 49390.71781679565, 43749.237240610186, 35484.242562205, 27800.50892746725, 23605.959439944334, 20797.48464219112, 17403.77927501953, 17402.440398009057, 16768.772918069688, 15608.01727875269, 15091.490666780417, 14572.236477894387, 14004.195712366904, 13922.290500067189, 11331.478332947665, 9784.219337965105, 9229.890738410248, 7104.51316549052, 6074.317057981046, 3517.351393690229, 2584.1108620604837, 2178.613887323525, 1996.9734346535738, 1413.709057759709, 1232.9193310489597, 820.5990544600447, 2.00528353097521, 2.0067037085486956, 2.0051538167767435, 2.005342147048865, 2.0078276462678946, 2.0061051123819604, 33955.094292878915, 29148.560556162203, 24171.16865212188, 19750.005042755773, 16109.52527020589, 15988.864458859689, 14833.457648494643, 14547.08895320682, 12374.427236331509, 11057.862074541274, 9767.532396223787, 8225.835847567787, 7125.995604041025, 7064.804507224008, 6931.836390164866, 5766.9833500840705, 5730.806595076555, 5468.424611031101, 5184.437546338157, 3198.082247529628, 2639.4004054501893, 2569.200933875202, 2498.355943942277, 2450.835106364424, 2355.293046172868, 2213.746466693916, 1593.4992137966158, 1397.9688149988847, 1277.8834825149013, 1083.306703448834, 34628.10859929235, 44286.21450698837, 73314.1424891491, 73466.12922966812, 68500.28734516853, 30870.288127589985, 28694.220876407308, 22645.976507272, 8084.143814915812, 4984.473955868533, 3006.992350858223, 1127.066646531796, 655.5319825851244, 587.603981165719, 8946.325180493834, 2.0052834734622835, 2.0051868983866337, 2.005155737175535, 2.005128723815293, 2.0078276462678946, 2.0052584013673487, 2.0053281693278935, 2.005406474112736, 2.0052457059581013, 2.005196688535203, 2.005559969364704, 2.0053505230095032, 2.0051591020175645, 2.005515913499433, 2.0052215669134337, 2.00542934259148, 2.00575010579263, 2.005198141789332, 2.0061318942751187, 2.0067037085486956, 2.005739476779044, 2.005789780191779, 2.0058167019614435, 2.0060600665766675, 2.0055954033043233, 2.005776685088868, 2.005769305739488, 2.0059039467196182, 2.0059739816391247, 2.0057608592532845, 2.0063151750547012, 2.0066147643798766, 2.0057703110730154, 2.0063634992386215, 2.0062927371352437, 34205.17200056787, 27560.920139222908, 19502.87858991479, 19312.181401759583, 12035.455145051115, 9876.035218117824, 9791.607927270223, 9766.645341156036, 7692.37382812111, 5922.1862528174315, 5866.060980051611, 5502.411087145892, 5433.927762810053, 5089.519577025608, 4869.21877575227, 4862.950411356492, 4737.149716295015, 4709.833171963035, 4581.607964077652, 4402.603598350336, 4329.74451400318, 4103.692137901858, 3389.870572567116, 3153.3170138441433, 2810.482791363947, 2137.2624238282037, 1431.1384118108947, 1298.313753749864, 1100.2297503289785, 1063.7429398136017, 105136.0138093753, 33192.19142420924, 21046.524379947845, 12316.519728938523, 9095.90611630146, 6754.079097096778, 4157.574336458282, 1360.2187126878666, 1178.9164474807299, 775.4200198658353, 2.0078276462678946, 2.0059039467196182, 2.00527118160721, 2.006004082021936, 2.005342147048865, 2.0057008316149485, 2.005769305739488, 2.005286877876371, 2.005789780191779, 2.0052603021964552, 2.005670452463746, 2.00508301526537, 2.005071622074492, 2.0050720070237618, 2.005074315134004, 2.005071896869097, 2.00528353097521, 2.0063151750547012, 2.0053143884690536, 2.0051027749282953, 2.0067037085486956, 2.005739476779044, 2.0061051123819604, 2.0059739816391247, 2.005827742118892, 2.005443213626274, 2.005559969364704, 2.0066147643798766, 2.0060600665766675, 2.0063634992386215, 2.0061318942751187, 2.005944044017644, 2.005883279892081, 2.0062927371352437, 2.0058581784204437, 48570.09245371349, 29154.60669340718, 16739.431114461204, 15065.339681893167, 9724.705859922095, 9502.037954861957, 8127.416969049524, 7838.694861405662, 6978.348865502504, 4843.297606806561, 2042.503513025768, 1795.454770274192, 1346.6866713716827, 1103.134246233171, 1051.9258190657392, 2.005380171446626, 2.0063151750547012, 2.005659254044747, 2.006004082021936, 2.005944044017644, 2.0057008316149485, 2.005168977244484, 2.005286877876371, 2.005360445675201, 2.005378994469341, 2.0054082909175235, 2.005789780191779, 2.0050940336588776, 2.0051800882451887, 2.0059739816391247, 2.0061318942751187, 2.005555654551035, 2.0078276462678946, 2.0066147643798766, 2.005827742118892, 2.0067037085486956, 2.0063634992386215, 2.0061051123819604, 2.0062927371352437, 35401.40821175991, 24580.989442284303, 21147.33175301981, 18520.159883730426, 11896.215072697752, 5547.435843847842, 5494.08487659184, 5144.814450833507, 3779.753768621619, 3403.418796977232, 3317.253330682948, 3259.050600561575, 3178.8656996860927, 2378.828732400706, 2031.2748480490284, 1613.4603745159477, 1063.42238867691, 812.9236449541743, 773.763009337819, 340.955974367497, 228.52057271025106, 2.0062927371352437, 2.005944044017644, 2.0052483447305853, 2.005224726779973, 2.005298599859635, 2.0059039467196182, 2.0059739816391247, 2.0051589345055363, 2.0051971187039377, 2.0061051123819604, 2.005776685088868, 2.0078276462678946, 2.0067037085486956, 2.0066147643798766, 2.0063634992386215, 2.0063151750547012, 40474.1870776695, 36472.1349745873, 18872.716818530836, 13838.448766271382, 11037.300310922989, 4911.630904106902, 4725.427158894139, 4348.549261226662, 3734.0323238131314, 3147.4937021880323, 2005.1015180622155, 1715.7598023243838, 2.0058581784204437, 2.005789780191779, 2.005944044017644, 2.0067037085486956, 2.0060600665766675, 2.00539755440128, 2.0051669949265163, 2.005472755424868, 2.005370776850741, 2.00542934259148, 2.0053562783804133, 2.0066147643798766, 2.0061318942751187, 2.00534644668914, 2.0052834734622835, 2.005408411358093, 2.0053232557428284, 2.0053598296584436, 2.0059739816391247, 2.0063634992386215, 2.005495887627292, 2.0058167019614435, 2.0057703110730154, 2.0062927371352437, 2.005670452463746, 2.0078276462678946, 2.005769305739488, 2.005776685088868, 2.0059039467196182, 2.0063151750547012, 2.00575010579263, 2.0061051123819604, 2.005883279892081, 65489.683619082214, 13873.993474629098, 12151.192322980854, 8849.467083441908, 8771.75765065498, 8186.898949651635, 7099.252111025182, 4659.121968783258, 4370.409815723234, 2728.5896738978854, 1805.6262599012791, 1387.722101923888, 1294.5751884076067, 1168.8410432710566, 837.0986697872187, 646.1945088650963, 600.2447530027839, 539.7877635620846, 295.72999043288553, 2.005287795391751, 2.0052308521179283, 2.0059039467196182, 2.005192844450294, 2.005360445675201, 2.005195986785315, 2.00511806413254, 2.0051660391455046, 2.0063151750547012, 2.0051481334733237, 2.005122973257342, 2.0052305887943978, 2.005739476779044, 2.0061318942751187, 2.0057008316149485, 2.00575010579263, 2.0060600665766675, 2.0067037085486956, 2.006004082021936, 2.0078276462678946, 2.0066147643798766, 2.0063634992386215, 2.0062927371352437, 2.0061051123819604, 35463.85256515011, 24203.84788192721, 16956.684568033437, 11532.59737073353, 8386.980947412769, 5675.970238678397, 5400.886035236815, 4405.155757645029, 3712.043926086873, 2936.8081966248546, 1743.7857789183026, 1536.944871438076, 1250.6122324936243, 893.5583402909646, 647.4510323408641, 484.97708644813434, 121.39203675286821, 2.00548879939937, 2.0066147643798766, 2.0061318942751187, 2.0055204395031376, 2.0053585723948437, 2.0063634992386215, 2.0053771752529532, 2.005330508410547, 2.0054469021751897, 2.005268680186439, 2.00515728509332, 2.005178731446523, 2.0054264477906503, 2.005739476779044, 2.0053862326878646, 2.0067037085486956, 2.0058581784204437, 2.005789780191779, 2.005883279892081, 2.0078276462678946, 2.0061051123819604, 2.0062927371352437, 2.0060600665766675, 2.0063151750547012, 30706.118943005087, 20577.108978657514, 11093.362530562794, 8849.237726134534, 4856.354975537828, 2528.4657404759687, 2482.29895144741, 2425.293292849814, 2081.3015421268456, 2.005094278761664, 2.005286877876371, 2.006004082021936, 2.005319966734529, 2.005109386117255, 2.0058167019614435, 2.005139438881527, 2.0050871701329407, 2.005108295874386, 2.0050683306857784, 2.005071760622386, 2.005056600245022, 2.0050894667235943, 2.005049440373021, 2.005163610865629, 2.00507013939703, 2.005057714666704, 2.0051099504563172, 2.0050521107284016, 2.0050597788496294, 2.0050767044824354, 2.0051364591521983, 2.0051315735205724, 2.0050872635912107, 2.005153313595099, 2.005944044017644, 2.005135080277222, 2.0054377380455977, 2.005378994469341, 2.00525522763687, 2.005670452463746, 2.0062927371352437, 2.005246123623531, 2.0053143884690536, 2.0053394033253724, 2.0063151750547012, 2.0058581784204437, 2.0063634992386215, 2.005443213626274, 2.005265423141882, 2.0061318942751187, 2.005659254044747, 2.0066147643798766, 2.005883279892081, 2.005559807416552, 2.005437920991618, 2.00575010579263, 2.0057008316149485, 2.005827742118892, 2.0067037085486956, 2.0061051123819604, 2.0060600665766675, 2.005789780191779, 2.0057703110730154, 2.0078276462678946, 2.0059039467196182, 20222.559615330483, 17543.510029501795, 13281.058068892455, 5944.927538379908, 5765.5127443128185, 3555.8875459330875, 1527.7539442952725, 1360.6216490747877, 1336.6578398295221, 1175.8153917009736, 1160.8777820420842, 1040.8131040767535, 1012.5221804606605, 862.653659798301, 725.1204450759456, 473.01950553227186, 2.005883279892081, 2.00548879939937, 2.0051380144742157, 2.005138021464981, 2.005138021464981, 2.0051858346820333, 2.005156405216897, 2.005124929935812, 2.0055204395031376, 2.0053771752529532, 2.005486967118013, 2.0052020549734877, 2.005403501433818, 2.005085873256233, 2.005330508410547, 2.0055974359806017, 2.0066147643798766, 2.005827742118892, 2.0061318942751187, 2.0054505695719222, 2.0063151750547012, 2.006004082021936, 2.0061051123819604, 2.0063634992386215, 2.0067037085486956, 2.0062927371352437, 61984.50056662613, 5643.797172011291, 2566.4943002656346, 2562.710966964701, 1727.3795416237829, 1556.7497231894574, 1246.2800781110425, 791.0479794756816, 2.0057703110730154, 2.005338886017318, 2.0058581784204437, 2.0062927371352437, 2.0054413569635905, 2.0052049310215936, 2.0053629282178553, 2.005232582983468, 2.0051497176897404, 2.005177399344678, 2.0063634992386215, 2.005192956097231, 2.0050831852132203, 2.0053402072251125, 2.0057608592532845, 2.005091890171108, 2.00512290595746, 2.005175653062889, 2.0054658033463797, 2.005281823076656, 2.0052973951393565, 2.0051178642172096, 2.0066147643798766, 2.005408411358093, 2.0060600665766675, 2.0055974359806017, 2.005789780191779, 2.0067037085486956, 2.005739476779044, 2.0058167019614435, 2.005486967118013, 2.0063151750547012, 2.005769305739488, 2.0061318942751187, 2.005776685088868, 2.006004082021936, 2.0059739816391247, 2.0061051123819604, 27013.001500936633, 16472.313014295207, 4706.850804678949, 2920.7577408573025, 2505.1776335903105, 799.832513032839, 2.00511561240401, 2.006004082021936, 2.0054413569635905, 2.005180060595585, 2.005303901169902, 2.0051858346820333, 2.0051129955718925, 2.0050691576431707, 2.0051589345055363, 2.0050656506978197, 2.005064038985912, 2.0050594234641466, 2.005061035691913, 2.005100730074198, 2.0050603543652463, 2.0051106571319206, 2.005070614483405, 2.005086604497111, 2.0050895295473774, 2.0050970618115005, 2.0050779259279445, 2.0050958784489668, 2.0050869433808867, 2.005050197932306, 2.0052841134411166, 2.005258032647885, 2.005827742118892, 2.00548879939937, 2.0053000269740293, 2.0052049310215936, 2.0055204395031376, 2.0057008316149485, 2.0059739816391247, 2.0061051123819604, 2.005378994469341, 2.0055974359806017, 2.0053402072251125, 2.005486967118013, 2.0057608592532845, 2.005472755424868, 2.0066147643798766, 2.0059039467196182, 2.0062927371352437, 2.0063634992386215, 2.0063151750547012, 2.0067037085486956, 2.005555654551035, 2.0061318942751187, 2.005769305739488, 2.005944044017644, 2.005883279892081, 24341.476299351263, 5784.0162484132825, 5636.577897268797, 5625.383809794793, 5499.038006502273, 3165.383127675953, 1171.838059740784, 353.11088007856955, 111.22150462923167, 2.005195986785315, 2.0051368845488096, 2.005122973257342, 2.005192844450294, 2.005091380135177, 2.005098402592769, 2.0051133661544567, 2.00511806413254, 2.0051481334733237, 2.005360445675201, 2.0051597562002925, 2.0052233246690605, 2.0050793115765733, 2.0051800882451887, 2.005125331049138, 2.005287795391751, 2.0050659176767875, 2.005068591915914, 2.0050754648925895, 2.0050992962802208, 2.0050723913640462, 2.005326975622603, 2.0051669609293286, 2.00575010579263, 2.0059039467196182, 2.0063151750547012, 2.005263735502983, 2.0059739816391247, 2.0053318878070847, 2.0061051123819604, 2.0063634992386215, 2.0066147643798766, 2.0061318942751187, 2.005883279892081, 2.005827742118892, 2.0062927371352437, 2.0060600665766675, 2.0067037085486956, 2.0058167019614435, 2.005944044017644, 24604.775105597968, 14299.662225532005, 7559.661737419981, 2154.177839370414, 776.4058484300664, 57.796097689627764, 2.005298599859635, 2.0052343430666637, 2.0052341296847835, 2.0050817582218907, 2.0051376812986854, 2.005148149295545, 2.0051909846029434, 2.0052256411596465, 2.005224726779973, 2.005075162380107, 2.0051113401021383, 2.0050696128201304, 2.0051925244542894, 2.0050683968646084, 2.0050683968646084, 2.0051040443694172, 2.0050930687773345, 2.0050717876044835, 2.0050788807999473, 2.0053562783804133, 2.005081678143083, 2.0051751805407085, 2.0050641831601985, 2.005472755424868, 2.005115509370285, 2.0051866646845826, 2.0059739816391247, 2.005486967118013, 2.005377732192124, 2.0063634992386215, 2.0058581784204437, 2.0063151750547012, 2.0066147643798766, 2.0067037085486956, 2.005659254044747, 2.0061051123819604, 2.005789780191779, 2.0062927371352437, 2.005944044017644, 2.005670452463746, 2.0057608592532845, 2.006004082021936, 2.0059039467196182, 2.0061318942751187, 2.005883279892081, 2.00575010579263, 6969.63302516594, 6405.831476347036, 5916.259132298957, 4483.620279348564, 4024.3679199791695, 1165.3239397065047, 2.0051173648591303, 2.005178759559274, 2.005089844036201, 2.005092847249482, 2.005058769338288, 2.0050623310515325, 2.0050909229016214, 2.005068271087649, 2.005144784653944, 2.0051271651243328, 2.0050524798667406, 2.0050572623116336, 2.0050907441554386, 2.00507791812803, 2.0050643443955116, 2.005227960708387, 2.00510346830882, 2.0050950622156996, 2.005075551474892, 2.0052190238691847, 2.0050483984902625, 2.005088456073028, 2.005051742128649, 2.0050516165517016, 2.0052216431629253, 2.005180060595585, 2.0060600665766675, 2.0053175508799828, 2.005269837827698, 2.0052008260054257, 2.0057608592532845, 2.005776685088868, 2.005240601350389, 2.0055954033043233, 2.0059739816391247, 2.0053115221134714, 2.005406474112736, 2.0067037085486956, 2.005529551756898, 2.005564819083507, 2.0061318942751187, 2.0063151750547012, 2.0059039467196182, 2.0058167019614435, 2.00534644668914, 2.0062927371352437, 2.006004082021936], \"Category\": [\"Default\", \"Default\", \"Default\", \"Default\", \"Default\", \"Default\", \"Default\", \"Default\", \"Default\", \"Default\", \"Default\", \"Default\", \"Default\", \"Default\", \"Default\", \"Default\", \"Default\", \"Default\", \"Default\", \"Default\", \"Default\", \"Default\", \"Default\", \"Default\", \"Default\", \"Default\", \"Default\", \"Default\", \"Default\", \"Default\", \"Topic1\", \"Topic1\", \"Topic1\", \"Topic1\", \"Topic1\", \"Topic1\", \"Topic1\", \"Topic1\", \"Topic1\", \"Topic1\", \"Topic1\", \"Topic1\", \"Topic1\", \"Topic1\", \"Topic1\", \"Topic1\", \"Topic1\", \"Topic1\", \"Topic1\", \"Topic1\", \"Topic1\", \"Topic1\", \"Topic1\", \"Topic1\", \"Topic1\", \"Topic1\", \"Topic1\", \"Topic1\", \"Topic1\", \"Topic1\", \"Topic1\", \"Topic1\", \"Topic1\", \"Topic2\", \"Topic2\", \"Topic2\", \"Topic2\", \"Topic2\", \"Topic2\", \"Topic2\", \"Topic2\", \"Topic2\", \"Topic2\", \"Topic2\", \"Topic2\", \"Topic2\", \"Topic2\", \"Topic2\", \"Topic2\", \"Topic2\", \"Topic2\", \"Topic2\", \"Topic2\", \"Topic2\", \"Topic2\", \"Topic2\", \"Topic2\", \"Topic2\", \"Topic2\", \"Topic2\", \"Topic2\", \"Topic2\", \"Topic2\", \"Topic2\", \"Topic2\", \"Topic3\", \"Topic3\", \"Topic3\", \"Topic3\", \"Topic3\", \"Topic3\", \"Topic3\", \"Topic3\", \"Topic3\", \"Topic3\", \"Topic3\", \"Topic3\", \"Topic3\", \"Topic3\", \"Topic3\", \"Topic3\", \"Topic3\", \"Topic3\", \"Topic3\", \"Topic3\", \"Topic3\", \"Topic3\", \"Topic3\", \"Topic3\", \"Topic3\", \"Topic3\", \"Topic3\", \"Topic3\", \"Topic3\", \"Topic3\", \"Topic4\", \"Topic4\", \"Topic4\", \"Topic4\", \"Topic4\", \"Topic4\", \"Topic4\", \"Topic4\", \"Topic4\", \"Topic4\", \"Topic4\", \"Topic4\", \"Topic4\", \"Topic4\", \"Topic4\", \"Topic4\", \"Topic4\", \"Topic4\", \"Topic4\", \"Topic4\", \"Topic4\", \"Topic4\", \"Topic4\", \"Topic4\", \"Topic4\", \"Topic4\", \"Topic4\", \"Topic4\", \"Topic4\", \"Topic4\", \"Topic4\", \"Topic4\", \"Topic4\", \"Topic5\", \"Topic5\", \"Topic5\", \"Topic5\", \"Topic5\", \"Topic5\", \"Topic5\", \"Topic5\", \"Topic5\", \"Topic5\", \"Topic5\", \"Topic5\", \"Topic5\", \"Topic5\", \"Topic5\", \"Topic5\", \"Topic5\", \"Topic5\", \"Topic5\", \"Topic5\", \"Topic5\", \"Topic5\", \"Topic5\", \"Topic5\", \"Topic5\", \"Topic5\", \"Topic5\", \"Topic5\", \"Topic5\", \"Topic5\", \"Topic5\", \"Topic5\", \"Topic5\", \"Topic6\", \"Topic6\", \"Topic6\", \"Topic6\", \"Topic6\", \"Topic6\", \"Topic6\", \"Topic6\", \"Topic6\", \"Topic6\", \"Topic6\", \"Topic6\", \"Topic6\", \"Topic6\", \"Topic6\", \"Topic6\", \"Topic6\", \"Topic6\", \"Topic6\", \"Topic6\", \"Topic6\", \"Topic6\", \"Topic6\", \"Topic6\", \"Topic6\", \"Topic6\", \"Topic6\", \"Topic6\", \"Topic6\", \"Topic6\", \"Topic6\", \"Topic6\", \"Topic6\", \"Topic6\", \"Topic6\", \"Topic6\", \"Topic6\", \"Topic6\", \"Topic6\", \"Topic6\", \"Topic6\", \"Topic6\", \"Topic6\", \"Topic6\", \"Topic6\", \"Topic6\", \"Topic6\", \"Topic7\", \"Topic7\", \"Topic7\", \"Topic7\", \"Topic7\", \"Topic7\", \"Topic7\", \"Topic7\", \"Topic7\", \"Topic7\", \"Topic7\", \"Topic7\", \"Topic7\", \"Topic7\", \"Topic7\", \"Topic7\", \"Topic7\", \"Topic7\", \"Topic7\", \"Topic7\", \"Topic7\", \"Topic7\", \"Topic7\", \"Topic7\", \"Topic7\", \"Topic7\", \"Topic7\", \"Topic7\", \"Topic7\", \"Topic7\", \"Topic8\", \"Topic8\", \"Topic8\", \"Topic8\", \"Topic8\", \"Topic8\", \"Topic8\", \"Topic8\", \"Topic8\", \"Topic8\", \"Topic8\", \"Topic8\", \"Topic8\", \"Topic8\", \"Topic8\", \"Topic8\", \"Topic8\", \"Topic8\", \"Topic8\", \"Topic8\", \"Topic8\", \"Topic8\", \"Topic8\", \"Topic8\", \"Topic8\", \"Topic8\", \"Topic8\", \"Topic8\", \"Topic8\", \"Topic8\", \"Topic8\", \"Topic8\", \"Topic8\", \"Topic8\", \"Topic8\", \"Topic8\", \"Topic8\", \"Topic8\", \"Topic8\", \"Topic8\", \"Topic8\", \"Topic8\", \"Topic8\", \"Topic8\", \"Topic8\", \"Topic9\", \"Topic9\", \"Topic9\", \"Topic9\", \"Topic9\", \"Topic9\", \"Topic9\", \"Topic9\", \"Topic9\", \"Topic9\", \"Topic9\", \"Topic9\", \"Topic9\", \"Topic9\", \"Topic9\", \"Topic9\", \"Topic9\", \"Topic9\", \"Topic9\", \"Topic9\", \"Topic9\", \"Topic9\", \"Topic9\", \"Topic9\", \"Topic9\", \"Topic9\", \"Topic9\", \"Topic9\", \"Topic9\", \"Topic9\", \"Topic9\", \"Topic9\", \"Topic9\", \"Topic9\", \"Topic9\", \"Topic9\", \"Topic9\", \"Topic9\", \"Topic9\", \"Topic10\", \"Topic10\", \"Topic10\", \"Topic10\", \"Topic10\", \"Topic10\", \"Topic10\", \"Topic10\", \"Topic10\", \"Topic10\", \"Topic10\", \"Topic10\", \"Topic10\", \"Topic10\", \"Topic10\", \"Topic10\", \"Topic10\", \"Topic10\", \"Topic10\", \"Topic10\", \"Topic10\", \"Topic10\", \"Topic10\", \"Topic10\", \"Topic10\", \"Topic10\", \"Topic10\", \"Topic10\", \"Topic10\", \"Topic10\", \"Topic10\", \"Topic10\", \"Topic10\", \"Topic10\", \"Topic10\", \"Topic10\", \"Topic10\", \"Topic11\", \"Topic11\", \"Topic11\", \"Topic11\", \"Topic11\", \"Topic11\", \"Topic11\", \"Topic11\", \"Topic11\", \"Topic11\", \"Topic11\", \"Topic11\", \"Topic11\", \"Topic11\", \"Topic11\", \"Topic11\", \"Topic11\", \"Topic11\", \"Topic11\", \"Topic11\", \"Topic11\", \"Topic11\", \"Topic11\", \"Topic11\", \"Topic11\", \"Topic11\", \"Topic11\", \"Topic11\", \"Topic11\", \"Topic11\", \"Topic11\", \"Topic11\", \"Topic11\", \"Topic11\", \"Topic11\", \"Topic11\", \"Topic11\", \"Topic11\", \"Topic11\", \"Topic11\", \"Topic11\", \"Topic11\", \"Topic11\", \"Topic11\", \"Topic11\", \"Topic12\", \"Topic12\", \"Topic12\", \"Topic12\", \"Topic12\", \"Topic12\", \"Topic12\", \"Topic12\", \"Topic12\", \"Topic12\", \"Topic12\", \"Topic12\", \"Topic12\", \"Topic12\", \"Topic12\", \"Topic12\", \"Topic12\", \"Topic12\", \"Topic12\", \"Topic12\", \"Topic12\", \"Topic12\", \"Topic12\", \"Topic12\", \"Topic12\", \"Topic12\", \"Topic12\", \"Topic12\", \"Topic12\", \"Topic12\", \"Topic12\", \"Topic12\", \"Topic12\", \"Topic12\", \"Topic12\", \"Topic12\", \"Topic12\", \"Topic12\", \"Topic12\", \"Topic12\", \"Topic12\", \"Topic12\", \"Topic12\", \"Topic13\", \"Topic13\", \"Topic13\", \"Topic13\", \"Topic13\", \"Topic13\", \"Topic13\", \"Topic13\", \"Topic13\", \"Topic13\", \"Topic13\", \"Topic13\", \"Topic13\", \"Topic13\", \"Topic13\", \"Topic13\", \"Topic13\", \"Topic13\", \"Topic13\", \"Topic13\", \"Topic13\", \"Topic13\", \"Topic13\", \"Topic13\", \"Topic13\", \"Topic13\", \"Topic13\", \"Topic13\", \"Topic13\", \"Topic13\", \"Topic13\", \"Topic13\", \"Topic13\", \"Topic13\", \"Topic13\", \"Topic13\", \"Topic13\", \"Topic13\", \"Topic13\", \"Topic13\", \"Topic13\", \"Topic14\", \"Topic14\", \"Topic14\", \"Topic14\", \"Topic14\", \"Topic14\", \"Topic14\", \"Topic14\", \"Topic14\", \"Topic14\", \"Topic14\", \"Topic14\", \"Topic14\", \"Topic14\", \"Topic14\", \"Topic14\", \"Topic14\", \"Topic14\", \"Topic14\", \"Topic14\", \"Topic14\", \"Topic14\", \"Topic14\", \"Topic14\", \"Topic14\", \"Topic14\", \"Topic14\", \"Topic14\", \"Topic14\", \"Topic14\", \"Topic14\", \"Topic14\", \"Topic14\", \"Topic14\", \"Topic14\", \"Topic14\", \"Topic14\", \"Topic14\", \"Topic14\", \"Topic14\", \"Topic14\", \"Topic14\", \"Topic14\", \"Topic14\", \"Topic14\", \"Topic14\", \"Topic14\", \"Topic14\", \"Topic14\", \"Topic14\", \"Topic14\", \"Topic14\", \"Topic14\", \"Topic14\", \"Topic14\", \"Topic14\", \"Topic14\", \"Topic14\", \"Topic14\", \"Topic14\", \"Topic14\", \"Topic14\", \"Topic14\", \"Topic14\", \"Topic14\", \"Topic15\", \"Topic15\", \"Topic15\", \"Topic15\", \"Topic15\", \"Topic15\", \"Topic15\", \"Topic15\", \"Topic15\", \"Topic15\", \"Topic15\", \"Topic15\", \"Topic15\", \"Topic15\", \"Topic15\", \"Topic15\", \"Topic15\", \"Topic15\", \"Topic15\", \"Topic15\", \"Topic15\", \"Topic15\", \"Topic15\", \"Topic15\", \"Topic15\", \"Topic15\", \"Topic15\", \"Topic15\", \"Topic15\", \"Topic15\", \"Topic15\", \"Topic15\", \"Topic15\", \"Topic15\", \"Topic15\", \"Topic15\", \"Topic15\", \"Topic15\", \"Topic15\", \"Topic15\", \"Topic15\", \"Topic15\", \"Topic16\", \"Topic16\", \"Topic16\", \"Topic16\", \"Topic16\", \"Topic16\", \"Topic16\", \"Topic16\", \"Topic16\", \"Topic16\", \"Topic16\", \"Topic16\", \"Topic16\", \"Topic16\", \"Topic16\", \"Topic16\", \"Topic16\", \"Topic16\", \"Topic16\", \"Topic16\", \"Topic16\", \"Topic16\", \"Topic16\", \"Topic16\", \"Topic16\", \"Topic16\", \"Topic16\", \"Topic16\", \"Topic16\", \"Topic16\", \"Topic16\", \"Topic16\", \"Topic16\", \"Topic16\", \"Topic16\", \"Topic16\", \"Topic16\", \"Topic16\", \"Topic16\", \"Topic16\", \"Topic16\", \"Topic16\", \"Topic16\", \"Topic16\", \"Topic16\", \"Topic16\", \"Topic17\", \"Topic17\", \"Topic17\", \"Topic17\", \"Topic17\", \"Topic17\", \"Topic17\", \"Topic17\", \"Topic17\", \"Topic17\", \"Topic17\", \"Topic17\", \"Topic17\", \"Topic17\", \"Topic17\", \"Topic17\", \"Topic17\", \"Topic17\", \"Topic17\", \"Topic17\", \"Topic17\", \"Topic17\", \"Topic17\", \"Topic17\", \"Topic17\", \"Topic17\", \"Topic17\", \"Topic17\", \"Topic17\", \"Topic17\", \"Topic17\", \"Topic17\", \"Topic17\", \"Topic17\", \"Topic17\", \"Topic17\", \"Topic17\", \"Topic17\", \"Topic17\", \"Topic17\", \"Topic17\", \"Topic17\", \"Topic17\", \"Topic17\", \"Topic17\", \"Topic17\", \"Topic17\", \"Topic17\", \"Topic17\", \"Topic17\", \"Topic17\", \"Topic17\", \"Topic17\", \"Topic17\", \"Topic17\", \"Topic17\", \"Topic17\", \"Topic18\", \"Topic18\", \"Topic18\", \"Topic18\", \"Topic18\", \"Topic18\", \"Topic18\", \"Topic18\", \"Topic18\", \"Topic18\", \"Topic18\", \"Topic18\", \"Topic18\", \"Topic18\", \"Topic18\", \"Topic18\", \"Topic18\", \"Topic18\", \"Topic18\", \"Topic18\", \"Topic18\", \"Topic18\", \"Topic18\", \"Topic18\", \"Topic18\", \"Topic18\", \"Topic18\", \"Topic18\", \"Topic18\", \"Topic18\", \"Topic18\", \"Topic18\", \"Topic18\", \"Topic18\", \"Topic18\", \"Topic18\", \"Topic18\", \"Topic18\", \"Topic18\", \"Topic18\", \"Topic18\", \"Topic18\", \"Topic18\", \"Topic18\", \"Topic18\", \"Topic18\", \"Topic18\", \"Topic18\", \"Topic18\", \"Topic19\", \"Topic19\", \"Topic19\", \"Topic19\", \"Topic19\", \"Topic19\", \"Topic19\", \"Topic19\", \"Topic19\", \"Topic19\", \"Topic19\", \"Topic19\", \"Topic19\", \"Topic19\", \"Topic19\", \"Topic19\", \"Topic19\", \"Topic19\", \"Topic19\", \"Topic19\", \"Topic19\", \"Topic19\", \"Topic19\", \"Topic19\", \"Topic19\", \"Topic19\", \"Topic19\", \"Topic19\", \"Topic19\", \"Topic19\", \"Topic19\", \"Topic19\", \"Topic19\", \"Topic19\", \"Topic19\", \"Topic19\", \"Topic19\", \"Topic19\", \"Topic19\", \"Topic19\", \"Topic19\", \"Topic19\", \"Topic19\", \"Topic19\", \"Topic19\", \"Topic19\", \"Topic19\", \"Topic19\", \"Topic19\", \"Topic19\", \"Topic19\", \"Topic19\", \"Topic20\", \"Topic20\", \"Topic20\", \"Topic20\", \"Topic20\", \"Topic20\", \"Topic20\", \"Topic20\", \"Topic20\", \"Topic20\", \"Topic20\", \"Topic20\", \"Topic20\", \"Topic20\", \"Topic20\", \"Topic20\", \"Topic20\", \"Topic20\", \"Topic20\", \"Topic20\", \"Topic20\", \"Topic20\", \"Topic20\", \"Topic20\", \"Topic20\", \"Topic20\", \"Topic20\", \"Topic20\", \"Topic20\", \"Topic20\", \"Topic20\", \"Topic20\", \"Topic20\", \"Topic20\", \"Topic20\", \"Topic20\", \"Topic20\", \"Topic20\", \"Topic20\", \"Topic20\", \"Topic20\", \"Topic20\", \"Topic20\", \"Topic20\", \"Topic20\", \"Topic20\", \"Topic20\", \"Topic20\", \"Topic20\", \"Topic20\", \"Topic20\", \"Topic20\", \"Topic20\"], \"logprob\": [30.0, 29.0, 28.0, 27.0, 26.0, 25.0, 24.0, 23.0, 22.0, 21.0, 20.0, 19.0, 18.0, 17.0, 16.0, 15.0, 14.0, 13.0, 12.0, 11.0, 10.0, 9.0, 8.0, 7.0, 6.0, 5.0, 4.0, 3.0, 2.0, 1.0, -2.9597, -3.3804, -3.4616, -3.597, -3.6668, -3.7003, -3.7437, -3.7689, -3.7998, -3.82, -4.0322, -4.1091, -4.4054, -4.4686, -4.5183, -4.5426, -4.5722, -4.6054, -4.6091, -4.6149, -4.6585, -4.6638, -4.6794, -4.7104, -4.7216, -4.7991, -4.8198, -4.8777, -4.9102, -4.9347, -4.7589, -3.6947, -4.3446, -2.6293, -2.8533, -2.9079, -3.0203, -3.0453, -3.0563, -3.4871, -3.5777, -3.6035, -3.6188, -3.6672, -3.7581, -3.7622, -3.9506, -3.9612, -4.0312, -4.1132, -4.1318, -4.1595, -4.232, -4.2395, -4.2595, -4.3638, -4.3775, -4.4097, -4.447, -4.4678, -4.4981, -4.5694, -4.5826, -3.9662, -3.812, -2.3165, -2.5057, -2.5113, -2.5369, -2.8859, -3.0736, -3.0812, -3.3211, -3.462, -3.5935, -3.6436, -3.8879, -4.0599, -4.067, -4.0892, -4.1757, -4.1929, -4.224, -4.2267, -4.2709, -4.2961, -4.4527, -4.4691, -4.5118, -4.5477, -4.5714, -4.8414, -4.9216, -4.9394, -4.9504, -1.6266, -2.2872, -2.4085, -2.6179, -2.8619, -3.0255, -3.1522, -3.3303, -3.3304, -3.3675, -3.4392, -3.4729, -3.5079, -3.5477, -3.5535, -3.7595, -3.9063, -3.9647, -4.2264, -4.3831, -4.9297, -5.2383, -5.4091, -5.4962, -5.8421, -5.9791, -6.387, -15.7215, -15.7208, -15.7216, -15.7215, -15.7204, -15.7213, -2.212, -2.3646, -2.5519, -2.7539, -2.9577, -2.9652, -3.0402, -3.0597, -3.2215, -3.334, -3.4581, -3.6299, -3.7735, -3.7821, -3.8011, -3.9851, -3.9914, -4.0383, -4.0917, -4.575, -4.7671, -4.7941, -4.8221, -4.8413, -4.8811, -4.9431, -5.2722, -5.4033, -5.4932, -5.6587, -3.7369, -3.6306, -4.2944, -1.2397, -1.3097, -2.1068, -2.1799, -2.4166, -3.4469, -3.9306, -4.4362, -5.4186, -5.9617, -6.0715, -5.9458, -14.7851, -14.7852, -14.7853, -14.7853, -14.784, -14.7852, -14.7852, -14.7852, -14.7853, -14.7853, -14.7851, -14.7852, -14.7853, -14.7851, -14.7853, -14.7852, -14.785, -14.7853, -14.7849, -14.7846, -14.7851, -14.785, -14.785, -14.7849, -14.7851, -14.7851, -14.7851, -14.785, -14.785, -14.7851, -14.785, -14.785, -14.7851, -14.785, -14.7851, -1.9729, -2.1889, -2.5347, -2.5446, -3.0175, -3.2153, -3.2239, -3.2264, -3.4652, -3.7268, -3.7363, -3.8004, -3.8129, -3.8784, -3.9227, -3.9239, -3.9502, -3.9559, -3.9836, -4.0234, -4.0401, -4.0938, -4.285, -4.3573, -4.4725, -4.7466, -5.1481, -5.2456, -5.4114, -5.4452, -0.677, -1.8299, -2.2856, -2.8214, -3.1246, -3.4223, -3.9077, -5.0259, -5.1692, -5.589, -14.4571, -14.4582, -14.4587, -14.4583, -14.4587, -14.4585, -14.4585, -14.4587, -14.4584, -14.4587, -14.4585, -14.4588, -14.4588, -14.4588, -14.4588, -14.4588, -14.4587, -14.4582, -14.4587, -14.4588, -14.458, -14.4585, -14.4583, -14.4584, -14.4585, -14.4587, -14.4586, -14.4582, -14.4584, -14.4583, -14.4584, -14.4585, -14.4585, -14.4584, -14.4585, -1.2853, -1.7957, -2.3506, -2.456, -2.8938, -2.9169, -3.0732, -3.1094, -3.2257, -3.591, -4.455, -4.5841, -4.872, -5.0718, -5.1194, -14.3067, -14.3063, -14.3067, -14.3065, -14.3066, -14.3067, -14.307, -14.307, -14.3069, -14.3069, -14.3069, -14.3067, -14.3071, -14.307, -14.3066, -14.3066, -14.3069, -14.306, -14.3065, -14.3068, -14.3065, -14.3066, -14.3067, -14.3066, -1.5384, -1.9032, -2.0537, -2.1863, -2.629, -3.3921, -3.4018, -3.4675, -3.7759, -3.8809, -3.9065, -3.9242, -3.9492, -4.2393, -4.3974, -4.6279, -5.0454, -5.3146, -5.364, -6.1867, -6.5896, -14.3106, -14.3109, -14.3113, -14.3113, -14.3113, -14.311, -14.311, -14.3114, -14.3114, -14.3109, -14.3111, -14.3103, -14.3108, -14.3108, -14.311, -14.311, -1.3565, -1.4607, -2.1195, -2.4298, -2.656, -3.4659, -3.5046, -3.5877, -3.7402, -3.9111, -4.3624, -4.5184, -14.1846, -14.1847, -14.1846, -14.1842, -14.1846, -14.1849, -14.185, -14.1849, -14.1849, -14.1849, -14.1849, -14.1843, -14.1846, -14.185, -14.185, -14.1849, -14.185, -14.185, -14.1847, -14.1845, -14.1849, -14.1848, -14.1848, -14.1846, -14.1848, -14.184, -14.1848, -14.1848, -14.1848, -14.1847, -14.1848, -14.1847, -14.1848, -0.8716, -2.4236, -2.5562, -2.8734, -2.8822, -2.9512, -3.0938, -3.5151, -3.5791, -4.0504, -4.4637, -4.7272, -4.7968, -4.8991, -5.2336, -5.4931, -5.5671, -5.6736, -6.2783, -14.1836, -14.1838, -14.1835, -14.1839, -14.1838, -14.1839, -14.1839, -14.1839, -14.1834, -14.1839, -14.1839, -14.1839, -14.1837, -14.1835, -14.1837, -14.1837, -14.1836, -14.1833, -14.1836, -14.183, -14.1834, -14.1835, -14.1836, -14.1836, -1.3475, -1.7295, -2.0854, -2.4709, -2.7895, -3.18, -3.2297, -3.4336, -3.6049, -3.8393, -4.361, -4.4874, -4.6938, -5.0306, -5.3536, -5.6435, -7.0405, -14.1089, -14.1085, -14.1088, -14.1091, -14.1092, -14.1087, -14.1092, -14.1093, -14.1092, -14.1093, -14.1094, -14.1094, -14.1092, -14.1091, -14.1093, -14.1087, -14.1091, -14.1091, -14.1091, -14.1086, -14.109, -14.109, -14.1091, -14.1091, -1.1575, -1.5578, -2.1758, -2.4018, -3.002, -3.6551, -3.6735, -3.6968, -3.8498, -13.69, -13.69, -13.6896, -13.69, -13.6901, -13.6897, -13.6901, -13.6901, -13.6901, -13.6901, -13.6901, -13.6901, -13.6901, -13.6901, -13.6901, -13.6901, -13.6901, -13.6901, -13.6901, -13.6901, -13.6901, -13.6901, -13.6901, -13.6901, -13.6901, -13.6897, -13.6901, -13.6899, -13.69, -13.69, -13.6898, -13.6896, -13.69, -13.69, -13.69, -13.6896, -13.6898, -13.6896, -13.69, -13.69, -13.6897, -13.6899, -13.6896, -13.6898, -13.6899, -13.69, -13.6899, -13.6899, -13.6899, -13.6897, -13.6898, -13.6899, -13.6899, -13.6899, -13.6897, -13.6899, -1.4821, -1.6242, -1.9026, -2.7066, -2.7372, -3.2207, -4.0662, -4.1822, -4.2, -4.3284, -4.3412, -4.4506, -4.4782, -4.6387, -4.8128, -5.2414, -13.6018, -13.602, -13.6022, -13.6022, -13.6022, -13.6022, -13.6022, -13.6023, -13.6021, -13.6022, -13.6021, -13.6022, -13.6021, -13.6023, -13.6022, -13.6021, -13.6018, -13.6021, -13.602, -13.6022, -13.602, -13.6021, -13.6021, -13.602, -13.602, -13.6021, -0.3579, -2.7546, -3.543, -3.5445, -3.9393, -4.0434, -4.2662, -4.7216, -13.7261, -13.7268, -13.7268, -13.7266, -13.727, -13.7272, -13.7272, -13.7272, -13.7273, -13.7274, -13.7268, -13.7274, -13.7274, -13.7273, -13.7271, -13.7274, -13.7274, -13.7274, -13.7273, -13.7274, -13.7274, -13.7274, -13.7267, -13.7273, -13.7271, -13.7273, -13.7272, -13.7269, -13.7272, -13.7272, -13.7273, -13.7272, -13.7273, -13.7272, -13.7273, -13.7273, -13.7273, -13.7273, -0.875, -1.3697, -2.6226, -3.1001, -3.2536, -4.397, -13.4333, -13.4329, -13.4332, -13.4334, -13.4333, -13.4334, -13.4335, -13.4335, -13.4334, -13.4335, -13.4335, -13.4335, -13.4335, -13.4335, -13.4335, -13.4335, -13.4335, -13.4335, -13.4335, -13.4335, -13.4335, -13.4335, -13.4335, -13.4335, -13.4334, -13.4334, -13.4332, -13.4333, -13.4334, -13.4335, -13.4333, -13.4333, -13.4332, -13.4332, -13.4334, -13.4333, -13.4334, -13.4334, -13.4333, -13.4334, -13.4331, -13.4333, -13.4332, -13.4332, -13.4332, -13.4332, -13.4334, -13.4333, -13.4333, -13.4333, -13.4334, -0.945, -2.3823, -2.4081, -2.4101, -2.4329, -2.9854, -3.9801, -5.1835, -6.3506, -13.3464, -13.3466, -13.3467, -13.3466, -13.3467, -13.3467, -13.3467, -13.3467, -13.3467, -13.3466, -13.3467, -13.3467, -13.3468, -13.3467, -13.3468, -13.3467, -13.3468, -13.3468, -13.3468, -13.3468, -13.3468, -13.3467, -13.3468, -13.3465, -13.3464, -13.3463, -13.3467, -13.3465, -13.3467, -13.3466, -13.3465, -13.3465, -13.3466, -13.3466, -13.3466, -13.3466, -13.3466, -13.3466, -13.3467, -13.3467, -0.8854, -1.4282, -2.0657, -3.3217, -4.3438, -6.9727, -13.3692, -13.3693, -13.3693, -13.3694, -13.3693, -13.3693, -13.3693, -13.3693, -13.3693, -13.3694, -13.3694, -13.3694, -13.3693, -13.3694, -13.3694, -13.3694, -13.3694, -13.3694, -13.3694, -13.3693, -13.3694, -13.3694, -13.3694, -13.3692, -13.3694, -13.3694, -13.3691, -13.3693, -13.3693, -13.3691, -13.3692, -13.3691, -13.369, -13.369, -13.3693, -13.3692, -13.3692, -13.3692, -13.3692, -13.3693, -13.3693, -13.3692, -13.3693, -13.3693, -13.3693, -13.3693, -1.713, -1.7974, -1.8769, -2.1543, -2.2624, -3.503, -12.9862, -12.9864, -12.9865, -12.9865, -12.9865, -12.9865, -12.9865, -12.9865, -12.9865, -12.9865, -12.9865, -12.9865, -12.9865, -12.9865, -12.9865, -12.9865, -12.9865, -12.9865, -12.9865, -12.9865, -12.9866, -12.9865, -12.9866, -12.9866, -12.9865, -12.9865, -12.9861, -12.9864, -12.9865, -12.9865, -12.9863, -12.9863, -12.9865, -12.9864, -12.9864, -12.9865, -12.9865, -12.9863, -12.9865, -12.9865, -12.9864, -12.9864, -12.9865, -12.9865, -12.9865, -12.9865, -12.9865], \"loglift\": [30.0, 29.0, 28.0, 27.0, 26.0, 25.0, 24.0, 23.0, 22.0, 21.0, 20.0, 19.0, 18.0, 17.0, 16.0, 15.0, 14.0, 13.0, 12.0, 11.0, 10.0, 9.0, 8.0, 7.0, 6.0, 5.0, 4.0, 3.0, 2.0, 1.0, 0.9828, 0.9827, 0.9827, 0.9827, 0.9827, 0.9827, 0.9827, 0.9827, 0.9827, 0.9827, 0.9827, 0.9827, 0.9827, 0.9827, 0.9827, 0.9827, 0.9827, 0.9827, 0.9827, 0.9827, 0.9827, 0.9827, 0.9827, 0.9827, 0.9827, 0.9827, 0.9827, 0.9827, 0.9827, 0.9827, 0.9824, 0.9233, 0.7774, 1.7962, 1.7961, 1.7961, 1.7961, 1.7961, 1.7961, 1.7961, 1.7961, 1.7961, 1.7961, 1.7961, 1.7961, 1.7961, 1.7961, 1.7961, 1.7961, 1.7961, 1.7961, 1.7961, 1.7961, 1.7961, 1.7961, 1.7961, 1.796, 1.796, 1.796, 1.796, 1.796, 1.796, 1.796, 1.7673, 1.5561, 2.4836, 2.4836, 2.4836, 2.4836, 2.4836, 2.4835, 2.4835, 2.4835, 2.4835, 2.4835, 2.4835, 2.4835, 2.4834, 2.4834, 2.4834, 2.4834, 2.4834, 2.4834, 2.4834, 2.4834, 2.4834, 2.4833, 2.4833, 2.4833, 2.4833, 2.4833, 2.4832, 2.4832, 2.4832, 2.4832, 2.7258, 2.7258, 2.7258, 2.7258, 2.7258, 2.7258, 2.7258, 2.7257, 2.7257, 2.7257, 2.7257, 2.7257, 2.7257, 2.7257, 2.7257, 2.7257, 2.7257, 2.7256, 2.7256, 2.7255, 2.7253, 2.7251, 2.725, 2.7249, 2.7245, 2.7243, 2.7235, -0.5968, -0.5968, -0.5968, -0.5968, -0.597, -0.5969, 3.1757, 3.1757, 3.1757, 3.1757, 3.1757, 3.1757, 3.1757, 3.1757, 3.1756, 3.1756, 3.1756, 3.1756, 3.1755, 3.1755, 3.1755, 3.1755, 3.1755, 3.1754, 3.1754, 3.1752, 3.1751, 3.175, 3.175, 3.175, 3.175, 3.1749, 3.1746, 3.1744, 3.1743, 3.174, 1.6312, 1.4915, 0.3236, 3.3762, 3.3762, 3.3762, 3.3762, 3.3761, 3.376, 3.3758, 3.3756, 3.3745, 3.3733, 3.373, 0.7757, 0.3396, 0.3395, 0.3395, 0.3395, 0.3395, 0.3395, 0.3395, 0.3395, 0.3395, 0.3395, 0.3395, 0.3395, 0.3395, 0.3395, 0.3395, 0.3394, 0.3394, 0.3394, 0.3394, 0.3394, 0.3394, 0.3394, 0.3394, 0.3394, 0.3394, 0.3394, 0.3394, 0.3394, 0.3394, 0.3394, 0.3392, 0.3391, 0.3394, 0.3391, 0.3391, 3.4075, 3.4075, 3.4075, 3.4075, 3.4074, 3.4074, 3.4074, 3.4074, 3.4073, 3.4072, 3.4072, 3.4072, 3.4072, 3.4072, 3.4072, 3.4072, 3.4072, 3.4071, 3.4071, 3.4071, 3.4071, 3.4071, 3.407, 3.4069, 3.4069, 3.4067, 3.4062, 3.4061, 3.4058, 3.4058, 3.5805, 3.5805, 3.5805, 3.5804, 3.5803, 3.5803, 3.5801, 3.5792, 3.5789, 3.5781, 0.6664, 0.6662, 0.6661, 0.666, 0.666, 0.666, 0.666, 0.666, 0.666, 0.666, 0.666, 0.666, 0.666, 0.666, 0.666, 0.666, 0.666, 0.666, 0.666, 0.666, 0.666, 0.666, 0.666, 0.666, 0.666, 0.666, 0.666, 0.6659, 0.6659, 0.6659, 0.6659, 0.6659, 0.6659, 0.6658, 0.6659, 3.7445, 3.7444, 3.7444, 3.7444, 3.7443, 3.7443, 3.7443, 3.7443, 3.7442, 3.7441, 3.7436, 3.7434, 3.7431, 3.7428, 3.7427, 0.818, 0.8179, 0.8179, 0.8178, 0.8178, 0.8178, 0.8178, 0.8178, 0.8177, 0.8177, 0.8177, 0.8177, 0.8177, 0.8177, 0.8177, 0.8177, 0.8177, 0.8175, 0.8176, 0.8177, 0.8176, 0.8176, 0.8176, 0.8176, 3.8076, 3.8076, 3.8076, 3.8076, 3.8075, 3.8073, 3.8073, 3.8073, 3.8072, 3.8071, 3.8071, 3.8071, 3.8071, 3.8069, 3.8067, 3.8065, 3.8059, 3.8053, 3.8052, 3.8021, 3.7993, 0.8136, 0.8135, 0.8134, 0.8134, 0.8134, 0.8134, 0.8134, 0.8134, 0.8134, 0.8134, 0.8134, 0.8131, 0.8132, 0.8132, 0.8132, 0.8132, 3.8555, 3.8555, 3.8555, 3.8555, 3.8554, 3.8552, 3.8552, 3.8552, 3.8551, 3.855, 3.8547, 3.8545, 0.9398, 0.9398, 0.9398, 0.9398, 0.9398, 0.9398, 0.9398, 0.9397, 0.9397, 0.9397, 0.9397, 0.9397, 0.9397, 0.9397, 0.9397, 0.9397, 0.9397, 0.9397, 0.9397, 0.9397, 0.9397, 0.9397, 0.9397, 0.9396, 0.9397, 0.9394, 0.9397, 0.9397, 0.9396, 0.9395, 0.9397, 0.9396, 0.9396, 3.8592, 3.8591, 3.8591, 3.859, 3.859, 3.859, 3.859, 3.8588, 3.8588, 3.8585, 3.8582, 3.8579, 3.8578, 3.8576, 3.857, 3.8563, 3.8561, 3.8557, 3.8528, 0.9411, 0.941, 0.9409, 0.9409, 0.9409, 0.9409, 0.9409, 0.9409, 0.9408, 0.9408, 0.9408, 0.9408, 0.9408, 0.9408, 0.9408, 0.9408, 0.9408, 0.9407, 0.9408, 0.9404, 0.9406, 0.9407, 0.9407, 0.9407, 3.9967, 3.9967, 3.9967, 3.9966, 3.9966, 3.9965, 3.9964, 3.9964, 3.9963, 3.9961, 3.9957, 3.9956, 3.9953, 3.9947, 3.9939, 3.9929, 3.981, 1.0157, 1.0155, 1.0155, 1.0155, 1.0155, 1.0155, 1.0154, 1.0154, 1.0154, 1.0154, 1.0154, 1.0154, 1.0154, 1.0154, 1.0154, 1.0153, 1.0154, 1.0154, 1.0153, 1.0149, 1.0153, 1.0152, 1.0153, 1.0151, 4.3308, 4.3307, 4.3306, 4.3306, 4.3304, 4.3301, 4.3301, 4.33, 4.3299, 1.4348, 1.4348, 1.4348, 1.4347, 1.4347, 1.4347, 1.4347, 1.4347, 1.4347, 1.4347, 1.4347, 1.4347, 1.4347, 1.4347, 1.4347, 1.4347, 1.4347, 1.4347, 1.4347, 1.4347, 1.4347, 1.4347, 1.4347, 1.4347, 1.4347, 1.4347, 1.4347, 1.4347, 1.4347, 1.4347, 1.4347, 1.4346, 1.4347, 1.4347, 1.4347, 1.4346, 1.4346, 1.4346, 1.4347, 1.4347, 1.4346, 1.4346, 1.4345, 1.4346, 1.4347, 1.4347, 1.4346, 1.4346, 1.4346, 1.4344, 1.4345, 1.4345, 1.4346, 1.4346, 1.4337, 1.4345, 4.4239, 4.4239, 4.4238, 4.4236, 4.4236, 4.4234, 4.4227, 4.4226, 4.4225, 4.4224, 4.4223, 4.4221, 4.4221, 4.4218, 4.4213, 4.42, 1.5226, 1.5226, 1.5225, 1.5225, 1.5225, 1.5225, 1.5225, 1.5225, 1.5225, 1.5225, 1.5225, 1.5225, 1.5225, 1.5225, 1.5225, 1.5225, 1.5223, 1.5224, 1.5223, 1.5225, 1.5222, 1.5223, 1.5222, 1.5221, 1.522, 1.5221, 4.4279, 4.4276, 4.4272, 4.4272, 4.4269, 4.4267, 4.4264, 4.4255, 1.3984, 1.3978, 1.3977, 1.3976, 1.3976, 1.3975, 1.3975, 1.3975, 1.3975, 1.3974, 1.3974, 1.3974, 1.3974, 1.3974, 1.3974, 1.3974, 1.3974, 1.3974, 1.3974, 1.3974, 1.3974, 1.3974, 1.3973, 1.3973, 1.3973, 1.3973, 1.3973, 1.3971, 1.3973, 1.3972, 1.3973, 1.397, 1.3972, 1.397, 1.3972, 1.3971, 1.3971, 1.397, 4.7414, 4.7414, 4.7411, 4.7409, 4.7407, 4.7391, 1.6915, 1.6915, 1.6914, 1.6914, 1.6914, 1.6914, 1.6913, 1.6913, 1.6913, 1.6913, 1.6913, 1.6913, 1.6913, 1.6913, 1.6913, 1.6913, 1.6913, 1.6913, 1.6913, 1.6913, 1.6913, 1.6913, 1.6913, 1.6913, 1.6913, 1.6913, 1.6913, 1.6913, 1.6913, 1.6913, 1.6913, 1.6912, 1.6912, 1.6911, 1.6913, 1.6912, 1.6913, 1.6912, 1.6912, 1.6912, 1.6909, 1.6911, 1.691, 1.691, 1.691, 1.6908, 1.6912, 1.691, 1.6911, 1.6911, 1.6911, 4.7756, 4.7753, 4.7753, 4.7753, 4.7753, 4.7751, 4.774, 4.7703, 4.7584, 1.7783, 1.7782, 1.7781, 1.7781, 1.7781, 1.7781, 1.7781, 1.7781, 1.7781, 1.7781, 1.7781, 1.778, 1.778, 1.778, 1.778, 1.778, 1.778, 1.778, 1.778, 1.778, 1.778, 1.778, 1.778, 1.778, 1.778, 1.7779, 1.778, 1.7778, 1.778, 1.7777, 1.7777, 1.7775, 1.7777, 1.7778, 1.7778, 1.7776, 1.7777, 1.7774, 1.7778, 1.7777, 4.8244, 4.8244, 4.8242, 4.8236, 4.822, 4.7909, 1.7555, 1.7555, 1.7555, 1.7555, 1.7555, 1.7554, 1.7554, 1.7554, 1.7554, 1.7554, 1.7554, 1.7554, 1.7554, 1.7554, 1.7554, 1.7554, 1.7554, 1.7554, 1.7554, 1.7554, 1.7554, 1.7554, 1.7554, 1.7554, 1.7554, 1.7554, 1.7553, 1.7553, 1.7554, 1.7551, 1.7552, 1.7551, 1.755, 1.755, 1.7553, 1.7551, 1.7552, 1.755, 1.7551, 1.7552, 1.7552, 1.7551, 1.7551, 1.755, 1.7551, 1.7552, 5.2582, 5.2581, 5.2581, 5.258, 5.258, 5.2568, 2.1386, 2.1384, 2.1384, 2.1383, 2.1383, 2.1383, 2.1383, 2.1383, 2.1383, 2.1383, 2.1383, 2.1383, 2.1383, 2.1383, 2.1383, 2.1383, 2.1383, 2.1383, 2.1383, 2.1383, 2.1383, 2.1383, 2.1383, 2.1383, 2.1383, 2.1383, 2.1382, 2.1383, 2.1383, 2.1383, 2.1382, 2.1381, 2.1382, 2.1381, 2.138, 2.1382, 2.1382, 2.1377, 2.1381, 2.1381, 2.1379, 2.1378, 2.138, 2.138, 2.1382, 2.1377, 2.1379]}, \"token.table\": {\"Topic\": [1, 12, 9, 17, 15, 9, 8, 5, 3, 12, 10, 6, 5, 19, 15, 2, 15, 17, 17, 2, 1, 10, 7, 18, 12, 13, 3, 19, 17, 9, 4, 4, 7, 10, 3, 5, 18, 6, 20, 3, 5, 5, 15, 5, 5, 3, 2, 9, 8, 7, 6, 11, 10, 7, 11, 9, 6, 2, 3, 5, 17, 7, 2, 3, 8, 5, 12, 14, 5, 13, 15, 10, 2, 9, 10, 2, 12, 1, 5, 11, 5, 9, 4, 10, 16, 1, 9, 3, 1, 7, 12, 8, 13, 14, 3, 20, 15, 19, 2, 15, 1, 1, 6, 13, 1, 3, 15, 8, 7, 4, 4, 4, 10, 19, 4, 4, 4, 4, 7, 5, 5, 2, 5, 3, 12, 9, 2, 5, 1, 3, 1, 1, 1, 1, 14, 5, 16, 12, 7, 7, 10, 16, 11, 7, 13, 14, 2, 5, 7, 9, 7, 7, 4, 6, 1, 4, 19, 3, 18, 5, 4, 4, 7, 10, 5, 3, 12, 12, 10, 3, 2, 2, 10, 12, 2, 9, 4, 1, 1, 16, 10, 2, 15, 10, 1, 2, 3, 11, 20, 6, 8, 16, 12, 7, 12, 3, 10, 8, 1, 2, 1, 7, 2, 12, 18, 11, 3, 18, 13, 3, 3, 8, 4, 7, 12, 2, 2, 13, 10, 2, 14, 17, 11, 1, 18, 3, 7, 15, 18, 2, 11, 5, 13, 11, 10, 2, 3, 13, 10, 20, 8, 1, 5, 11, 15, 6, 3, 1, 12, 14, 10, 2, 3, 2, 5, 1, 2, 15, 12, 7, 8, 7, 12, 2, 9, 5, 4, 7, 4, 4, 19, 4, 4, 4, 7, 4, 7, 3, 15, 2, 13, 5, 12, 7, 4, 7, 18, 11, 13, 3, 5, 2, 13, 2, 1, 7, 3, 6, 1, 6, 6, 5, 16, 9, 1, 6, 7, 3, 4, 1, 13, 15, 1, 5, 5, 1, 1, 14, 5, 18, 3, 1, 10, 13, 2, 14, 4, 1, 14, 15, 20, 13, 13, 1, 16, 5, 1, 3, 9, 11, 20, 10, 7, 16, 7, 9, 1, 4, 15, 3, 2, 5, 13, 5], \"Freq\": [0.9999325628682315, 0.9997680501905162, 0.9998245849338102, 0.9977088790428257, 0.9980830547931744, 0.9999569188855161, 0.9999275709413903, 0.9998846624329151, 0.9998309244553086, 0.9941501014815806, 0.9995831259501499, 0.9997348123728506, 0.9998984788737303, 0.9999278552398732, 0.9997376218942, 0.999881125459091, 0.998257992650504, 0.99960678492781, 0.9991307468336329, 0.9999046676109052, 0.9999325280971201, 0.9998833766153216, 0.9994481876145201, 0.998431472910864, 0.9987590441043632, 0.9982560284866715, 0.9999460247207753, 0.9989890159806627, 0.9998595816936456, 0.9998446977006447, 0.9999800042250133, 0.9999286143388654, 0.9997435511226725, 0.9988800885063814, 0.9998094568698351, 0.999057002286648, 0.9940220474710384, 0.9999710175329714, 0.9997656942395613, 0.9998911297772771, 0.999905318736567, 0.999211080979601, 0.9994691772704549, 0.9985916602875822, 0.9990264285046848, 0.9997038911032118, 0.9999654400268547, 0.9997837827041838, 0.9983688559294392, 0.9983615028139157, 0.9981663493120344, 0.9996679505975219, 0.9997411698146208, 0.999645235841513, 0.9999414628568142, 0.9981692444173966, 0.999912721481833, 0.999850293560126, 0.9994770728180069, 0.9997445778970723, 0.999925906014681, 0.9999036762749596, 0.9998882833744438, 0.9996728206384331, 0.9999339777183968, 0.9999383216886146, 0.9984248985080945, 0.9990738619753798, 0.9997394841965586, 0.9987345860777321, 0.9983824463943302, 0.9999190658175509, 0.9999735262039838, 0.9999448905819902, 0.9994130926366984, 0.9999181780706722, 0.9995445560778456, 0.8143843496560037, 0.18558822630240931, 0.9989743306015214, 0.9994694228858579, 0.9987475398639205, 0.9998695375039136, 0.9996473243397119, 0.9999757912605182, 0.9999357059262134, 0.9980652887529702, 0.9997797527828484, 0.9999405195674445, 0.9994724068873493, 0.99878323914925, 0.9996921716392584, 0.9996528807242555, 0.9997870320602716, 0.9997552911064571, 0.9996386225309876, 0.9984560572060999, 0.9689235474119199, 0.9999229351188708, 0.9999228774517098, 0.9999495003852211, 0.9999041168986771, 0.9999226019616677, 0.9995106285081322, 0.9999746634469969, 0.9998870430814769, 0.9988519458242462, 0.9999808456750229, 0.9995989242761067, 0.9998977650203779, 0.9991831379638254, 0.9999169938443163, 0.9993707981823843, 0.9969013004797284, 0.999894272641275, 0.9997731716871378, 0.9999368011815084, 0.9998707536827605, 0.9999365008143261, 0.9997227189400377, 0.9990591687880135, 0.7865575424629635, 0.21338156482941723, 0.9997865148663951, 0.9998563157296604, 0.9996634066957995, 0.999968571656785, 0.9998316062789786, 0.9996359440832008, 0.00029359115585224496, 0.9999753126343648, 0.9999362319659638, 0.9999663849990565, 0.9999850942120639, 0.9999309928093153, 0.9998833901641679, 0.9986224558260393, 0.9998342178768421, 0.9979733775347269, 0.9995876547642966, 0.9993207239669922, 0.9994177659909551, 0.9994557294536068, 0.9996486603090865, 0.9993842986998835, 0.9998975085052181, 0.9999007351197567, 0.9997199543541827, 0.9998870452946665, 0.9992638871775841, 0.999649039356868, 0.9996914049974494, 0.9999012246826154, 0.997662993376642, 0.999914255374629, 0.9999457230271868, 0.9998837577065955, 0.9998280097456869, 0.9996514103130614, 0.9991433391424617, 0.9997951505100294, 0.9984432630743758, 0.9996107777290398, 0.9998897377197727, 0.9978706829363371, 0.9998850392268372, 0.9962602705120631, 0.9996774179578853, 0.9977215125089428, 0.9998421496399521, 0.9999058521600993, 0.9998659180313354, 0.9995360098226032, 0.9994174008964806, 0.9999537483378336, 0.9995256110623201, 0.9980513571745498, 0.9999184887592768, 0.9999750255977254, 0.9996815668677458, 0.9999602215891671, 0.9998437006539481, 0.998496644824148, 0.9976336708052296, 0.9999618537661951, 0.999949576421909, 0.9999557281189546, 0.9996979830931363, 0.999714092330746, 0.997270302419434, 0.9981687087907777, 0.9981704930126956, 0.9966880250298987, 0.99963576135927, 0.9996827678479421, 0.9998164149823229, 0.999231246715748, 0.9996213329381807, 0.9999388533298676, 0.9998700455007112, 0.9999111589416235, 0.9998315346673742, 0.9999542973612369, 0.9997996238923851, 0.9992471282053927, 0.9996437291764232, 0.9999645976634297, 0.9800263030370135, 0.9997638068543151, 0.9996694239755629, 0.9996041787551525, 0.9998766105221305, 0.9987910824010584, 0.999835785166015, 0.9974929242358584, 0.9999692872809518, 0.999887281723007, 0.9996507915137425, 0.9990948804575471, 0.9998278912818395, 0.999420304395466, 0.9993981901228184, 0.999909031723024, 0.9999657134790103, 0.9999393504595568, 0.9999654978777749, 0.9999303310915162, 0.9988081557603539, 0.9995762405063559, 0.9999480265863906, 0.9999459636418317, 0.9996560853458956, 0.9802949450651532, 0.9998953086219524, 0.9998138002142517, 0.9999406750659839, 0.9999286250274324, 0.9977588539234884, 0.9996205234104186, 0.9994116044988298, 0.9983743992334443, 0.9999741479992661, 0.9999017323857199, 0.999525431238514, 0.9957306083392916, 0.9999666082398019, 0.9998711252553124, 0.9999018711547291, 0.9998195795998794, 0.9995150734347694, 0.9942632641321933, 0.999817238266517, 0.9998204070583402, 0.9999821446934047, 0.999856400602654, 0.028382723968642696, 0.9715464678122635, 0.9970757339827544, 0.9990993374778632, 0.9996308368693417, 0.9997904423949535, 0.9985057966488449, 0.9966039499949474, 0.9999701735677239, 0.9999145063860643, 0.9999464619819152, 0.9992592136987121, 0.9998790951373606, 0.9999172301139315, 0.9999488621802048, 0.9997801836275616, 0.9999652198455179, 0.9998465247323032, 0.9998432103912284, 0.9995443261322907, 0.9993314874099736, 0.9995462004741753, 0.9994749978975802, 0.998759712635409, 0.9999347067540266, 0.9987108454149616, 0.9998431132693884, 0.9999742918427884, 0.9997014301639653, 0.9997870134863188, 0.9989414384480912, 0.9997200611261735, 0.9989519143827458, 0.9999006546340661, 0.9999296483846268, 0.9996847572769063, 0.9999084115793712, 0.9959233404971478, 0.9999207916949381, 0.9999278944434815, 0.9982178778102124, 0.9999651919476362, 0.9997042905868135, 0.9255196779626724, 0.0742204186192288, 0.999925879292719, 0.9997768193285391, 0.9974110552977595, 0.9997855244452151, 0.9999040369638976, 0.9993374273607134, 0.9992652137942456, 0.9997287600918167, 0.9996185483966463, 0.9999423488351797, 0.998975918407013, 0.9996757675568855, 0.9422602195780216, 0.05771055701328309, 0.9993489074487573, 0.9999064917192105, 0.999976851722229, 0.9988941813186312, 0.9999102793847873, 0.9996293885403478, 0.9999224055628803, 0.9999238025003208, 0.998662442419818, 0.9998614908088629, 0.9999210863614253, 0.9997471278087687, 0.9990117872279477, 0.999951556335555, 0.9990544265897345, 0.9998450372792755, 0.9980057564876853, 0.9999477618753714, 0.9994493798760007, 0.9999787153234962, 0.9993323605405539, 0.9992512322189042, 0.9999353116877611, 0.9998381181111229, 0.9991897483031723, 0.9997915875387832, 0.9996181485211451, 0.9933460139180597, 0.9997939235662009, 0.9988760407897342, 0.9995970861565763, 0.9998256556720395, 0.9999768974661869, 0.9998354796527785, 0.9999139266030996, 0.9996988080403727, 0.9999433999732593, 0.9997350788360395, 0.999923653382048, 0.9985260921354155], \"Term\": [\"add\", \"address\", \"affordable\", \"ahead\", \"alot\", \"also\", \"always\", \"amazing\", \"amount\", \"anchovy\", \"asian\", \"ask\", \"available\", \"back\", \"balance\", \"base\", \"be\", \"beautiful\", \"believe\", \"big\", \"bit\", \"black\", \"bland\", \"blogger\", \"bomb\", \"bonus\", \"bowl\", \"branch\", \"breakfast\", \"brunch\", \"burpple\", \"burpplesg\", \"buy\", \"buzzfeast\", \"char_siew\", \"charsiew\", \"chat\", \"chicken\", \"chili\", \"chilli\", \"choose\", \"christmas\", \"clean\", \"closed\", \"colour\", \"com\", \"come\", \"comfort\", \"common\", \"concoction\", \"cone\", \"cooked\", \"crave\", \"craving\", \"crispy\", \"crowded\", \"curry\", \"cut\", \"daily\", \"dark\", \"day\", \"dayseat\", \"decent\", \"deep\", \"definitely\", \"delicious\", \"deliciously\", \"delight\", \"delish\", \"deserve\", \"dilute\", \"dinner\", \"dish\", \"drink\", \"drop\", \"dry\", \"dumpling\", \"eat\", \"eat\", \"eater\", \"eating_foodpic\", \"eatmoresg\", \"eatoutsg\", \"eeeeeat\", \"egg\", \"enjoy\", \"equally\", \"especially\", \"even\", \"evening\", \"explain\", \"family\", \"famous\", \"fan\", \"fatty\", \"favorite\", \"feedfeed\", \"feedfeed_dailyfoodfeed\", \"feel\", \"fill\", \"find\", \"first\", \"fish\", \"flavorful\", \"flavour\", \"flavourful\", \"flour\", \"food\", \"foodcoma\", \"foodgasm\", \"foodgram\", \"foodie\", \"foodiegram\", \"foodphoto\", \"foodphotography\", \"foodpic\", \"foodporn\", \"foodsg\", \"foodstagram\", \"fragrance\", \"free_flow\", \"fresh\", \"fresh\", \"fried\", \"friend\", \"friendly\", \"fry\", \"full\", \"generous\", \"generous\", \"get\", \"give\", \"go\", \"good\", \"great\", \"green\", \"hahaha\", \"hand\", \"hardly\", \"heat\", \"hence\", \"hide\", \"highlight\", \"home\", \"honestly\", \"hot\", \"however\", \"hungry\", \"hungrygowhere\", \"hype\", \"iger\", \"igfood\", \"igsg\", \"importantly\", \"ingredient\", \"instafood\", \"instafood_sg\", \"instafoodsg\", \"instagood\", \"instagood_photooftheday\", \"instasg\", \"invitation\", \"iweeklyfood\", \"japanese\", \"job\", \"juicy\", \"label\", \"late\", \"lemak\", \"less\", \"light\", \"like\", \"list\", \"literally\", \"little\", \"live\", \"localfood\", \"look\", \"love\", \"lover\", \"lunch\", \"main\", \"makan\", \"makanwarrior\", \"make\", \"meal\", \"meat\", \"medium\", \"mee\", \"melty\", \"member\", \"mine\", \"minimal\", \"minute\", \"monday\", \"money\", \"monster\", \"month\", \"much\", \"need\", \"new\", \"next\", \"nice\", \"night\", \"nomnom\", \"non\", \"noodle\", \"noodleholic\", \"normal\", \"omakase\", \"onthetable\", \"open\", \"openrice_hungrygowhere\", \"openricesg\", \"operating_hour\", \"order\", \"overall\", \"overly\", \"overwhelming\", \"part\", \"pass\", \"person\", \"piece\", \"place\", \"pm\", \"pork\", \"portion\", \"possible\", \"prepare\", \"pretty\", \"price\", \"pricey\", \"proceed\", \"quality\", \"queue\", \"quite\", \"raman\", \"rank\", \"rating\", \"real\", \"realise\", \"really\", \"red\", \"regular\", \"repeat\", \"rice\", \"rich\", \"right\", \"road\", \"run\", \"saltier\", \"salty\", \"satisfy\", \"sauce\", \"savoury\", \"say\", \"say\", \"scene\", \"seasoning\", \"second\", \"seem\", \"self\", \"selling\", \"serve\", \"service\", \"set\", \"sgblogger\", \"sgcafe\", \"sgeat\", \"sgfood\", \"sgfoodblogger\", \"sgfoodie\", \"sgfoodporn\", \"sgig\", \"sgigfoodie\", \"sgmakandiary\", \"sgrestaurant\", \"shiok\", \"shout\", \"side\", \"sign\", \"simple\", \"singapore\", \"singaporeeat\", \"singaporefood\", \"sip\", \"sit\", \"sized\", \"skin\", \"slice\", \"slight\", \"slightly\", \"slippery\", \"small\", \"soft\", \"somehow\", \"soup\", \"soya\", \"spice\", \"spice\", \"spicy\", \"spot\", \"squeeze\", \"staff\", \"stall\", \"starter\", \"steamed\", \"stfoodtrende\", \"stfoodtrending\", \"still\", \"substantial\", \"surprisingly\", \"sweet\", \"sweet\", \"tagsforlike\", \"take\", \"taste\", \"tastebud\", \"tasty\", \"tell\", \"tender\", \"texture\", \"thaifood\", \"thin\", \"think\", \"though\", \"throwback\", \"time\", \"tiny\", \"today\", \"tongue\", \"top\", \"tough\", \"try\", \"tslmakan\", \"typical\", \"use\", \"value\", \"vege\", \"vegetable\", \"wanton\", \"wantonmee\", \"warm\", \"weather\", \"weekday\", \"weekend\", \"well\", \"whati_today\", \"white\", \"wish\", \"worth\", \"yum\", \"yummy\", \"zichar\"]}, \"R\": 30, \"lambda.step\": 0.01, \"plot.opts\": {\"xlab\": \"PC1\", \"ylab\": \"PC2\"}, \"topic.order\": [9, 7, 14, 11, 18, 6, 1, 15, 12, 17, 10, 2, 13, 4, 19, 5, 3, 20, 16, 8]};\n",
       "\n",
       "function LDAvis_load_lib(url, callback){\n",
       "  var s = document.createElement('script');\n",
       "  s.src = url;\n",
       "  s.async = true;\n",
       "  s.onreadystatechange = s.onload = callback;\n",
       "  s.onerror = function(){console.warn(\"failed to load library \" + url);};\n",
       "  document.getElementsByTagName(\"head\")[0].appendChild(s);\n",
       "}\n",
       "\n",
       "if(typeof(LDAvis) !== \"undefined\"){\n",
       "   // already loaded: just create the visualization\n",
       "   !function(LDAvis){\n",
       "       new LDAvis(\"#\" + \"ldavis_el229311404629584356808667863010\", ldavis_el229311404629584356808667863010_data);\n",
       "   }(LDAvis);\n",
       "}else if(typeof define === \"function\" && define.amd){\n",
       "   // require.js is available: use it to load d3/LDAvis\n",
       "   require.config({paths: {d3: \"https://d3js.org/d3.v5\"}});\n",
       "   require([\"d3\"], function(d3){\n",
       "      window.d3 = d3;\n",
       "      LDAvis_load_lib(\"https://raw.githubusercontent.com/bmabey/pyLDAvis/master/pyLDAvis/js/ldavis.v3.0.0.js\", function(){\n",
       "        new LDAvis(\"#\" + \"ldavis_el229311404629584356808667863010\", ldavis_el229311404629584356808667863010_data);\n",
       "      });\n",
       "    });\n",
       "}else{\n",
       "    // require.js not available: dynamically load d3 & LDAvis\n",
       "    LDAvis_load_lib(\"https://d3js.org/d3.v5.js\", function(){\n",
       "         LDAvis_load_lib(\"https://raw.githubusercontent.com/bmabey/pyLDAvis/master/pyLDAvis/js/ldavis.v3.0.0.js\", function(){\n",
       "                 new LDAvis(\"#\" + \"ldavis_el229311404629584356808667863010\", ldavis_el229311404629584356808667863010_data);\n",
       "            })\n",
       "         });\n",
       "}\n",
       "</script>"
      ],
      "text/plain": [
       "PreparedData(topic_coordinates=              x         y  topics  cluster       Freq\n",
       "topic                                                \n",
       "8     -0.277610  0.289464       1        1  37.427370\n",
       "6     -0.228888 -0.010851       2        1  16.593293\n",
       "13    -0.173376 -0.165663       3        1   8.344130\n",
       "10    -0.171004 -0.282976       4        1   6.549063\n",
       "17    -0.126754  0.195162       5        1   4.176129\n",
       "5     -0.057855 -0.045098       6        1   3.417627\n",
       "0     -0.048155 -0.059034       7        1   3.312208\n",
       "14    -0.005546 -0.028093       8        1   2.786039\n",
       "11     0.017995 -0.015135       9        1   2.364758\n",
       "16     0.017484 -0.015380      10        1   2.220012\n",
       "9      0.036597 -0.006499      11        1   2.116097\n",
       "1      0.036923 -0.006348      12        1   2.108408\n",
       "12     0.048148 -0.001731      13        1   1.837440\n",
       "3      0.107083  0.016733      14        1   1.315678\n",
       "18     0.118202  0.019301      15        1   1.198659\n",
       "4      0.102187  0.015518      16        1   1.193885\n",
       "2      0.137487  0.023135      17        1   0.872549\n",
       "19     0.146535  0.024678      18        1   0.843251\n",
       "15     0.144211  0.024296      19        1   0.803064\n",
       "7      0.176337  0.028523      20        1   0.520340, topic_info=            Term           Freq          Total Category  logprob  loglift\n",
       "316         food  105136.000000  105136.000000  Default  30.0000  30.0000\n",
       "27           egg   61984.000000   61984.000000  Default  29.0000  29.0000\n",
       "71       burpple   95610.000000   95610.000000  Default  28.0000  28.0000\n",
       "185    singapore   65489.000000   65489.000000  Default  27.0000  27.0000\n",
       "1        chicken   73466.000000   73466.000000  Default  26.0000  26.0000\n",
       "...          ...            ...            ...      ...      ...      ...\n",
       "1128  restaurant       0.088532       2.005904  Topic20 -12.9865   2.1380\n",
       "1089    mushroom       0.088531       2.005817  Topic20 -12.9865   2.1380\n",
       "1943       roast       0.088529       2.005346  Topic20 -12.9865   2.1382\n",
       "1122     truffle       0.088530       2.006293  Topic20 -12.9865   2.1377\n",
       "2684      coffee       0.088530       2.006004  Topic20 -12.9865   2.1379\n",
       "\n",
       "[882 rows x 6 columns], token_table=      Topic      Freq        Term\n",
       "term                             \n",
       "135       1  0.999933         add\n",
       "561      12  0.999768     address\n",
       "136       9  0.999825  affordable\n",
       "395      17  0.997709       ahead\n",
       "287      15  0.998083        alot\n",
       "...     ...       ...         ...\n",
       "457       3  0.999699        wish\n",
       "181       2  0.999943       worth\n",
       "692       5  0.999735         yum\n",
       "480      13  0.999924       yummy\n",
       "66        5  0.998526      zichar\n",
       "\n",
       "[354 rows x 3 columns], R=30, lambda_step=0.01, plot_opts={'xlab': 'PC1', 'ylab': 'PC2'}, topic_order=[9, 7, 14, 11, 18, 6, 1, 15, 12, 17, 10, 2, 13, 4, 19, 5, 3, 20, 16, 8])"
      ]
     },
     "execution_count": 63,
     "metadata": {},
     "output_type": "execute_result"
    }
   ],
   "source": [
    "# Visualize the topics\n",
    "%matplotlib inline\n",
    "import pyLDAvis.gensim\n",
    "pyLDAvis.enable_notebook()\n",
    "pyLDAvis.gensim.prepare(lda_model, corpus, id2word)"
   ]
  },
  {
   "cell_type": "markdown",
   "metadata": {},
   "source": [
    "###### LDA Mallet Model - Higher Coherence Score\n",
    "\n",
    "The difference between Mallet and Gensim’s standard LDA is that Gensim uses a Variational Bayes sampling method which is faster but less precise that Mallet’s Gibbs Sampling. Mallet Model uses an optimized Gibbs sampling algorithm for Latent Dirichlet Allocation. **Mallet’s version often gives a better quality of topics.**"
   ]
  },
  {
   "cell_type": "code",
   "execution_count": 61,
   "metadata": {},
   "outputs": [],
   "source": [
    "# Download File: http://mallet.cs.umass.edu/dist/mallet-2.0.8.zip\n",
    "mallet_path = '/Users/xinminaw/Downloads/mallet-2.0.8/bin/mallet' # update this path\n",
    "ldamallet = gensim.models.wrappers.LdaMallet(mallet_path, corpus=corpus, num_topics=14, id2word=id2word)"
   ]
  },
  {
   "cell_type": "code",
   "execution_count": 62,
   "metadata": {
    "scrolled": false
   },
   "outputs": [
    {
     "name": "stdout",
     "output_type": "stream",
     "text": [
      "[(0,\n",
      "  [('dish', 0.04460098349805767),\n",
      "   ('menu', 0.025717230607741094),\n",
      "   ('pasta', 0.023375468194397897),\n",
      "   ('restaurant', 0.022155053759361252),\n",
      "   ('serve', 0.021558547222029007),\n",
      "   ('crab', 0.021244485476225105),\n",
      "   ('great', 0.01809754462733096),\n",
      "   ('chef', 0.014484780652110221),\n",
      "   ('seafood', 0.012798543090746982),\n",
      "   ('place', 0.011780477163073927)]),\n",
      " (1,\n",
      "  [('meat', 0.04871823956442831),\n",
      "   ('pork', 0.04790459653776351),\n",
      "   ('beef', 0.04509501954488343),\n",
      "   ('tender', 0.03383489808739355),\n",
      "   ('sauce', 0.03195457559681698),\n",
      "   ('grill', 0.01990916864442273),\n",
      "   ('juicy', 0.018537100376937038),\n",
      "   ('raman', 0.017557674856903533),\n",
      "   ('side', 0.014366361859556052),\n",
      "   ('serve', 0.013949724277537344)]),\n",
      " (2,\n",
      "  [('time', 0.04856005118382785),\n",
      "   ('order', 0.04463044105685724),\n",
      "   ('place', 0.03266601946842285),\n",
      "   ('back', 0.018463314556511103),\n",
      "   ('good', 0.017997089626192557),\n",
      "   ('long', 0.017916358036527007),\n",
      "   ('wait', 0.01441664362452545),\n",
      "   ('service', 0.01440049730659234),\n",
      "   ('queue', 0.013801065253325638),\n",
      "   ('visit', 0.012822194728630852)]),\n",
      " (3,\n",
      "  [('flavour', 0.04736459462003577),\n",
      "   ('make', 0.021404094156383877),\n",
      "   ('texture', 0.02058694524501449),\n",
      "   ('bite', 0.016006505146235608),\n",
      "   ('give', 0.014922981712287476),\n",
      "   ('add', 0.013715283688866547),\n",
      "   ('sweetness', 0.01170846209770938),\n",
      "   ('light', 0.011638363539136025),\n",
      "   ('flavor', 0.007340320490609798),\n",
      "   ('provide', 0.006703425015571894)]),\n",
      " (4,\n",
      "  [('cream', 0.052207385017461604),\n",
      "   ('cake', 0.042496519159755435),\n",
      "   ('sweet', 0.03975985855368218),\n",
      "   ('ice', 0.037889494020469636),\n",
      "   ('dessert', 0.035430465649795115),\n",
      "   ('chocolate', 0.0338565204957301),\n",
      "   ('flavour', 0.02110422481113702),\n",
      "   ('waffle', 0.017175624307224073),\n",
      "   ('matcha', 0.016881292388493084),\n",
      "   ('soft', 0.014370077507405266)]),\n",
      " (5,\n",
      "  [('good', 0.11745802358230589),\n",
      "   ('taste', 0.06841646161257145),\n",
      "   ('pretty', 0.0369639842553173),\n",
      "   ('portion', 0.03468994518871486),\n",
      "   ('nice', 0.0321598597386591),\n",
      "   ('price', 0.03190598323981131),\n",
      "   ('worth', 0.027820090527585745),\n",
      "   ('bit', 0.021974421400269933),\n",
      "   ('small', 0.019956428717120823),\n",
      "   ('feel', 0.019444335950214168)]),\n",
      " (6,\n",
      "  [('coffee', 0.038874385489065945),\n",
      "   ('tea', 0.03793185285641634),\n",
      "   ('taste', 0.029605017799627056),\n",
      "   ('drink', 0.029523648075945076),\n",
      "   ('sweet', 0.022428660224896875),\n",
      "   ('cafe', 0.022363112391930836),\n",
      "   ('white', 0.02169407244165678),\n",
      "   ('milk', 0.02130304571396282),\n",
      "   ('hot', 0.01568627450980392),\n",
      "   ('bean', 0.015168672656382437)]),\n",
      " (7,\n",
      "  [('set', 0.032257849343303294),\n",
      "   ('salmon', 0.0263056669134699),\n",
      "   ('bowl', 0.023481882197037916),\n",
      "   ('fresh', 0.02177649410451561),\n",
      "   ('meal', 0.020953816667444874),\n",
      "   ('japanese', 0.01957749954975086),\n",
      "   ('serve', 0.019192842261606977),\n",
      "   ('salad', 0.019043870941921195),\n",
      "   ('rice', 0.016713692687731655),\n",
      "   ('choose', 0.015764278456301375)]),\n",
      " (8,\n",
      "  [('egg', 0.050278350063560254),\n",
      "   ('cheese', 0.04226756673826327),\n",
      "   ('truffle', 0.023887695612150966),\n",
      "   ('burger', 0.023011002498575375),\n",
      "   ('bread', 0.020696532678735807),\n",
      "   ('mushroom', 0.01925218077412002),\n",
      "   ('toast', 0.017406741770043397),\n",
      "   ('tomato', 0.015725682724762196),\n",
      "   ('bun', 0.015118572743611098),\n",
      "   ('butter', 0.014908166396352956)]),\n",
      " (9,\n",
      "  [('singapore', 0.055382027615428014),\n",
      "   ('pm', 0.029156952295785295),\n",
      "   ('road', 0.0133669743327691),\n",
      "   ('open', 0.01216611840354295),\n",
      "   ('day', 0.012136309923030246),\n",
      "   ('outlet', 0.011188826078162094),\n",
      "   ('enjoy', 0.009934740719448968),\n",
      "   ('buffet', 0.009734598064577944),\n",
      "   ('year', 0.008574196501761893),\n",
      "   ('location', 0.00811855258535339)]),\n",
      " (10,\n",
      "  [('nan', 0.17734875289908417),\n",
      "   ('food', 0.12069161132351272),\n",
      "   ('eat', 0.05602125599275987),\n",
      "   ('delicious', 0.04643020166280122),\n",
      "   ('love', 0.04043282436101415),\n",
      "   ('lunch', 0.037641260267177484),\n",
      "   ('dinner', 0.034601674410750426),\n",
      "   ('burpple', 0.03326394001039581),\n",
      "   ('yummy', 0.03182858002263858),\n",
      "   ('tasty', 0.027369465354789853)]),\n",
      " (11,\n",
      "  [('chicken', 0.09030416620203978),\n",
      "   ('fry', 0.06769971093059761),\n",
      "   ('sauce', 0.06055875314159254),\n",
      "   ('rice', 0.056960396634099894),\n",
      "   ('crispy', 0.03370403410504284),\n",
      "   ('spicy', 0.02809420059872535),\n",
      "   ('dish', 0.027260016640790523),\n",
      "   ('curry', 0.02108619757936542),\n",
      "   ('egg', 0.019561506591983257),\n",
      "   ('chilli', 0.01370935229582865)]),\n",
      " (12,\n",
      "  [('noodle', 0.05447448159401392),\n",
      "   ('soup', 0.051926904288040525),\n",
      "   ('prawn', 0.03486125582043428),\n",
      "   ('fish', 0.028075341739298616),\n",
      "   ('stall', 0.023077930909703462),\n",
      "   ('broth', 0.019648579907621727),\n",
      "   ('bowl', 0.017745695634180377),\n",
      "   ('pork', 0.015570376563120648),\n",
      "   ('ingredient', 0.014719797691167082),\n",
      "   ('dry', 0.010726860199355722)]),\n",
      " (13,\n",
      "  [('burpple', 0.07942664362924616),\n",
      "   ('sgfoodie', 0.05136208202327129),\n",
      "   ('sgfood', 0.04656225513178213),\n",
      "   ('foodporn', 0.03624623374238962),\n",
      "   ('instafood', 0.027443272537711755),\n",
      "   ('foodstagram', 0.025517112497582053),\n",
      "   ('foodie', 0.024817137742573218),\n",
      "   ('foodgasm', 0.018641950618174426),\n",
      "   ('igsg', 0.01855670779086656),\n",
      "   ('sgeat', 0.017143643999724602)])]\n",
      "\n",
      "Coherence Score:  0.7414597379048917\n"
     ]
    }
   ],
   "source": [
    "# Show Topics\n",
    "pprint(ldamallet.show_topics(num_topics=-1, formatted=False))\n",
    "\n",
    "# Compute Coherence Score\n",
    "coherence_model_ldamallet = CoherenceModel(model=ldamallet, texts=data_lemmatized, dictionary=id2word, coherence='c_v')\n",
    "coherence_ldamallet = coherence_model_ldamallet.get_coherence()\n",
    "print('\\nCoherence Score: ', coherence_ldamallet)"
   ]
  },
  {
   "cell_type": "markdown",
   "metadata": {},
   "source": [
    "###### Determining Optimal No of Topics"
   ]
  },
  {
   "cell_type": "code",
   "execution_count": 56,
   "metadata": {},
   "outputs": [],
   "source": [
    "def compute_coherence_values(dictionary, corpus, texts, limit, start=2, step=3):\n",
    "    \"\"\"\n",
    "    Compute c_v coherence for various number of topics\n",
    "\n",
    "    Parameters:\n",
    "    ----------\n",
    "    dictionary : Gensim dictionary\n",
    "    corpus : Gensim corpus\n",
    "    texts : List of input texts\n",
    "    limit : Max num of topics\n",
    "\n",
    "    Returns:\n",
    "    -------\n",
    "    model_list : List of LDA topic models\n",
    "    coherence_values : Coherence values corresponding to the LDA model with respective number of topics\n",
    "    \"\"\"\n",
    "    coherence_values = []\n",
    "    model_list = []\n",
    "    for num_topics in range(start, limit, step):\n",
    "        model = gensim.models.wrappers.LdaMallet(mallet_path, corpus=corpus, num_topics=num_topics, id2word=id2word)\n",
    "        model_list.append(model)\n",
    "        coherencemodel = CoherenceModel(model=model, texts=texts, dictionary=dictionary, coherence='c_v')\n",
    "        coherence_values.append(coherencemodel.get_coherence())\n",
    "\n",
    "    return model_list, coherence_values"
   ]
  },
  {
   "cell_type": "code",
   "execution_count": 57,
   "metadata": {},
   "outputs": [
    {
     "name": "stderr",
     "output_type": "stream",
     "text": [
      "  0%|          | 0/540 [3:27:12<?, ?it/s]\n"
     ]
    }
   ],
   "source": [
    "model_list, coherence_values = compute_coherence_values(dictionary=id2word, corpus=corpus, texts=data_lemmatized, start=2, limit=40, step=6)"
   ]
  },
  {
   "cell_type": "code",
   "execution_count": 58,
   "metadata": {},
   "outputs": [
    {
     "data": {
      "image/png": "[encoded data removed]",
      "text/plain": [
       "<Figure size 432x288 with 1 Axes>"
      ]
     },
     "metadata": {
      "needs_background": "light"
     },
     "output_type": "display_data"
    }
   ],
   "source": [
    "# Show graph\n",
    "limit=40; start=2; step=6;\n",
    "x = range(start, limit, step)\n",
    "plt.plot(x, coherence_values)\n",
    "plt.xlabel(\"Num Topics\")\n",
    "plt.ylabel(\"Coherence score\")\n",
    "plt.legend((\"coherence_values\"), loc='best')\n",
    "plt.show()\n",
    "\n",
    "# 14 topics"
   ]
  },
  {
   "cell_type": "code",
   "execution_count": 59,
   "metadata": {},
   "outputs": [
    {
     "name": "stdout",
     "output_type": "stream",
     "text": [
      "Num Topics = 2  has Coherence Value of 0.6166\n",
      "Num Topics = 8  has Coherence Value of 0.7384\n",
      "Num Topics = 14  has Coherence Value of 0.7466\n",
      "Num Topics = 20  has Coherence Value of 0.7449\n",
      "Num Topics = 26  has Coherence Value of 0.7349\n",
      "Num Topics = 32  has Coherence Value of 0.7367\n",
      "Num Topics = 38  has Coherence Value of 0.7458\n"
     ]
    }
   ],
   "source": [
    "# Print the coherence scores\n",
    "for m, cv in zip(x, coherence_values):\n",
    "    print(\"Num Topics =\", m, \" has Coherence Value of\", round(cv, 4))"
   ]
  },
  {
   "cell_type": "code",
   "execution_count": null,
   "metadata": {},
   "outputs": [],
   "source": [
    "# Select the model and print the topics\n",
    "# pick the model that gave the highest CV before flattening out\n",
    "optimal_model = model_list[3]\n",
    "model_topics = optimal_model.show_topics(formatted=False)\n",
    "pprint(optimal_model.print_topics(num_words=10))"
   ]
  },
  {
   "cell_type": "markdown",
   "metadata": {},
   "source": [
    "###### Hyperparameter tuning to improve coherence score + determine optimal no. of topics\n",
    "\n",
    "https://towardsdatascience.com/evaluate-topic-model-in-python-latent-dirichlet-allocation-lda-7d57484bb5d0#:~:text=But%20before%20that%E2%80%A6-,What%20is%20topic%20coherence%3F,are%20artifacts%20of%20statistical%20inference.\n",
    "\n",
    "Now that we have the baseline coherence score for the default LDA model, let’s perform a series of sensitivity tests to help determine the following model hyperparameters:\n",
    "Number of Topics (K)\n",
    "Dirichlet hyperparameter alpha: Document-Topic Density\n",
    "Dirichlet hyperparameter beta: Word-Topic Density"
   ]
  },
  {
   "cell_type": "markdown",
   "metadata": {},
   "source": [
    "Reference for subsequent : https://towardsdatascience.com/yelp-review-analysis-for-chipotle-with-natural-language-processing-bf4b3e5db140"
   ]
  },
  {
   "cell_type": "code",
   "execution_count": 60,
   "metadata": {},
   "outputs": [],
   "source": [
    "# List of food"
   ]
  },
  {
   "cell_type": "code",
   "execution_count": null,
   "metadata": {},
   "outputs": [],
   "source": [
    ">>> from nltk.corpus import wordnet as wn\n",
    ">>> food = wn.synset('food.n.02')\n",
    ">>> list(set([w for s in food.closure(lambda s:s.hyponyms()) for w in s.lemma_names()]))"
   ]
  },
  {
   "cell_type": "code",
   "execution_count": null,
   "metadata": {},
   "outputs": [],
   "source": [
    "# determine optimal topics\n",
    "# try out removing food names\n",
    "# determine topics"
   ]
  },
  {
   "cell_type": "code",
   "execution_count": null,
   "metadata": {},
   "outputs": [],
   "source": []
  },
  {
   "cell_type": "code",
   "execution_count": null,
   "metadata": {},
   "outputs": [],
   "source": []
  }
 ],
 "metadata": {
  "kernelspec": {
   "display_name": "Python 3",
   "language": "python",
   "name": "python3"
  },
  "language_info": {
   "codemirror_mode": {
    "name": "ipython",
    "version": 3
   },
   "file_extension": ".py",
   "mimetype": "text/x-python",
   "name": "python",
   "nbconvert_exporter": "python",
   "pygments_lexer": "ipython3",
   "version": "3.8.5"
  }
 },
 "nbformat": 4,
 "nbformat_minor": 4
}
